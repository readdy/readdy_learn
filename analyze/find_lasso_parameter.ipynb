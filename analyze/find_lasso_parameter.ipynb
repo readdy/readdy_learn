{
 "cells": [
  {
   "cell_type": "code",
   "execution_count": 10,
   "metadata": {
    "collapsed": true
   },
   "outputs": [],
   "source": [
    "%matplotlib inline\n",
    "import matplotlib.pyplot as plt\n",
    "\n",
    "from scipy.integrate import odeint\n",
    "import py_analyze_tools.tools as pat\n",
    "import numpy as np\n",
    "from pprint import pprint\n",
    "import math"
   ]
  },
  {
   "cell_type": "code",
   "execution_count": 2,
   "metadata": {},
   "outputs": [
    {
     "name": "stdout",
     "output_type": "stream",
     "text": [
      "max counts = 6000.0, min nonzero counts = 1.0\n"
     ]
    }
   ],
   "source": [
    "traj = pat.Trajectory(\"../generate/simple_trajectory_.h5\")\n",
    "traj.counts = traj.counts[:45*500]\n",
    "traj.add_fusion(0, 1, 2)\n",
    "traj.add_fission(2, 0, 1)\n",
    "traj.add_conversion(0, 1)\n",
    "traj.add_conversion(0, 3)\n",
    "traj.add_conversion(3, 0)\n",
    "xi = traj.estimate(.003)"
   ]
  },
  {
   "cell_type": "code",
   "execution_count": 20,
   "metadata": {
    "collapsed": true
   },
   "outputs": [],
   "source": [
    "def magnitude(x):\n",
    "    return math.floor(math.log10(x))"
   ]
  },
  {
   "cell_type": "code",
   "execution_count": 21,
   "metadata": {},
   "outputs": [
    {
     "name": "stdout",
     "output_type": "stream",
     "text": [
      "norm of coefficients for alpha=0: 0.012067573144616576\n",
      "quotient = 0.220080932430265, order of magnitude = -1\n"
     ]
    }
   ],
   "source": [
    "cv = pat.CV(traj)\n",
    "result = cv.calculate_cost([0], range(0, 6000), range(6000, traj.n_time_steps))\n",
    "norm_of_coeff = np.linalg.norm(result.coefficients[0], ord=1)\n",
    "print(\"norm of coefficients for alpha=0: {}\".format(norm_of_coeff))\n",
    "quotient = result.costs_test[0]/norm_of_coeff\n",
    "print(\"quotient = {}, order of magnitude = {}\".format(quotient, magnitude(quotient)))"
   ]
  },
  {
   "cell_type": "code",
   "execution_count": 29,
   "metadata": {
    "collapsed": true
   },
   "outputs": [],
   "source": [
    "search_grid = np.linspace(0, 10**(magnitude(quotient)+1), num=500)"
   ]
  },
  {
   "cell_type": "code",
   "execution_count": null,
   "metadata": {},
   "outputs": [],
   "source": [
    "cv_result = cv.calculate_cost(search_grid, range(0, 6000), range(6000, traj.n_time_steps))\n",
    "min_idx = np.argmin(cv_result.costs_test)\n",
    "print(\"best suited alpha found at idx={}, alpha={}, costs_test={}\".format(min_idx, cv_result.alphas[min_idx], cv_result.costs_test[min_idx]))"
   ]
  },
  {
   "cell_type": "code",
   "execution_count": null,
   "metadata": {
    "collapsed": true
   },
   "outputs": [],
   "source": []
  }
 ],
 "metadata": {
  "kernelspec": {
   "display_name": "Python 3",
   "language": "python",
   "name": "python3"
  },
  "language_info": {
   "codemirror_mode": {
    "name": "ipython",
    "version": 3
   },
   "file_extension": ".py",
   "mimetype": "text/x-python",
   "name": "python",
   "nbconvert_exporter": "python",
   "pygments_lexer": "ipython3",
   "version": "3.6.1"
  }
 },
 "nbformat": 4,
 "nbformat_minor": 2
}
