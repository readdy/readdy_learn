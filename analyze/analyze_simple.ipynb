{
 "cells": [
  {
   "cell_type": "code",
   "execution_count": 1,
   "metadata": {},
   "outputs": [],
   "source": [
    "import os\n",
    "import numpy as np\n",
    "import sklearn as sk\n",
    "import h5py\n",
    "import analyze_tools as at\n",
    "at.log.set_level(\"debug\")"
   ]
  },
  {
   "cell_type": "code",
   "execution_count": 2,
   "metadata": {
    "collapsed": true
   },
   "outputs": [],
   "source": [
    "def get_count_trajectory(fname, cache_fname=None):\n",
    "    if cache_fname and os.path.exists(cache_fname):\n",
    "        return np.load(cache_fname)\n",
    "    else:\n",
    "        dtraj = []\n",
    "        if os.path.exists(fname):\n",
    "            with h5py.File(fname) as f:\n",
    "                traj = f[\"readdy/trajectory\"]\n",
    "                traj_time = traj[\"time\"]\n",
    "                traj_time_records = traj[\"records\"]\n",
    "                for time, records in zip(traj_time, traj_time_records):\n",
    "                    current_counts = [0]*4\n",
    "                    for record in records:\n",
    "                        type_id = record[\"typeId\"]\n",
    "                        current_counts[type_id] += 1\n",
    "                    dtraj.append(current_counts)\n",
    "        else:\n",
    "            log.warn(\"file {} did not exist\".format(fname))\n",
    "        dtraj = np.array(dtraj)\n",
    "        if cache_fname:\n",
    "            np.save(cache_fname, dtraj)\n",
    "        return dtraj\n",
    "def get_count_trajectory_n_particles_obs(fname, cache_fname=None):\n",
    "    with h5py.File(fname) as f:\n",
    "        return f[\"readdy/observables/n_particles/data\"][:].astype(np.double)"
   ]
  },
  {
   "cell_type": "code",
   "execution_count": 3,
   "metadata": {},
   "outputs": [],
   "source": [
    "counts = get_count_trajectory_n_particles_obs(\"../generate/simple_trajectory_.h5\", cache_fname='counts_traj_2.npy')\n",
    "counts = counts[:45*500]\n",
    "n_timesteps = counts.shape[0]"
   ]
  },
  {
   "cell_type": "code",
   "execution_count": 4,
   "metadata": {},
   "outputs": [
    {
     "name": "stdout",
     "output_type": "stream",
     "text": [
      "(22500, 4)\n",
      "max counts = 6000.0, min counts = 1.0\n"
     ]
    }
   ],
   "source": [
    "time_step = .01\n",
    "dcounts_dt = np.gradient(counts, axis=0) / time_step\n",
    "print(counts.shape)\n",
    "print(\"max counts = {}, min counts = {}\".format(np.max(counts), np.min(counts[np.nonzero(counts)])))"
   ]
  },
  {
   "cell_type": "markdown",
   "metadata": {},
   "source": [
    "# mean field model"
   ]
  },
  {
   "cell_type": "code",
   "execution_count": 5,
   "metadata": {
    "collapsed": true
   },
   "outputs": [],
   "source": [
    "theta1 = lambda x: x[:,0]\n",
    "theta2 = lambda x: x[:,1]\n",
    "theta3 = lambda x: x[:,2]\n",
    "theta4 = lambda x: x[:,0]*x[:,1]\n",
    "theta5 = lambda x: x[:,0]*x[:,2]\n",
    "theta6 = lambda x: x[:,1]*x[:,2]"
   ]
  },
  {
   "cell_type": "code",
   "execution_count": 7,
   "metadata": {
    "collapsed": true
   },
   "outputs": [],
   "source": [
    "theta = np.array([theta1(counts), theta2(counts), theta3(counts), theta4(counts), theta5(counts), theta6(counts)])"
   ]
  },
  {
   "cell_type": "code",
   "execution_count": 8,
   "metadata": {},
   "outputs": [
    {
     "name": "stdout",
     "output_type": "stream",
     "text": [
      "(6, 22500)\n"
     ]
    }
   ],
   "source": [
    "# theta in R^(species x ansatz functions * n_timesteps)\n",
    "print(theta.shape)"
   ]
  },
  {
   "cell_type": "code",
   "execution_count": 9,
   "metadata": {},
   "outputs": [
    {
     "name": "stderr",
     "output_type": "stream",
     "text": [
      "/home/mho/miniconda2/envs/readdy_dev/lib/python3.6/site-packages/sklearn/linear_model/coordinate_descent.py:484: ConvergenceWarning: Objective did not converge. You might want to increase the number of iterations. Fitting data with very small alpha may cause precision problems.\n",
      "  ConvergenceWarning)\n"
     ]
    },
    {
     "data": {
      "text/plain": [
       "Lasso(alpha=1, copy_X=True, fit_intercept=True, max_iter=1000,\n",
       "   normalize=False, positive=True, precompute=False, random_state=None,\n",
       "   selection='cyclic', tol=0.0001, warm_start=False)"
      ]
     },
     "execution_count": 9,
     "metadata": {},
     "output_type": "execute_result"
    }
   ],
   "source": [
    "from sklearn import linear_model\n",
    "clf = linear_model.Lasso(alpha=1, positive=True)\n",
    "clf.fit(theta.T, dcounts_dt)"
   ]
  },
  {
   "cell_type": "code",
   "execution_count": 10,
   "metadata": {},
   "outputs": [
    {
     "name": "stdout",
     "output_type": "stream",
     "text": [
      "(22500, 4)\n",
      "(6, 22500)\n"
     ]
    }
   ],
   "source": [
    "print(dcounts_dt.shape)\n",
    "print(theta.shape)"
   ]
  },
  {
   "cell_type": "code",
   "execution_count": 11,
   "metadata": {},
   "outputs": [
    {
     "name": "stdout",
     "output_type": "stream",
     "text": [
      "[[  0.00000000e+00   0.00000000e+00   3.64252109e-04   0.00000000e+00\n",
      "    0.00000000e+00   3.69458475e-08]\n",
      " [  0.00000000e+00   0.00000000e+00   1.28981969e-04   0.00000000e+00\n",
      "    0.00000000e+00   3.89371597e-08]\n",
      " [  0.00000000e+00   0.00000000e+00   0.00000000e+00   1.91796602e-08\n",
      "    1.86586066e-09   0.00000000e+00]\n",
      " [  0.00000000e+00   0.00000000e+00   0.00000000e+00   1.95457237e-08\n",
      "    1.00287058e-08   7.51698880e-09]]\n"
     ]
    }
   ],
   "source": [
    "print(clf.coef_)"
   ]
  },
  {
   "cell_type": "markdown",
   "metadata": {},
   "source": [
    "# Simon way (solve for all times indepdenently, use markov property)"
   ]
  },
  {
   "cell_type": "code",
   "execution_count": 12,
   "metadata": {
    "collapsed": true
   },
   "outputs": [],
   "source": [
    "from sklearn import linear_model\n",
    "clf = linear_model.Lasso(alpha=15, warm_start=False, max_iter=1000, tol=1e-6, positive=True)"
   ]
  },
  {
   "cell_type": "code",
   "execution_count": 13,
   "metadata": {
    "collapsed": true
   },
   "outputs": [],
   "source": [
    "theta1 = lambda x: np.array([-x[0]*x[1], -x[0]*x[1], x[0]*x[1], 0])\n",
    "theta2 = lambda x: np.array([x[2], x[2], -x[2], 0])\n",
    "theta3 = lambda x: np.array([-x[0], x[0], 0, 0])\n",
    "theta5 = lambda x: np.array([-x[0], 0, 0, x[0]])"
   ]
  },
  {
   "cell_type": "code",
   "execution_count": 12,
   "metadata": {
    "collapsed": true
   },
   "outputs": [],
   "source": []
  },
  {
   "cell_type": "code",
   "execution_count": 15,
   "metadata": {
    "collapsed": true
   },
   "outputs": [],
   "source": [
    "alphas = []\n",
    "for i in range(0, n_timesteps):\n",
    "    c = counts[i]\n",
    "    theta = np.array([theta1(c), theta2(c), theta3(c), theta5(c)])\n",
    "    dc = dcounts_dt[i]\n",
    "    clf.fit(theta.T, dc)\n",
    "    alphas.append(clf.coef_)"
   ]
  },
  {
   "cell_type": "code",
   "execution_count": 16,
   "metadata": {},
   "outputs": [
    {
     "name": "stdout",
     "output_type": "stream",
     "text": [
      "xi = [  1.70342302e-06   0.00000000e+00   0.00000000e+00   1.03512901e-02]\n"
     ]
    }
   ],
   "source": [
    "xi = np.sum(alphas, axis=0) / len(alphas)\n",
    "print(\"xi = %s\" % xi)"
   ]
  },
  {
   "cell_type": "code",
   "execution_count": 17,
   "metadata": {
    "collapsed": true
   },
   "outputs": [],
   "source": [
    "from scipy.integrate import odeint"
   ]
  },
  {
   "cell_type": "code",
   "execution_count": 18,
   "metadata": {
    "collapsed": true
   },
   "outputs": [],
   "source": [
    "def fun(data, _):\n",
    "    theta = np.array([theta1(data), theta2(data), theta3(data), theta5(data)])\n",
    "    return np.matmul(xi, theta)"
   ]
  },
  {
   "cell_type": "code",
   "execution_count": 19,
   "metadata": {
    "collapsed": true
   },
   "outputs": [],
   "source": [
    "num_solution = odeint(fun, counts[0], np.arange(0, n_timesteps*.01, .01))"
   ]
  },
  {
   "cell_type": "code",
   "execution_count": 20,
   "metadata": {
    "collapsed": true
   },
   "outputs": [],
   "source": [
    "%matplotlib inline\n",
    "import matplotlib.pyplot as plt"
   ]
  },
  {
   "cell_type": "code",
   "execution_count": 21,
   "metadata": {},
   "outputs": [
    {
     "data": {
      "text/plain": [
       "[<matplotlib.lines.Line2D at 0x7f3ab4f02c88>]"
      ]
     },
     "execution_count": 21,
     "metadata": {},
     "output_type": "execute_result"
    },
    {
     "data": {
      "image/png": "[encoded data removed]",
      "text/plain": [
       "<matplotlib.figure.Figure at 0x7f3a76c66a20>"
      ]
     },
     "metadata": {},
     "output_type": "display_data"
    }
   ],
   "source": [
    "plt.plot(np.arange(0, n_timesteps*.01, .01), counts[:,0])\n",
    "plt.plot(np.arange(0, n_timesteps*.01, .01), num_solution[:, 0])"
   ]
  },
  {
   "cell_type": "code",
   "execution_count": 22,
   "metadata": {},
   "outputs": [
    {
     "data": {
      "text/plain": [
       "[<matplotlib.lines.Line2D at 0x7f3a76924cc0>]"
      ]
     },
     "execution_count": 22,
     "metadata": {},
     "output_type": "execute_result"
    },
    {
     "data": {
      "image/png": "[encoded data removed]",
      "text/plain": [
       "<matplotlib.figure.Figure at 0x7f3a81250d30>"
      ]
     },
     "metadata": {},
     "output_type": "display_data"
    }
   ],
   "source": [
    "plt.plot(np.arange(0, n_timesteps * .01, .01), counts[:,1])\n",
    "plt.plot(np.arange(0, n_timesteps * .01, .01), num_solution[:, 1])"
   ]
  },
  {
   "cell_type": "code",
   "execution_count": 23,
   "metadata": {},
   "outputs": [
    {
     "data": {
      "text/plain": [
       "[<matplotlib.lines.Line2D at 0x7f3a768b9860>]"
      ]
     },
     "execution_count": 23,
     "metadata": {},
     "output_type": "execute_result"
    },
    {
     "data": {
      "image/png": "[encoded data removed]",
      "text/plain": [
       "<matplotlib.figure.Figure at 0x7f3a768b9518>"
      ]
     },
     "metadata": {},
     "output_type": "display_data"
    }
   ],
   "source": [
    "plt.plot(np.arange(0, n_timesteps * .01, .01), counts[:,2])\n",
    "plt.plot(np.arange(0, n_timesteps * .01, .01), num_solution[:, 2])"
   ]
  },
  {
   "cell_type": "code",
   "execution_count": 24,
   "metadata": {},
   "outputs": [
    {
     "data": {
      "text/plain": [
       "[<matplotlib.lines.Line2D at 0x7f3a768541d0>]"
      ]
     },
     "execution_count": 24,
     "metadata": {},
     "output_type": "execute_result"
    },
    {
     "data": {
      "image/png": "[encoded data removed]",
      "text/plain": [
       "<matplotlib.figure.Figure at 0x7f3a767a9128>"
      ]
     },
     "metadata": {},
     "output_type": "display_data"
    }
   ],
   "source": [
    "plt.plot(np.arange(0, n_timesteps * .01, .01), counts[:,3])\n",
    "plt.plot(np.arange(0, n_timesteps * .01, .01), num_solution[:, 3])"
   ]
  },
  {
   "cell_type": "code",
   "execution_count": 25,
   "metadata": {
    "collapsed": true
   },
   "outputs": [],
   "source": [
    "diffusion_coeff = 0.2 \n",
    "micro_rate = 0.05\n",
    "reaction_radius = 0.7\n",
    "tmp = np.sqrt(micro_rate / diffusion_coeff) * reaction_radius\n",
    "rate_chapman = 4. * np.pi * diffusion_coeff * reaction_radius * (1. - np.tanh(tmp) / tmp)"
   ]
  },
  {
   "cell_type": "code",
   "execution_count": 26,
   "metadata": {},
   "outputs": [
    {
     "name": "stdout",
     "output_type": "stream",
     "text": [
      "erban chapman rate (per volume): 0.06848398371542153\n",
      "lasso fitted rate (per counts): 1.703423022972958e-06\n",
      "lasso fitted rate (per volume): 0.005749052702533734\n"
     ]
    }
   ],
   "source": [
    "print(\"erban chapman rate (per volume): {}\".format(rate_chapman))\n",
    "print(\"lasso fitted rate (per counts): {}\".format(xi[0]))\n",
    "print(\"lasso fitted rate (per volume): {}\".format(xi[0] * 15 * 15 * 15))"
   ]
  },
  {
   "cell_type": "markdown",
   "metadata": {
    "collapsed": true
   },
   "source": [
    "### Objective function is sum over all timesteps and species + l1 penalty"
   ]
  },
  {
   "cell_type": "code",
   "execution_count": 27,
   "metadata": {
    "collapsed": true
   },
   "outputs": [],
   "source": [
    "import scipy.optimize as so\n",
    "%matplotlib inline\n",
    "import matplotlib.pyplot as plt"
   ]
  },
  {
   "cell_type": "code",
   "execution_count": 28,
   "metadata": {},
   "outputs": [
    {
     "name": "stdout",
     "output_type": "stream",
     "text": [
      "(22500, 4)\n"
     ]
    }
   ],
   "source": [
    "print(counts.shape)\n",
    "n_timesteps = counts.shape[0]"
   ]
  },
  {
   "cell_type": "code",
   "execution_count": 18,
   "metadata": {
    "collapsed": true
   },
   "outputs": [],
   "source": [
    "theta1 = lambda x: np.array([-x[0]*x[1], -x[0]*x[1], x[0]*x[1], 0]) / (4.*n_timesteps)\n",
    "theta2 = lambda x: np.array([x[2], x[2], -x[2], 0]) / (4.*n_timesteps)\n",
    "theta3 = lambda x: np.array([-x[0], x[0], 0, 0]) / (4.*n_timesteps)\n",
    "theta4 = lambda x: np.array([-x[0], 0, 0, x[0]]) / (4.*n_timesteps)"
   ]
  },
  {
   "cell_type": "code",
   "execution_count": 19,
   "metadata": {
    "collapsed": true
   },
   "outputs": [],
   "source": [
    "dc = dcounts_dt / (4.*n_timesteps)\n",
    "cnts = counts\n",
    "def objective_fun(alpha, k_reg, counts=cnts, dcounts_dt=dc, theta=[theta1, theta2, theta3, theta4]):\n",
    "    n_timesteps = counts.shape[0]\n",
    "    n_species = counts.shape[1]\n",
    "    n_reactions = 4\n",
    "    result = 0.\n",
    "    for t_idx in range(n_timesteps):\n",
    "        for s_idx in range(n_species):\n",
    "            reaction_term = 0.\n",
    "            for r_idx in range(n_reactions):\n",
    "                #print(\"t s r\", t_idx, s_idx, r_idx)\n",
    "                reaction_term += theta[r_idx](counts[t_idx])[s_idx] * alpha[r_idx]\n",
    "            result += (dcounts_dt[t_idx, s_idx] - reaction_term) * (dcounts_dt[t_idx, s_idx] - reaction_term)\n",
    "    regularization = 0.\n",
    "    for r_idx in range(n_reactions):\n",
    "        regularization += k_reg * abs(alpha[r_idx])\n",
    "    return result + regularization"
   ]
  },
  {
   "cell_type": "code",
   "execution_count": 20,
   "metadata": {},
   "outputs": [
    {
     "data": {
      "text/plain": [
       "12463883.206688292"
      ]
     },
     "execution_count": 20,
     "metadata": {},
     "output_type": "execute_result"
    }
   ],
   "source": [
    "init_xi = np.array([0.1,0.1,0.1,0.1])\n",
    "objective_fun(init_xi, 10000000.)"
   ]
  },
  {
   "cell_type": "code",
   "execution_count": 32,
   "metadata": {},
   "outputs": [
    {
     "name": "stdout",
     "output_type": "stream",
     "text": [
      "[  0.1  21.1   0.1   0.1]\n",
      "[ 0.          0.          0.09999999  0.09995491]\n",
      "[ 0.          0.00828154  0.09999999  0.09995491]\n",
      "[ 0.          0.00898156  0.09999996  0.09995488]\n",
      "[ 0.          0.00910013  0.09999937  0.09995434]\n",
      "[ 0.          0.00967981  0.099993    0.09994851]\n",
      "[ 0.          0.0105161   0.09997535  0.09993235]\n",
      "[ 0.          0.01192354  0.09992284  0.09988426]\n",
      "[ 0.          0.01415269  0.09978046  0.09975388]\n",
      "[ 0.          0.01774286  0.09939509  0.09940098]\n",
      "[ 0.          0.0233973   0.09837837  0.09846993]\n",
      "[ 0.          0.03205838  0.09573987  0.09605374]\n",
      "[ 0.          0.04426377  0.08915894  0.09002733]\n",
      "[ 0.          0.02556437  0.07601122  0.07798742]\n",
      "[ 0.          0.          0.00452816  0.01252751]\n",
      "[  1.96116300e-06   0.00000000e+00   3.98521390e-03   1.10254130e-02]\n",
      "[  2.01189180e-06   0.00000000e+00   1.38033702e-03   8.64011572e-03]\n",
      "[  2.02863626e-06   0.00000000e+00   1.22956393e-03   8.67040312e-03]\n",
      "[  2.04335034e-06   4.58405336e-05   6.25151117e-04   9.08731906e-03]\n",
      "[  2.00317537e-06   8.16039513e-05   8.33385898e-05   9.73823335e-03]\n",
      "[  2.00364056e-06   8.87538167e-05   8.42042311e-05   9.73842011e-03]\n",
      "[  1.94736950e-06   8.38075859e-05   0.00000000e+00   1.01700674e-02]\n",
      "[  1.92649967e-06   7.14418670e-05   0.00000000e+00   1.02268451e-02]\n",
      "[  1.92708641e-06   7.02381636e-05   0.00000000e+00   1.02073519e-02]\n",
      "[  1.92708641e-06   7.02381627e-05   0.00000000e+00   1.02073519e-02]\n"
     ]
    }
   ],
   "source": [
    "bounds = ((0., None), (0., None), (0., None), (0., None))\n",
    "result = so.minimize(\n",
    "    lambda x: objective_fun(x, 10000000.), \n",
    "    init_xi,\n",
    "    bounds=bounds, \n",
    "    callback=lambda x: print(x))"
   ]
  },
  {
   "cell_type": "code",
   "execution_count": 33,
   "metadata": {},
   "outputs": [
    {
     "name": "stdout",
     "output_type": "stream",
     "text": [
      "      fun: 71306446.904473275\n",
      " hess_inv: <4x4 LbfgsInvHessProduct with dtype=float64>\n",
      "      jac: array([  4.90945941e+08,  -6.10053539e+03,   6.58568591e+06,\n",
      "         1.78176165e+05])\n",
      "  message: b'CONVERGENCE: REL_REDUCTION_OF_F_<=_FACTR*EPSMCH'\n",
      "     nfev: 195\n",
      "      nit: 25\n",
      "   status: 0\n",
      "  success: True\n",
      "        x: array([  1.92708641e-06,   7.02381627e-05,   0.00000000e+00,\n",
      "         1.02073519e-02])\n",
      "[  1.92708641e-06   7.02381627e-05   0.00000000e+00   1.02073519e-02]\n"
     ]
    }
   ],
   "source": [
    "print(result)\n",
    "print(result.x)\n",
    "xi = result.x"
   ]
  },
  {
   "cell_type": "code",
   "execution_count": 34,
   "metadata": {
    "collapsed": true
   },
   "outputs": [],
   "source": [
    "from scipy.integrate import odeint\n",
    "\n",
    "def fun(data, _):\n",
    "    theta = np.array([theta1(data), theta2(data), theta3(data), theta4(data)])\n",
    "    return np.matmul(xi, theta)\n",
    "\n",
    "num_solution = odeint(fun, counts[0], np.arange(0, n_timesteps*.01, .01))"
   ]
  },
  {
   "cell_type": "code",
   "execution_count": 35,
   "metadata": {},
   "outputs": [
    {
     "data": {
      "text/plain": [
       "[<matplotlib.lines.Line2D at 0x7f3a766c8fd0>]"
      ]
     },
     "execution_count": 35,
     "metadata": {},
     "output_type": "execute_result"
    },
    {
     "data": {
      "image/png": "[encoded data removed]",
      "text/plain": [
       "<matplotlib.figure.Figure at 0x7f3a7674e358>"
      ]
     },
     "metadata": {},
     "output_type": "display_data"
    }
   ],
   "source": [
    "plt.plot(np.arange(0, n_timesteps*.01, .01), counts[:,0])\n",
    "plt.plot(np.arange(0, n_timesteps*.01, .01), num_solution[:, 0])"
   ]
  },
  {
   "cell_type": "code",
   "execution_count": 36,
   "metadata": {},
   "outputs": [
    {
     "data": {
      "text/plain": [
       "[<matplotlib.lines.Line2D at 0x7f3a766796a0>]"
      ]
     },
     "execution_count": 36,
     "metadata": {},
     "output_type": "execute_result"
    },
    {
     "data": {
      "image/png": "[encoded data removed]",
      "text/plain": [
       "<matplotlib.figure.Figure at 0x7f3a76679748>"
      ]
     },
     "metadata": {},
     "output_type": "display_data"
    }
   ],
   "source": [
    "plt.plot(np.arange(0, n_timesteps * .01, .01), counts[:,1])\n",
    "plt.plot(np.arange(0, n_timesteps * .01, .01), num_solution[:, 1])"
   ]
  },
  {
   "cell_type": "code",
   "execution_count": 37,
   "metadata": {},
   "outputs": [
    {
     "data": {
      "text/plain": [
       "[<matplotlib.lines.Line2D at 0x7f3a76606fd0>]"
      ]
     },
     "execution_count": 37,
     "metadata": {},
     "output_type": "execute_result"
    },
    {
     "data": {
      "image/png": "[encoded data removed]",
      "text/plain": [
       "<matplotlib.figure.Figure at 0x7f3a766066d8>"
      ]
     },
     "metadata": {},
     "output_type": "display_data"
    }
   ],
   "source": [
    "plt.plot(np.arange(0, n_timesteps * .01, .01), counts[:,2])\n",
    "plt.plot(np.arange(0, n_timesteps * .01, .01), num_solution[:, 2])"
   ]
  },
  {
   "cell_type": "code",
   "execution_count": 38,
   "metadata": {},
   "outputs": [
    {
     "data": {
      "text/plain": [
       "[<matplotlib.lines.Line2D at 0x7f3a76524be0>]"
      ]
     },
     "execution_count": 38,
     "metadata": {},
     "output_type": "execute_result"
    },
    {
     "data": {
      "image/png": "[encoded data removed]",
      "text/plain": [
       "<matplotlib.figure.Figure at 0x7f3a7680b1d0>"
      ]
     },
     "metadata": {},
     "output_type": "display_data"
    }
   ],
   "source": [
    "plt.plot(np.arange(0, n_timesteps * .01, .01), counts[:,3])\n",
    "plt.plot(np.arange(0, n_timesteps * .01, .01), num_solution[:, 3])"
   ]
  },
  {
   "cell_type": "markdown",
   "metadata": {
    "collapsed": true
   },
   "source": [
    "# Sequential thresholded least squares "
   ]
  },
  {
   "cell_type": "code",
   "execution_count": 24,
   "metadata": {
    "collapsed": true
   },
   "outputs": [],
   "source": [
    "theta1 = lambda x: np.array([-x[:,0]*x[:,1], -x[:,0]*x[:,1], x[:,0]*x[:,1], np.zeros(n_timesteps)])\n",
    "theta2 = lambda x: np.array([x[:,2], x[:,2], -x[:,2], np.zeros(n_timesteps)])\n",
    "theta3 = lambda x: np.array([-x[:,0], x[:,0], np.zeros(n_timesteps), np.zeros(n_timesteps)])\n",
    "theta4 = lambda x: np.array([-x[:,0], np.zeros(n_timesteps), np.zeros(n_timesteps), x[:,0]])\n",
    "theta5 = lambda x: np.array([x[:,3], np.zeros(n_timesteps), np.zeros(n_timesteps), -x[:,3]])\n",
    "\n",
    "theta1_ode = lambda x: np.array([-x[0]*x[1], -x[0]*x[1], x[0]*x[1], 0])\n",
    "theta2_ode = lambda x: np.array([x[2], x[2], -x[2], 0])\n",
    "theta3_ode = lambda x: np.array([-x[0], x[0], 0, 0])\n",
    "theta4_ode = lambda x: np.array([-x[0], 0, 0, x[0]])\n",
    "theta5_ode = lambda x: np.array([x[3], 0, 0, -x[3]])"
   ]
  },
  {
   "cell_type": "code",
   "execution_count": 30,
   "metadata": {},
   "outputs": [
    {
     "name": "stdout",
     "output_type": "stream",
     "text": [
      "-141003783889.0\n"
     ]
    },
    {
     "data": {
      "text/plain": [
       "<function analyze_tools.PyCapsule.lasso_minimizer_objective_fun>"
      ]
     },
     "execution_count": 30,
     "metadata": {},
     "output_type": "execute_result"
    }
   ],
   "source": [
    "large_theta = np.array([theta1(counts), theta2(counts), theta3(counts), theta4(counts)])\n",
    "large_theta = np.transpose(large_theta, axes=((2, 0, 1)))\n",
    "print(np.sum(large_theta))\n",
    "at.lasso_minimizer_objective_fun"
   ]
  },
  {
   "cell_type": "code",
   "execution_count": 31,
   "metadata": {},
   "outputs": [
    {
     "data": {
      "text/plain": [
       "(22500, 4, 4)"
      ]
     },
     "execution_count": 31,
     "metadata": {},
     "output_type": "execute_result"
    }
   ],
   "source": [
    "large_theta.shape"
   ]
  },
  {
   "cell_type": "code",
   "execution_count": 40,
   "metadata": {},
   "outputs": [
    {
     "name": "stdout",
     "output_type": "stream",
     "text": [
      "[  0.09985031  21.1          0.09985031   0.09985031]\n",
      "[ 0.          0.          0.10008319  0.10005228]\n",
      "[ 0.          0.00945884  0.10008312  0.10005221]\n",
      "[ 0.          0.00899849  0.1000831   0.10005219]\n",
      "[ 0.          0.00882094  0.10008249  0.10005164]\n",
      "[ 0.          0.00851937  0.10007987  0.10004923]\n",
      "[ 0.          0.00777213  0.10006779  0.10003817]\n",
      "[ 0.          0.00671868  0.10003738  0.10001032]\n",
      "[ 0.          0.00491756  0.09994919  0.09992956]\n",
      "[ 0.          0.00206027  0.09971598  0.09971597]\n",
      "[ 0.          0.          0.09909231  0.0991448 ]\n",
      "[ 0.          0.          0.08344723  0.08481657]\n",
      "[ 0.          0.          0.00226568  0.01046811]\n",
      "[  2.00973834e-06   0.00000000e+00   1.90597463e-03   8.98556976e-03]\n",
      "[  2.02044683e-06   1.45460263e-05   1.43425862e-03   8.55988531e-03]\n",
      "[  2.03271957e-06   1.88012965e-04   1.40707314e-03   8.60136671e-03]\n",
      "[  2.01914884e-06   1.39864261e-04   1.20972145e-03   8.73214563e-03]\n",
      "[  1.92907456e-06   2.13982113e-05   0.00000000e+00   1.00567281e-02]\n",
      "[  1.92561590e-06   6.29955315e-05   0.00000000e+00   1.02104961e-02]\n",
      "[  1.92692298e-06   7.34600026e-05   0.00000000e+00   1.02133443e-02]\n",
      "[  1.92693576e-06   7.35482793e-05   0.00000000e+00   1.02132964e-02]\n",
      "[  1.92693576e-06   7.35482792e-05   0.00000000e+00   1.02132964e-02]\n",
      "[  1.92693576e-06   7.35482792e-05   0.00000000e+00   1.02132964e-02]\n"
     ]
    }
   ],
   "source": [
    "import scipy.optimize as so\n",
    "\n",
    "bounds = ((0., None), (0., None), (0., None), (0., None))\n",
    "init_xi = np.array([.1] * large_theta.shape[1])\n",
    "result = so.minimize(\n",
    "    lambda x: at.lasso_minimizer_objective_fun(x, .001, large_theta/(4.*n_timesteps), dcounts_dt/(4.*n_timesteps)), \n",
    "    init_xi,\n",
    "    bounds=bounds, \n",
    "    callback=lambda x: print(x), tol=1e-16)\n",
    "xi = result.x"
   ]
  },
  {
   "cell_type": "code",
   "execution_count": 41,
   "metadata": {},
   "outputs": [],
   "source": [
    "%matplotlib inline\n",
    "import matplotlib.pyplot as plt\n",
    "\n",
    "from scipy.integrate import odeint\n",
    "\n",
    "def fun(data, _):\n",
    "    theta = np.array([theta1_ode(data), theta2_ode(data), theta3_ode(data), theta4_ode(data)])\n",
    "    return np.matmul(xi, theta)\n",
    "\n",
    "num_solution = odeint(fun, counts[0], np.arange(0, n_timesteps*.01, .01))"
   ]
  },
  {
   "cell_type": "code",
   "execution_count": 42,
   "metadata": {},
   "outputs": [
    {
     "data": {
      "image/png": "[encoded data removed]",
      "text/plain": [
       "<matplotlib.figure.Figure at 0x7fac41032668>"
      ]
     },
     "metadata": {},
     "output_type": "display_data"
    },
    {
     "data": {
      "image/png": "[encoded data removed]",
      "text/plain": [
       "<matplotlib.figure.Figure at 0x7fac40f88438>"
      ]
     },
     "metadata": {},
     "output_type": "display_data"
    },
    {
     "data": {
      "image/png": "[encoded data removed]",
      "text/plain": [
       "<matplotlib.figure.Figure at 0x7fac411a7550>"
      ]
     },
     "metadata": {},
     "output_type": "display_data"
    },
    {
     "data": {
      "image/png": "[encoded data removed]",
      "text/plain": [
       "<matplotlib.figure.Figure at 0x7fac41449f98>"
      ]
     },
     "metadata": {},
     "output_type": "display_data"
    }
   ],
   "source": [
    "for i in range(4):\n",
    "    plt.plot(np.arange(0, n_timesteps*.01, .01), counts[:,i])\n",
    "    plt.plot(np.arange(0, n_timesteps*.01, .01), num_solution[:, i])\n",
    "    plt.show()\n"
   ]
  },
  {
   "cell_type": "code",
   "execution_count": null,
   "metadata": {
    "collapsed": true
   },
   "outputs": [],
   "source": []
  }
 ],
 "metadata": {
  "kernelspec": {
   "display_name": "Python 3",
   "language": "python",
   "name": "python3"
  },
  "language_info": {
   "codemirror_mode": {
    "name": "ipython",
    "version": 3
   },
   "file_extension": ".py",
   "mimetype": "text/x-python",
   "name": "python",
   "nbconvert_exporter": "python",
   "pygments_lexer": "ipython3",
   "version": "3.6.1"
  }
 },
 "nbformat": 4,
 "nbformat_minor": 2
}
