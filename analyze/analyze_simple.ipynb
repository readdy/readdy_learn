{
 "cells": [
  {
   "cell_type": "code",
   "execution_count": 1,
   "metadata": {
    "collapsed": true
   },
   "outputs": [],
   "source": [
    "import os\n",
    "import numpy as np\n",
    "import sklearn as sk"
   ]
  },
  {
   "cell_type": "code",
   "execution_count": 2,
   "metadata": {
    "collapsed": true
   },
   "outputs": [],
   "source": [
    "def get_count_trajectory(fname, cache_fname=None):\n",
    "    if cache_fname and os.path.exists(cache_fname):\n",
    "        return np.load(cache_fname)\n",
    "    else:\n",
    "        dtraj = []\n",
    "        if os.path.exists(fname):\n",
    "            with h5py.File(fname) as f:\n",
    "                traj = f[\"readdy/trajectory\"]\n",
    "                traj_time = traj[\"time\"]\n",
    "                traj_time_records = traj[\"records\"]\n",
    "                for time, records in zip(traj_time, traj_time_records):\n",
    "                    current_counts = [0]*3\n",
    "                    for record in records:\n",
    "                        type_id = record[\"typeId\"]\n",
    "                        current_counts[type_id] += 1\n",
    "                    dtraj.append(current_counts)\n",
    "        else:\n",
    "            log.warn(\"file {} did not exist\".format(fname))\n",
    "        dtraj = np.array(dtraj)\n",
    "        if cache_fname:\n",
    "            np.save(cache_fname, dtraj)\n",
    "        return dtraj"
   ]
  },
  {
   "cell_type": "code",
   "execution_count": 3,
   "metadata": {
    "collapsed": true
   },
   "outputs": [],
   "source": [
    "counts = get_count_trajectory(\"../generate/simple_trajectory.h5\", cache_fname='counts_traj.npy')"
   ]
  },
  {
   "cell_type": "code",
   "execution_count": 4,
   "metadata": {
    "collapsed": true
   },
   "outputs": [],
   "source": [
    "dcounts_dt = np.gradient(counts, axis=0)"
   ]
  },
  {
   "cell_type": "code",
   "execution_count": 5,
   "metadata": {
    "collapsed": true
   },
   "outputs": [],
   "source": [
    "theta1 = lambda x: x[:,0]\n",
    "theta2 = lambda x: x[:,1]\n",
    "theta3 = lambda x: x[:,2]\n",
    "theta4 = lambda x: x[:,0]*x[:,1]\n",
    "theta5 = lambda x: x[:,0]*x[:,2]\n",
    "theta6 = lambda x: x[:,1]*x[:,2]"
   ]
  },
  {
   "cell_type": "code",
   "execution_count": 6,
   "metadata": {
    "collapsed": true
   },
   "outputs": [],
   "source": [
    "theta = np.array([theta1(counts), theta2(counts), theta3(counts), theta4(counts), theta5(counts), theta6(counts)])"
   ]
  },
  {
   "cell_type": "code",
   "execution_count": 7,
   "metadata": {},
   "outputs": [
    {
     "name": "stdout",
     "output_type": "stream",
     "text": [
      "(6, 50001)\n"
     ]
    }
   ],
   "source": [
    "# theta in R^(species x ansatz functions * n_timesteps)\n",
    "print(theta.shape)"
   ]
  },
  {
   "cell_type": "code",
   "execution_count": 8,
   "metadata": {
    "collapsed": true
   },
   "outputs": [],
   "source": [
    "xi = np.array([[.5, .5, .5, .5, .5, .5],[.5, .5, .5, .5, .5, .5],[.5, .5, .5, .5, .5, .5]])"
   ]
  },
  {
   "cell_type": "code",
   "execution_count": 13,
   "metadata": {},
   "outputs": [
    {
     "data": {
      "text/plain": [
       "(50001, 3)"
      ]
     },
     "execution_count": 13,
     "metadata": {},
     "output_type": "execute_result"
    }
   ],
   "source": [
    "xi.dot(theta).T.shape"
   ]
  },
  {
   "cell_type": "code",
   "execution_count": 51,
   "metadata": {
    "collapsed": true
   },
   "outputs": [],
   "source": [
    "from sklearn import linear_model\n",
    "clf = linear_model.Lasso(alpha=15.0)"
   ]
  },
  {
   "cell_type": "code",
   "execution_count": 52,
   "metadata": {},
   "outputs": [
    {
     "data": {
      "text/plain": [
       "Lasso(alpha=15.0, copy_X=True, fit_intercept=True, max_iter=1000,\n",
       "   normalize=False, positive=False, precompute=False, random_state=None,\n",
       "   selection='cyclic', tol=0.0001, warm_start=False)"
      ]
     },
     "execution_count": 52,
     "metadata": {},
     "output_type": "execute_result"
    }
   ],
   "source": [
    "clf.fit(theta.T, dcounts_dt)"
   ]
  },
  {
   "cell_type": "code",
   "execution_count": 53,
   "metadata": {},
   "outputs": [
    {
     "name": "stdout",
     "output_type": "stream",
     "text": [
      "(50001, 3)\n",
      "(6, 50001)\n"
     ]
    }
   ],
   "source": [
    "print(dcounts_dt.shape)\n",
    "print(theta.shape)"
   ]
  },
  {
   "cell_type": "code",
   "execution_count": 54,
   "metadata": {},
   "outputs": [
    {
     "name": "stdout",
     "output_type": "stream",
     "text": [
      "[[ -0.00000000e+00  -0.00000000e+00   0.00000000e+00  -1.76121056e-07\n",
      "   -0.00000000e+00  -0.00000000e+00]\n",
      " [ -0.00000000e+00  -0.00000000e+00   0.00000000e+00  -1.76121056e-07\n",
      "   -0.00000000e+00  -0.00000000e+00]\n",
      " [  0.00000000e+00   0.00000000e+00  -0.00000000e+00   1.76121056e-07\n",
      "    0.00000000e+00   0.00000000e+00]]\n"
     ]
    }
   ],
   "source": [
    "print(clf.coef_)"
   ]
  },
  {
   "cell_type": "code",
   "execution_count": null,
   "metadata": {
    "collapsed": true
   },
   "outputs": [],
   "source": []
  }
 ],
 "metadata": {
  "kernelspec": {
   "display_name": "Python 3",
   "language": "python",
   "name": "python3"
  },
  "language_info": {
   "codemirror_mode": {
    "name": "ipython",
    "version": 3
   },
   "file_extension": ".py",
   "mimetype": "text/x-python",
   "name": "python",
   "nbconvert_exporter": "python",
   "pygments_lexer": "ipython3",
   "version": "3.6.1"
  }
 },
 "nbformat": 4,
 "nbformat_minor": 2
}
