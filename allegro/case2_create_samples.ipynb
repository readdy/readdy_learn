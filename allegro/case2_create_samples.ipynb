{
 "cells": [
  {
   "cell_type": "code",
   "execution_count": 18,
   "metadata": {},
   "outputs": [],
   "source": [
    "import numpy as np\n",
    "import samplebase as sb\n",
    "import path_utils as putils"
   ]
  },
  {
   "cell_type": "code",
   "execution_count": 22,
   "metadata": {},
   "outputs": [
    {
     "data": {
      "text/plain": [
       "'/data/scratch/chrisfr/workspace/data/rlearn-3'"
      ]
     },
     "execution_count": 22,
     "metadata": {},
     "output_type": "execute_result"
    }
   ],
   "source": [
    "data_dir = putils.data_dir(3)\n",
    "data_dir"
   ]
  },
  {
   "cell_type": "code",
   "execution_count": 23,
   "metadata": {},
   "outputs": [],
   "source": [
    "alphas = np.logspace(-9, -3, num=8*8)\n",
    "noise = 1e-8\n",
    "dts = [4.5e-3, 4.0e-3, 3.5e-3, 3.0e-3 ]\n",
    "n_splits = 60"
   ]
  },
  {
   "cell_type": "code",
   "execution_count": 24,
   "metadata": {},
   "outputs": [],
   "source": [
    "for a in alphas:\n",
    "    for dt in dts:\n",
    "        args = {\n",
    "            \"alpha\": a,\n",
    "            \"noise\": noise,\n",
    "            \"dt\": dt,\n",
    "            \"n_splits\": n_splits,\n",
    "        }\n",
    "        sb.create_sample(data_dir, args=args)"
   ]
  },
  {
   "cell_type": "code",
   "execution_count": null,
   "metadata": {},
   "outputs": [],
   "source": []
  }
 ],
 "metadata": {
  "kernelspec": {
   "display_name": "Python 3",
   "language": "python",
   "name": "python3"
  },
  "language_info": {
   "codemirror_mode": {
    "name": "ipython",
    "version": 3
   },
   "file_extension": ".py",
   "mimetype": "text/x-python",
   "name": "python",
   "nbconvert_exporter": "python",
   "pygments_lexer": "ipython3",
   "version": "3.6.4"
  }
 },
 "nbformat": 4,
 "nbformat_minor": 2
}
