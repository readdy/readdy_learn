{
 "cells": [
  {
   "cell_type": "code",
   "execution_count": 1,
   "metadata": {
    "collapsed": true
   },
   "outputs": [],
   "source": [
    "import os\n",
    "import numpy as np\n",
    "import sklearn as sk\n",
    "import h5py"
   ]
  },
  {
   "cell_type": "code",
   "execution_count": 2,
   "metadata": {
    "collapsed": true
   },
   "outputs": [],
   "source": [
    "def get_count_trajectory(fname, cache_fname=None):\n",
    "    if cache_fname and os.path.exists(cache_fname):\n",
    "        return np.load(cache_fname)\n",
    "    else:\n",
    "        dtraj = []\n",
    "        if os.path.exists(fname):\n",
    "            with h5py.File(fname) as f:\n",
    "                traj = f[\"readdy/trajectory\"]\n",
    "                traj_time = traj[\"time\"]\n",
    "                traj_time_records = traj[\"records\"]\n",
    "                for time, records in zip(traj_time, traj_time_records):\n",
    "                    current_counts = [0]*4\n",
    "                    for record in records:\n",
    "                        type_id = record[\"typeId\"]\n",
    "                        current_counts[type_id] += 1\n",
    "                    dtraj.append(current_counts)\n",
    "        else:\n",
    "            log.warn(\"file {} did not exist\".format(fname))\n",
    "        dtraj = np.array(dtraj)\n",
    "        if cache_fname:\n",
    "            np.save(cache_fname, dtraj)\n",
    "        return dtraj\n",
    "def get_count_trajectory_n_particles_obs(fname, cache_fname=None):\n",
    "    with h5py.File(fname) as f:\n",
    "        return f[\"readdy/observables/n_particles/data\"][:].astype(np.double)"
   ]
  },
  {
   "cell_type": "code",
   "execution_count": 3,
   "metadata": {},
   "outputs": [
    {
     "name": "stdout",
     "output_type": "stream",
     "text": [
      "3188.0\n"
     ]
    }
   ],
   "source": [
    "#counts = get_count_trajectory_n_particles_obs(\"../generate/simple_trajectory_.h5\", cache_fname='counts_traj_2.npy')\n",
    "#counts = counts[:45*500]\n",
    "counts = np.load(\"../generate/counts.npy\")\n",
    "print(np.max(counts[:, 3]))"
   ]
  },
  {
   "cell_type": "code",
   "execution_count": 4,
   "metadata": {},
   "outputs": [
    {
     "name": "stdout",
     "output_type": "stream",
     "text": [
      "(22500, 4)\n",
      "max counts = 6000.0, min counts = 1.0\n"
     ]
    }
   ],
   "source": [
    "time_step = .01\n",
    "dcounts_dt = np.gradient(counts, axis=0)\n",
    "print(counts.shape)\n",
    "print(\"max counts = {}, min counts = {}\".format(np.max(counts), np.min(counts[np.nonzero(counts)])))"
   ]
  },
  {
   "cell_type": "markdown",
   "metadata": {},
   "source": [
    "# mean field model"
   ]
  },
  {
   "cell_type": "code",
   "execution_count": 5,
   "metadata": {
    "collapsed": true
   },
   "outputs": [],
   "source": [
    "theta1 = lambda x: x[:,0]\n",
    "theta2 = lambda x: x[:,1]\n",
    "theta3 = lambda x: x[:,2]\n",
    "theta4 = lambda x: x[:,0]*x[:,1]\n",
    "theta5 = lambda x: x[:,0]*x[:,2]\n",
    "theta6 = lambda x: x[:,1]*x[:,2]"
   ]
  },
  {
   "cell_type": "code",
   "execution_count": 6,
   "metadata": {
    "collapsed": true
   },
   "outputs": [],
   "source": [
    "theta = np.array([theta1(counts), theta2(counts), theta3(counts), theta4(counts), theta5(counts), theta6(counts)])"
   ]
  },
  {
   "cell_type": "code",
   "execution_count": 7,
   "metadata": {},
   "outputs": [
    {
     "name": "stdout",
     "output_type": "stream",
     "text": [
      "(6, 22500)\n"
     ]
    }
   ],
   "source": [
    "# theta in R^(species x ansatz functions * n_timesteps)\n",
    "print(theta.shape)"
   ]
  },
  {
   "cell_type": "code",
   "execution_count": 8,
   "metadata": {},
   "outputs": [
    {
     "name": "stderr",
     "output_type": "stream",
     "text": [
      "/home/mho/miniconda2/envs/readdy_dev/lib/python3.6/site-packages/sklearn/linear_model/coordinate_descent.py:484: ConvergenceWarning: Objective did not converge. You might want to increase the number of iterations. Fitting data with very small alpha may cause precision problems.\n",
      "  ConvergenceWarning)\n"
     ]
    },
    {
     "data": {
      "text/plain": [
       "Lasso(alpha=1, copy_X=True, fit_intercept=True, max_iter=1000,\n",
       "   normalize=False, positive=True, precompute=False, random_state=None,\n",
       "   selection='cyclic', tol=0.0001, warm_start=False)"
      ]
     },
     "execution_count": 8,
     "metadata": {},
     "output_type": "execute_result"
    }
   ],
   "source": [
    "from sklearn import linear_model\n",
    "clf = linear_model.Lasso(alpha=1, positive=True)\n",
    "clf.fit(theta.T, dcounts_dt)"
   ]
  },
  {
   "cell_type": "code",
   "execution_count": 9,
   "metadata": {},
   "outputs": [
    {
     "name": "stdout",
     "output_type": "stream",
     "text": [
      "(22500, 4)\n",
      "(6, 22500)\n"
     ]
    }
   ],
   "source": [
    "print(dcounts_dt.shape)\n",
    "print(theta.shape)"
   ]
  },
  {
   "cell_type": "code",
   "execution_count": 10,
   "metadata": {},
   "outputs": [
    {
     "name": "stdout",
     "output_type": "stream",
     "text": [
      "[[  0.00000000e+00   0.00000000e+00   3.64252109e-04   0.00000000e+00\n",
      "    0.00000000e+00   3.69458475e-08]\n",
      " [  0.00000000e+00   0.00000000e+00   1.28981969e-04   0.00000000e+00\n",
      "    0.00000000e+00   3.89371597e-08]\n",
      " [  0.00000000e+00   0.00000000e+00   0.00000000e+00   1.91796602e-08\n",
      "    1.86586066e-09   0.00000000e+00]\n",
      " [  0.00000000e+00   0.00000000e+00   0.00000000e+00   1.95457237e-08\n",
      "    1.00287058e-08   7.51698880e-09]]\n"
     ]
    }
   ],
   "source": [
    "print(clf.coef_)"
   ]
  },
  {
   "cell_type": "markdown",
   "metadata": {},
   "source": [
    "# Simon way (solve for all times indepdenently, use markov property)"
   ]
  },
  {
   "cell_type": "code",
   "execution_count": 11,
   "metadata": {
    "collapsed": true
   },
   "outputs": [],
   "source": [
    "from sklearn import linear_model\n",
    "clf = linear_model.Lasso(alpha=15, warm_start=False, max_iter=1000, tol=1e-6, positive=True)"
   ]
  },
  {
   "cell_type": "code",
   "execution_count": 12,
   "metadata": {
    "collapsed": true
   },
   "outputs": [],
   "source": [
    "theta1 = lambda x: np.array([-x[0]*x[1], -x[0]*x[1], x[0]*x[1], 0])\n",
    "theta2 = lambda x: np.array([x[2], x[2], -x[2], 0])\n",
    "theta3 = lambda x: np.array([-x[0], x[0], 0, 0])\n",
    "theta5 = lambda x: np.array([-x[0], 0, 0, x[0]])"
   ]
  },
  {
   "cell_type": "code",
   "execution_count": 13,
   "metadata": {
    "collapsed": true
   },
   "outputs": [],
   "source": [
    "n_timesteps = counts.shape[0]"
   ]
  },
  {
   "cell_type": "code",
   "execution_count": 14,
   "metadata": {
    "collapsed": true
   },
   "outputs": [],
   "source": [
    "alphas = []\n",
    "for i in range(0, n_timesteps):\n",
    "    c = counts[i]\n",
    "    theta = np.array([theta1(c), theta2(c), theta3(c), theta5(c)])\n",
    "    dc = dcounts_dt[i] / time_step\n",
    "    clf.fit(theta.T, dc)\n",
    "    alphas.append(clf.coef_)"
   ]
  },
  {
   "cell_type": "code",
   "execution_count": 15,
   "metadata": {},
   "outputs": [
    {
     "name": "stdout",
     "output_type": "stream",
     "text": [
      "xi = [  1.70342302e-06   0.00000000e+00   0.00000000e+00   1.03512901e-02]\n"
     ]
    }
   ],
   "source": [
    "xi = np.sum(alphas, axis=0) / len(alphas)\n",
    "print(\"xi = %s\" % xi)"
   ]
  },
  {
   "cell_type": "code",
   "execution_count": 16,
   "metadata": {
    "collapsed": true
   },
   "outputs": [],
   "source": [
    "from scipy.integrate import odeint"
   ]
  },
  {
   "cell_type": "code",
   "execution_count": 17,
   "metadata": {
    "collapsed": true
   },
   "outputs": [],
   "source": [
    "def fun(data, _):\n",
    "    theta = np.array([theta1(data), theta2(data), theta3(data), theta5(data)])\n",
    "    return np.matmul(xi, theta)"
   ]
  },
  {
   "cell_type": "code",
   "execution_count": 18,
   "metadata": {
    "collapsed": true
   },
   "outputs": [],
   "source": [
    "num_solution = odeint(fun, counts[0], np.arange(0, n_timesteps*.01, .01))"
   ]
  },
  {
   "cell_type": "code",
   "execution_count": 19,
   "metadata": {
    "collapsed": true
   },
   "outputs": [],
   "source": [
    "%matplotlib inline\n",
    "import matplotlib.pyplot as plt"
   ]
  },
  {
   "cell_type": "code",
   "execution_count": 20,
   "metadata": {},
   "outputs": [
    {
     "data": {
      "text/plain": [
       "[<matplotlib.lines.Line2D at 0x7f7c5ca95978>]"
      ]
     },
     "execution_count": 20,
     "metadata": {},
     "output_type": "execute_result"
    },
    {
     "data": {
      "image/png": "[encoded data removed]",
      "text/plain": [
       "<matplotlib.figure.Figure at 0x7f7c292fce48>"
      ]
     },
     "metadata": {},
     "output_type": "display_data"
    }
   ],
   "source": [
    "plt.plot(np.arange(0, n_timesteps*.01, .01), counts[:,0])\n",
    "plt.plot(np.arange(0, n_timesteps*.01, .01), num_solution[:, 0])"
   ]
  },
  {
   "cell_type": "code",
   "execution_count": 15,
   "metadata": {},
   "outputs": [
    {
     "data": {
      "text/plain": [
       "[<matplotlib.lines.Line2D at 0x7f7c23fff2e8>]"
      ]
     },
     "execution_count": 15,
     "metadata": {},
     "output_type": "execute_result"
    },
    {
     "data": {
      "image/png": "[encoded data removed]",
      "text/plain": [
       "<matplotlib.figure.Figure at 0x7f7c23fff6a0>"
      ]
     },
     "metadata": {},
     "output_type": "display_data"
    }
   ],
   "source": [
    "plt.plot(np.arange(0, n_timesteps * .01, .01), counts[:,1])\n",
    "plt.plot(np.arange(0, n_timesteps * .01, .01), num_solution[:, 1])"
   ]
  },
  {
   "cell_type": "code",
   "execution_count": 16,
   "metadata": {},
   "outputs": [
    {
     "data": {
      "text/plain": [
       "[<matplotlib.lines.Line2D at 0x7f7c23f0c7b8>]"
      ]
     },
     "execution_count": 16,
     "metadata": {},
     "output_type": "execute_result"
    },
    {
     "data": {
      "image/png": "[encoded data removed]",
      "text/plain": [
       "<matplotlib.figure.Figure at 0x7f7c23f0c080>"
      ]
     },
     "metadata": {},
     "output_type": "display_data"
    }
   ],
   "source": [
    "plt.plot(np.arange(0, n_timesteps * .01, .01), counts[:,2])\n",
    "plt.plot(np.arange(0, n_timesteps * .01, .01), num_solution[:, 2])"
   ]
  },
  {
   "cell_type": "code",
   "execution_count": 17,
   "metadata": {},
   "outputs": [
    {
     "data": {
      "text/plain": [
       "[<matplotlib.lines.Line2D at 0x7f7c23ec0780>]"
      ]
     },
     "execution_count": 17,
     "metadata": {},
     "output_type": "execute_result"
    },
    {
     "data": {
      "image/png": "[encoded data removed]",
      "text/plain": [
       "<matplotlib.figure.Figure at 0x7f7c23ec0278>"
      ]
     },
     "metadata": {},
     "output_type": "display_data"
    }
   ],
   "source": [
    "plt.plot(np.arange(0, n_timesteps * .01, .01), counts[:,3])\n",
    "plt.plot(np.arange(0, n_timesteps * .01, .01), num_solution[:, 3])"
   ]
  },
  {
   "cell_type": "code",
   "execution_count": 18,
   "metadata": {
    "collapsed": true
   },
   "outputs": [],
   "source": [
    "diffusion_coeff = 0.2 \n",
    "micro_rate = 0.05\n",
    "reaction_radius = 0.7\n",
    "tmp = np.sqrt(micro_rate / diffusion_coeff) * reaction_radius\n",
    "rate_chapman = 4. * np.pi * diffusion_coeff * reaction_radius * (1. - np.tanh(tmp) / tmp)"
   ]
  },
  {
   "cell_type": "code",
   "execution_count": 19,
   "metadata": {},
   "outputs": [
    {
     "name": "stdout",
     "output_type": "stream",
     "text": [
      "erban chapman rate (per volume): 0.06848398371542153\n",
      "lasso fitted rate (per counts): 1.7034228581327504e-06\n",
      "lasso fitted rate (per volume): 0.005749052146198032\n"
     ]
    }
   ],
   "source": [
    "print(\"erban chapman rate (per volume): {}\".format(rate_chapman))\n",
    "print(\"lasso fitted rate (per counts): {}\".format(xi[0]))\n",
    "print(\"lasso fitted rate (per volume): {}\".format(xi[0] * 15 * 15 * 15))"
   ]
  },
  {
   "cell_type": "markdown",
   "metadata": {
    "collapsed": true
   },
   "source": [
    "### Objective function is sum over all timesteps and species + l1 penalty"
   ]
  },
  {
   "cell_type": "code",
   "execution_count": 20,
   "metadata": {
    "collapsed": true
   },
   "outputs": [],
   "source": [
    "import scipy.optimize as so\n",
    "%matplotlib inline\n",
    "import matplotlib.pyplot as plt"
   ]
  },
  {
   "cell_type": "code",
   "execution_count": 21,
   "metadata": {},
   "outputs": [
    {
     "name": "stdout",
     "output_type": "stream",
     "text": [
      "(22500, 4)\n"
     ]
    }
   ],
   "source": [
    "print(counts.shape)\n",
    "n_timesteps = counts.shape[0]"
   ]
  },
  {
   "cell_type": "code",
   "execution_count": 22,
   "metadata": {
    "collapsed": true
   },
   "outputs": [],
   "source": [
    "theta1 = lambda x: np.array([-x[0]*x[1], -x[0]*x[1], x[0]*x[1], 0])\n",
    "theta2 = lambda x: np.array([x[2], x[2], -x[2], 0])\n",
    "theta3 = lambda x: np.array([-x[0], x[0], 0, 0])\n",
    "theta4 = lambda x: np.array([-x[0], 0, 0, x[0]])"
   ]
  },
  {
   "cell_type": "code",
   "execution_count": 23,
   "metadata": {
    "collapsed": true
   },
   "outputs": [],
   "source": [
    "dc = dcounts_dt / time_step\n",
    "def objective_fun(alpha, k_reg, counts=counts, dcounts_dt=dc, theta=[theta1, theta2, theta3, theta4]):\n",
    "    n_timesteps = counts.shape[0]\n",
    "    n_species = counts.shape[1]\n",
    "    n_reactions = 4\n",
    "    result = 0.\n",
    "    for t_idx in range(n_timesteps):\n",
    "        for s_idx in range(n_species):\n",
    "            reaction_term = 0.\n",
    "            for r_idx in range(n_reactions):\n",
    "                #print(\"t s r\", t_idx, s_idx, r_idx)\n",
    "                reaction_term += theta[r_idx](counts[t_idx])[s_idx] * alpha[r_idx]\n",
    "            result += (dcounts_dt[t_idx, s_idx] - reaction_term) * (dcounts_dt[t_idx, s_idx] - reaction_term)\n",
    "    regularization = 0.\n",
    "    for r_idx in range(n_reactions):\n",
    "        regularization += k_reg * abs(alpha[r_idx])\n",
    "    return result + regularization"
   ]
  },
  {
   "cell_type": "code",
   "execution_count": 24,
   "metadata": {},
   "outputs": [
    {
     "data": {
      "text/plain": [
       "68557453978182264.0"
      ]
     },
     "execution_count": 24,
     "metadata": {},
     "output_type": "execute_result"
    }
   ],
   "source": [
    "init_xi = np.array([0.1,0.1,0.1,0.1])\n",
    "objective_fun(init_xi, 10000000.)"
   ]
  },
  {
   "cell_type": "code",
   "execution_count": 25,
   "metadata": {},
   "outputs": [
    {
     "name": "stdout",
     "output_type": "stream",
     "text": [
      "[  0.1  21.1   0.1   0.1]\n",
      "[ 0.          0.          0.09999999  0.09995491]\n",
      "[ 0.          0.00828154  0.09999999  0.09995491]\n",
      "[ 0.          0.00898156  0.09999996  0.09995488]\n",
      "[ 0.          0.00910013  0.09999937  0.09995434]\n",
      "[ 0.          0.00968083  0.099993    0.09994851]\n",
      "[ 0.          0.01051504  0.09997539  0.09993238]\n",
      "[ 0.          0.01192398  0.09992281  0.09988423]\n",
      "[ 0.          0.01415345  0.09978036  0.09975379]\n",
      "[ 0.          0.01774604  0.0993946   0.09940053]\n",
      "[ 0.          0.02340115  0.09837733  0.09846897]\n",
      "[ 0.          0.0320665   0.09573641  0.09605057]\n",
      "[ 0.          0.0442748   0.08915082  0.09001989]\n",
      "[ 0.          0.02557364  0.07599582  0.07797333]\n",
      "[ 0.          0.          0.0045188   0.01251895]\n",
      "[  1.96124234e-06   0.00000000e+00   3.97692736e-03   1.10177235e-02]\n",
      "[  2.01191815e-06   0.00000000e+00   1.38033590e-03   8.64002242e-03]\n",
      "[  2.02854141e-06   0.00000000e+00   1.22970038e-03   8.67055491e-03]\n",
      "[  2.04310138e-06   4.60488356e-05   6.21329805e-04   9.09092649e-03]\n",
      "[  2.00271484e-06   8.15613946e-05   8.13556276e-05   9.74145485e-03]\n",
      "[  2.00386082e-06   1.01178123e-04   8.33130156e-05   9.74298312e-03]\n",
      "[  1.94539276e-06   8.55110924e-05   0.00000000e+00   1.01845125e-02]\n",
      "[  1.92799771e-06   7.11752424e-05   0.00000000e+00   1.02083417e-02]\n",
      "[  1.92799771e-06   7.11752424e-05   0.00000000e+00   1.02083417e-02]\n"
     ]
    }
   ],
   "source": [
    "bounds = ((0., None), (0., None), (0., None), (0., None))\n",
    "result = so.minimize(\n",
    "    lambda x: objective_fun(x, 10000000.), \n",
    "    init_xi,\n",
    "    bounds=bounds, \n",
    "    callback=lambda x: print(x))"
   ]
  },
  {
   "cell_type": "code",
   "execution_count": 28,
   "metadata": {},
   "outputs": [
    {
     "name": "stdout",
     "output_type": "stream",
     "text": [
      "      fun: 71213773.43058382\n",
      " hess_inv: <4x4 LbfgsInvHessProduct with dtype=float64>\n",
      "      jac: array([  4.73558903e+03,   5.81145287e+02,   3.04597616e+06,\n",
      "        -4.91738319e+01])\n",
      "  message: b'CONVERGENCE: REL_REDUCTION_OF_F_<=_FACTR*EPSMCH'\n",
      "     nfev: 180\n",
      "      nit: 26\n",
      "   status: 0\n",
      "  success: True\n",
      "        x: array([  1.92640835e-06,   8.61822791e-05,   0.00000000e+00,\n",
      "         1.02373353e-02])\n",
      "[  1.92640835e-06   8.61822791e-05   0.00000000e+00   1.02373353e-02]\n"
     ]
    }
   ],
   "source": [
    "print(result)\n",
    "print(result.x)\n",
    "xi = result.x"
   ]
  },
  {
   "cell_type": "code",
   "execution_count": 30,
   "metadata": {},
   "outputs": [],
   "source": [
    "from scipy.integrate import odeint\n",
    "\n",
    "def fun(data, _):\n",
    "    theta = np.array([theta1(data), theta2(data), theta3(data), theta4(data)])\n",
    "    return np.matmul(xi, theta)\n",
    "\n",
    "num_solution = odeint(fun, counts[0], np.arange(0, n_timesteps*.01, .01))"
   ]
  },
  {
   "cell_type": "code",
   "execution_count": 35,
   "metadata": {},
   "outputs": [
    {
     "data": {
      "text/plain": [
       "[<matplotlib.lines.Line2D at 0x7f55bac8b6a0>]"
      ]
     },
     "execution_count": 35,
     "metadata": {},
     "output_type": "execute_result"
    },
    {
     "data": {
      "image/png": "[encoded data removed]",
      "text/plain": [
       "<matplotlib.figure.Figure at 0x7f55bac8bbe0>"
      ]
     },
     "metadata": {},
     "output_type": "display_data"
    }
   ],
   "source": [
    "plt.plot(np.arange(0, n_timesteps*.01, .01), counts[:,0])\n",
    "plt.plot(np.arange(0, n_timesteps*.01, .01), num_solution[:, 0])"
   ]
  },
  {
   "cell_type": "code",
   "execution_count": 36,
   "metadata": {},
   "outputs": [
    {
     "data": {
      "text/plain": [
       "[<matplotlib.lines.Line2D at 0x7f55baae60b8>]"
      ]
     },
     "execution_count": 36,
     "metadata": {},
     "output_type": "execute_result"
    },
    {
     "data": {
      "image/png": "[encoded data removed]",
      "text/plain": [
       "<matplotlib.figure.Figure at 0x7f55baae6400>"
      ]
     },
     "metadata": {},
     "output_type": "display_data"
    }
   ],
   "source": [
    "plt.plot(np.arange(0, n_timesteps * .01, .01), counts[:,1])\n",
    "plt.plot(np.arange(0, n_timesteps * .01, .01), num_solution[:, 1])"
   ]
  },
  {
   "cell_type": "code",
   "execution_count": 37,
   "metadata": {},
   "outputs": [
    {
     "data": {
      "text/plain": [
       "[<matplotlib.lines.Line2D at 0x7f55baa62ac8>]"
      ]
     },
     "execution_count": 37,
     "metadata": {},
     "output_type": "execute_result"
    },
    {
     "data": {
      "image/png": "[encoded data removed]",
      "text/plain": [
       "<matplotlib.figure.Figure at 0x7f55baa629e8>"
      ]
     },
     "metadata": {},
     "output_type": "display_data"
    }
   ],
   "source": [
    "plt.plot(np.arange(0, n_timesteps * .01, .01), counts[:,2])\n",
    "plt.plot(np.arange(0, n_timesteps * .01, .01), num_solution[:, 2])"
   ]
  },
  {
   "cell_type": "code",
   "execution_count": 38,
   "metadata": {},
   "outputs": [
    {
     "data": {
      "text/plain": [
       "[<matplotlib.lines.Line2D at 0x7f55baa169b0>]"
      ]
     },
     "execution_count": 38,
     "metadata": {},
     "output_type": "execute_result"
    },
    {
     "data": {
      "image/png": "[encoded data removed]",
      "text/plain": [
       "<matplotlib.figure.Figure at 0x7f55baf0c978>"
      ]
     },
     "metadata": {},
     "output_type": "display_data"
    }
   ],
   "source": [
    "plt.plot(np.arange(0, n_timesteps * .01, .01), counts[:,3])\n",
    "plt.plot(np.arange(0, n_timesteps * .01, .01), num_solution[:, 3])"
   ]
  },
  {
   "cell_type": "code",
   "execution_count": null,
   "metadata": {
    "collapsed": true
   },
   "outputs": [],
   "source": []
  }
 ],
 "metadata": {
  "kernelspec": {
   "display_name": "Python 3",
   "language": "python",
   "name": "python3"
  },
  "language_info": {
   "codemirror_mode": {
    "name": "ipython",
    "version": 3
   },
   "file_extension": ".py",
   "mimetype": "text/x-python",
   "name": "python",
   "nbconvert_exporter": "python",
   "pygments_lexer": "ipython3",
   "version": "3.6.1"
  }
 },
 "nbformat": 4,
 "nbformat_minor": 2
}
