{
 "cells": [
  {
   "cell_type": "code",
   "execution_count": 1,
   "metadata": {},
   "outputs": [],
   "source": [
    "%matplotlib inline\n",
    "import matplotlib.pyplot as plt\n",
    "import os\n",
    "import numpy as np\n",
    "import matplotlib as mpl\n",
    "import pickle\n",
    "from copy import copy\n",
    "from tqdm import tqdm_notebook as tqdm\n",
    "from importlib import reload\n",
    "\n",
    "import readdy_learn.example.mapk as mapk"
   ]
  },
  {
   "cell_type": "code",
   "execution_count": 2,
   "metadata": {},
   "outputs": [
    {
     "data": {
      "application/vnd.jupyter.widget-view+json": {
       "model_id": "7e215b6b4bb6469f87072c58f7700a82",
       "version_major": 2,
       "version_minor": 0
      },
      "text/plain": [
       "HBox(children=(IntProgress(value=0), HTML(value='')))"
      ]
     },
     "metadata": {},
     "output_type": "display_data"
    },
    {
     "name": "stdout",
     "output_type": "stream",
     "text": [
      "\n"
     ]
    }
   ],
   "source": [
    "activities = []\n",
    "X = np.logspace(0, 5, num=100)\n",
    "for N_STIMULUS in tqdm(X):\n",
    "    mapk.TIMESTEP = 1e-5\n",
    "    mapk.INITIAL_STATES[0][0] = N_STIMULUS\n",
    "    time, count, dcount_dt = mapk.generate_lma(0, .1)\n",
    "    activities.append(count[-1, -1])"
   ]
  },
  {
   "cell_type": "code",
   "execution_count": 3,
   "metadata": {},
   "outputs": [
    {
     "data": {
      "image/png": "[encoded data removed]",
      "text/plain": [
       "<Figure size 432x288 with 1 Axes>"
      ]
     },
     "metadata": {
      "needs_background": "light"
     },
     "output_type": "display_data"
    }
   ],
   "source": [
    "plt.semilogx(X, activities)\n",
    "plt.xlabel('stimulus')\n",
    "plt.ylabel('activity')\n",
    "plt.show()"
   ]
  },
  {
   "cell_type": "code",
   "execution_count": 4,
   "metadata": {},
   "outputs": [
    {
     "data": {
      "text/plain": [
       "[<matplotlib.lines.Line2D at 0x7f444f7c0358>,\n",
       " <matplotlib.lines.Line2D at 0x7f444f7c04a8>,\n",
       " <matplotlib.lines.Line2D at 0x7f444f7c05f8>,\n",
       " <matplotlib.lines.Line2D at 0x7f444f7c0748>,\n",
       " <matplotlib.lines.Line2D at 0x7f444f7c0898>,\n",
       " <matplotlib.lines.Line2D at 0x7f444f7c09e8>,\n",
       " <matplotlib.lines.Line2D at 0x7f444f7c0b38>,\n",
       " <matplotlib.lines.Line2D at 0x7f444f7c0c88>]"
      ]
     },
     "execution_count": 4,
     "metadata": {},
     "output_type": "execute_result"
    },
    {
     "data": {
      "image/png": "[encoded data removed]",
      "text/plain": [
       "<Figure size 432x288 with 1 Axes>"
      ]
     },
     "metadata": {
      "needs_background": "light"
     },
     "output_type": "display_data"
    }
   ],
   "source": [
    "plt.plot(time, count[:, 1:])"
   ]
  },
  {
   "cell_type": "code",
   "execution_count": 47,
   "metadata": {},
   "outputs": [],
   "source": [
    "mapk=reload(mapk)"
   ]
  },
  {
   "cell_type": "code",
   "execution_count": 48,
   "metadata": {},
   "outputs": [],
   "source": [
    "data = []\n",
    "for N_STIMULUS in [1e2, 1e3, 1e4]:\n",
    "    mapk.TIMESTEP = 1e-5\n",
    "    \n",
    "    X = copy(mapk.INITIAL_STATES)\n",
    "    X[0][0] = N_STIMULUS\n",
    "    mapk.INITIAL_STATES = X\n",
    "    time, count, dcount_dt = mapk.generate_lma(0, .003)\n",
    "    # time, count, dcount_dt = mapk.generate_kmc(0, .003, n_realizations=15, njobs=5)\n",
    "    data.append((time, count, dcount_dt))\n",
    "    f, (ax1, ax2) = plt.subplots(1, 2)\n",
    "    ax1.plot(time, count[:, 1:])\n",
    "    ax2.plot(time, dcount_dt[:, 1:])\n",
    "    # plt.plot(time, count[:, 1:])\n",
    "    f.show()"
   ]
  },
  {
   "cell_type": "code",
   "execution_count": 49,
   "metadata": {},
   "outputs": [],
   "source": [
    "time = np.concatenate([data[i][0] for i in range(len(data))])\n",
    "counts = np.concatenate([data[i][1] for i in range(len(data))])\n",
    "dcounts_dt = np.concatenate([data[i][2] for i in range(len(data))])\n",
    "\n",
    "# shuffle\n",
    "N = np.arange(len(time))\n",
    "np.random.shuffle(N)\n",
    "shuffled_time = time[N]\n",
    "shuffled_counts = counts[N]\n",
    "shuffled_dcounts_dt = dcounts_dt[N]"
   ]
  },
  {
   "cell_type": "code",
   "execution_count": 50,
   "metadata": {},
   "outputs": [
    {
     "name": "stdout",
     "output_type": "stream",
     "text": [
      "Trying tolerance 1e-16\n",
      "optimization problem did exit successfully (alpha=0.0, lambda=1.0)!\n",
      "status 0: Optimization terminated successfully.\n",
      "14 / 30000 iterations\n",
      "Trying tolerance 1e-16\n",
      "optimization problem did exit successfully (alpha=0.0, lambda=1.0)!\n",
      "status 0: Optimization terminated successfully.\n",
      "13 / 30000 iterations\n",
      "Trying tolerance 1e-16\n",
      "optimization problem did exit successfully (alpha=0.0, lambda=1.0)!\n",
      "status 0: Optimization terminated successfully.\n",
      "14 / 30000 iterations\n",
      "Trying tolerance 1e-16\n",
      "optimization problem did exit successfully (alpha=0.0, lambda=1.0)!\n",
      "status 0: Optimization terminated successfully.\n",
      "15 / 30000 iterations\n",
      "Trying tolerance 1e-16\n",
      "optimization problem did exit successfully (alpha=0.0, lambda=1.0)!\n",
      "status 0: Optimization terminated successfully.\n",
      "16 / 30000 iterations\n",
      "Trying tolerance 1e-16\n",
      "optimization problem did exit successfully (alpha=0.0, lambda=1.0)!\n",
      "status 0: Optimization terminated successfully.\n",
      "17 / 30000 iterations\n",
      "Trying tolerance 1e-16\n",
      "optimization problem did exit successfully (alpha=0.0, lambda=1.0)!\n",
      "status 0: Optimization terminated successfully.\n",
      "21 / 30000 iterations\n",
      "Trying tolerance 1e-16\n",
      "optimization problem did exit successfully (alpha=0.0, lambda=1.0)!\n",
      "status 0: Optimization terminated successfully.\n",
      "21 / 30000 iterations\n",
      "Trying tolerance 1e-16\n",
      "optimization problem did exit successfully (alpha=0.0, lambda=1.0)!\n",
      "status 0: Optimization terminated successfully.\n",
      "21 / 30000 iterations\n",
      "Trying tolerance 1e-16\n",
      "0-th dimension must be fixed to 18 but got 17\n",
      "\n",
      "Trying tolerance 1e-16\n",
      "0-th dimension must be fixed to 19 but got 17\n",
      "\n",
      "Trying tolerance 1e-16\n",
      "0-th dimension must be fixed to 20 but got 17\n",
      "\n",
      "Trying tolerance 1e-16\n",
      "0-th dimension must be fixed to 21 but got 17\n",
      "\n",
      "Trying tolerance 1e-16\n",
      "0-th dimension must be fixed to 22 but got 17\n",
      "\n",
      "Trying tolerance 1e-16\n",
      "0-th dimension must be fixed to 23 but got 17\n",
      "\n",
      "Trying tolerance 1e-16\n",
      "0-th dimension must be fixed to 24 but got 17\n",
      "\n",
      "Trying tolerance 1e-16\n",
      "0-th dimension must be fixed to 25 but got 17\n",
      "\n",
      "Trying tolerance 1e-16\n",
      "0-th dimension must be fixed to 26 but got 17\n",
      "\n",
      "Trying tolerance 1e-16\n",
      "0-th dimension must be fixed to 27 but got 17\n",
      "\n",
      "Trying tolerance 1e-16\n",
      "0-th dimension must be fixed to 28 but got 17\n",
      "\n",
      "Trying tolerance 1e-16\n",
      "0-th dimension must be fixed to 29 but got 17\n",
      "\n"
     ]
    }
   ],
   "source": [
    "estimated_rateses = []\n",
    "for N_BOGUS in range(0, 21):\n",
    "    mapk.N_BOGUS = N_BOGUS\n",
    "    mapk.RATES = np.array([\n",
    "        1.,\n",
    "        1000.,\n",
    "        1.,\n",
    "        1000.,\n",
    "        1.,\n",
    "        1000.,\n",
    "        1.,\n",
    "        1000.,\n",
    "    ])\n",
    "    try:\n",
    "        mapk.RATES = np.concatenate((mapk.RATES, np.zeros((mapk.bogus_bfc(mapk.bfc()),))))\n",
    "        estimated_rates = mapk.solve(counts, dcounts_dt, alpha=0., l1_ratio=1.)\n",
    "        estimated_rateses.append(estimated_rates)\n",
    "    except ValueError as e:\n",
    "        print(e)"
   ]
  },
  {
   "cell_type": "code",
   "execution_count": 51,
   "metadata": {},
   "outputs": [],
   "source": [
    "s_nonrel = []\n",
    "for estimated_rates in estimated_rateses:\n",
    "    #print(estimated_rates[:8] - mapk.RATES[:8])\n",
    "    #print(\"***\"*15)\n",
    "    s_nonrel.append(np.sum(np.abs(((estimated_rates[:8] - mapk.RATES[:8]) ))))"
   ]
  },
  {
   "cell_type": "code",
   "execution_count": 52,
   "metadata": {},
   "outputs": [],
   "source": [
    "s = []\n",
    "for estimated_rates in estimated_rateses:\n",
    "    #print((estimated_rates[:8] - mapk.RATES[:8]) / mapk.RATES[:8])\n",
    "    #print(\"***\"*15)\n",
    "    s.append(np.max(np.abs(((estimated_rates[:8] - mapk.RATES[:8]) / mapk.RATES[:8]))))"
   ]
  },
  {
   "cell_type": "code",
   "execution_count": 53,
   "metadata": {},
   "outputs": [
    {
     "data": {
      "text/plain": [
       "<matplotlib.collections.LineCollection at 0x7f37199ba048>"
      ]
     },
     "execution_count": 53,
     "metadata": {},
     "output_type": "execute_result"
    }
   ],
   "source": [
    "plt.semilogy(np.arange(1, len(s)+1), s, 'x')\n",
    "#plt.plot(np.arange(1, len(s)+1), s_nonrel, 'o')\n",
    "plt.xticks(np.arange(1, len(s)+1))\n",
    "plt.hlines([1.], 1, len(s))\n",
    "# plt.vlines(np.arange(1, len(s)+1), 0, 1e3, 'grey', 'dashed')"
   ]
  },
  {
   "cell_type": "markdown",
   "metadata": {},
   "source": [
    "np.abs(((estimated_rateses[0][:8] - mapk.RATES[:8]) / mapk.RATES[:8]))"
   ]
  },
  {
   "cell_type": "code",
   "execution_count": 79,
   "metadata": {},
   "outputs": [
    {
     "name": "stdout",
     "output_type": "stream",
     "text": [
      "validating across grid with 25 alphas, 1 lambdas, 1 cutoffs with 1 realizations\n"
     ]
    },
    {
     "data": {
      "application/vnd.jupyter.widget-view+json": {
       "model_id": "",
       "version_major": 2,
       "version_minor": 0
      },
      "text/plain": [
       "HBox(children=(HBox(children=(Label(value='validation 0'),), layout=Layout(max_width='35%', min_width='35%')),…"
      ]
     },
     "metadata": {},
     "output_type": "display_data"
    },
    {
     "name": "stdout",
     "output_type": "stream",
     "text": [
      "Solving for tolerance 1e-16\n",
      "Solving for tolerance 1e-16\n",
      "Solving for tolerance 1e-16\n",
      "Solving for tolerance 1e-16\n",
      "Solving for tolerance 1e-16\n",
      "Solving for tolerance 1e-16\n",
      "Solving for tolerance 1e-16\n",
      "Solving for tolerance 1e-16\n",
      "Solving for tolerance 1e-16\n",
      "Solving for tolerance 1e-16\n",
      "Solving for tolerance 1e-16\n",
      "Solving for tolerance 1e-16\n",
      "Solving for tolerance 1e-16\n",
      "Solving for tolerance 1e-16\n",
      "Solving for tolerance 1e-16\n",
      "Solving for tolerance 1e-16\n",
      "Solving for tolerance 1e-16\n",
      "Solving for tolerance 1e-16\n",
      "Solving for tolerance 1e-16\n",
      "Solving for tolerance 1e-16\n",
      "Solving for tolerance 1e-16\n",
      "Solving for tolerance 1e-16\n",
      "Solving for tolerance 1e-16\n",
      "Solving for tolerance 1e-16\n",
      "Solving for tolerance 1e-16\n",
      "Solving for tolerance 1e-16\n",
      "Solving for tolerance 1e-16\n",
      "Solving for tolerance 1e-16\n",
      "Solving for tolerance 1e-16\n",
      "Solving for tolerance 1e-16\n",
      "Solving for tolerance 1e-16\n",
      "Solving for tolerance 1e-16\n",
      "Solving for tolerance 1e-16\n",
      "Solving for tolerance 1e-16\n",
      "Solving for tolerance 1e-16\n",
      "Solving for tolerance 1e-16\n",
      "Solving for tolerance 1e-16\n",
      "Solving for tolerance 1e-16\n",
      "Solving for tolerance 1e-16\n",
      "Solving for tolerance 1e-16\n",
      "Solving for tolerance 1e-16\n",
      "Solving for tolerance 1e-16\n",
      "Solving for tolerance 1e-16\n",
      "Solving for tolerance 1e-16\n",
      "Solving for tolerance 1e-16\n",
      "Solving for tolerance 1e-16\n",
      "Solving for tolerance 1e-16\n",
      "Solving for tolerance 1e-16\n",
      "Solving for tolerance 1e-16\n",
      "Solving for tolerance 1e-16\n",
      "Solving for tolerance 1e-16\n",
      "Solving for tolerance 1e-16\n",
      "Solving for tolerance 1e-16\n",
      "Solving for tolerance 1e-16\n",
      "Solving for tolerance 1e-16\n",
      "Solving for tolerance 1e-16\n",
      "Solving for tolerance 1e-16\n",
      "Solving for tolerance 1e-16\n",
      "Solving for tolerance 1e-16\n",
      "Solving for tolerance 1e-16\n",
      "Solving for tolerance 1e-16\n",
      "Solving for tolerance 1e-16\n",
      "Solving for tolerance 1e-16\n",
      "Solving for tolerance 1e-16\n",
      "Solving for tolerance 1e-16\n",
      "Solving for tolerance 1e-16\n",
      "Solving for tolerance 1e-16\n",
      "Solving for tolerance 1e-16\n",
      "Solving for tolerance 1e-16\n",
      "Solving for tolerance 1e-16\n",
      "Solving for tolerance 1e-16\n",
      "Solving for tolerance 1e-16\n",
      "Solving for tolerance 1e-16\n",
      "Solving for tolerance 1e-16\n",
      "Solving for tolerance 1e-16\n",
      "Solving for tolerance 1e-16\n",
      "Solving for tolerance 1e-16\n",
      "Solving for tolerance 1e-16\n",
      "Solving for tolerance 1e-16\n",
      "Solving for tolerance 1e-16\n",
      "Solving for tolerance 1e-16\n",
      "Solving for tolerance 1e-16\n",
      "Solving for tolerance 1e-16\n",
      "Solving for tolerance 1e-16\n",
      "Solving for tolerance 1e-16\n",
      "Solving for tolerance 1e-16\n",
      "Solving for tolerance 1e-16\n",
      "Solving for tolerance 1e-16\n",
      "Solving for tolerance 1e-16\n",
      "Solving for tolerance 1e-16\n",
      "Solving for tolerance 1e-16\n",
      "Solving for tolerance 1e-16\n",
      "Solving for tolerance 1e-16\n",
      "Solving for tolerance 1e-16\n",
      "Solving for tolerance 1e-16\n",
      "Solving for tolerance 1e-16\n",
      "Solving for tolerance 1e-16\n",
      "Solving for tolerance 1e-16\n",
      "Solving for tolerance 1e-16\n",
      "Solving for tolerance 1e-16\n",
      "Solving for tolerance 1e-16\n",
      "Solving for tolerance 1e-16\n",
      "Solving for tolerance 1e-16\n",
      "Solving for tolerance 1e-16\n",
      "Solving for tolerance 1e-16\n",
      "Solving for tolerance 1e-16\n",
      "Solving for tolerance 1e-16\n",
      "Solving for tolerance 1e-16\n",
      "Solving for tolerance 1e-16\n",
      "Solving for tolerance 1e-16\n",
      "Solving for tolerance 1e-16\n",
      "Solving for tolerance 1e-16\n",
      "Solving for tolerance 1e-16\n",
      "Solving for tolerance 1e-16\n",
      "Solving for tolerance 1e-16\n",
      "Solving for tolerance 1e-16\n",
      "Solving for tolerance 1e-16\n",
      "Solving for tolerance 1e-16\n",
      "Solving for tolerance 1e-16\n",
      "Solving for tolerance 1e-16\n",
      "Solving for tolerance 1e-16\n",
      "Solving for tolerance 1e-16\n",
      "Solving for tolerance 1e-16\n",
      "Solving for tolerance 1e-16\n",
      "Solving for tolerance 1e-16\n",
      "Solving for tolerance 1e-16\n",
      "Solving for tolerance 1e-16\n",
      "Solving for tolerance 1e-16\n",
      "Solving for tolerance 1e-16\n",
      "Solving for tolerance 1e-16\n",
      "Solving for tolerance 1e-16\n",
      "Solving for tolerance 1e-16\n",
      "Solving for tolerance 1e-16\n",
      "Solving for tolerance 1e-16\n",
      "Solving for tolerance 1e-16\n",
      "Solving for tolerance 1e-16\n",
      "Solving for tolerance 1e-16\n",
      "Solving for tolerance 1e-16\n",
      "Solving for tolerance 1e-16\n",
      "Solving for tolerance 1e-16\n",
      "Solving for tolerance 1e-16\n",
      "Solving for tolerance 1e-16\n",
      "Solving for tolerance 1e-16\n",
      "Solving for tolerance 1e-16\n",
      "Solving for tolerance 1e-16\n",
      "Solving for tolerance 1e-16\n",
      "Solving for tolerance 1e-16\n",
      "Solving for tolerance 1e-16\n",
      "Solving for tolerance 1e-16\n",
      "Solving for tolerance 1e-16\n",
      "Solving for tolerance 1e-16\n",
      "Solving for tolerance 1e-16\n",
      "Solving for tolerance 1e-16\n",
      "Solving for tolerance 1e-16\n",
      "Solving for tolerance 1e-16\n",
      "Solving for tolerance 1e-16\n",
      "Solving for tolerance 1e-16\n",
      "Solving for tolerance 1e-16\n",
      "Solving for tolerance 1e-16\n",
      "Solving for tolerance 1e-16\n",
      "Solving for tolerance 1e-16\n",
      "Solving for tolerance 1e-16\n",
      "Solving for tolerance 1e-16\n",
      "Solving for tolerance 1e-16\n",
      "Solving for tolerance 1e-16\n",
      "Solving for tolerance 1e-16\n",
      "Solving for tolerance 1e-16\n",
      "Solving for tolerance 1e-16\n",
      "Solving for tolerance 1e-16\n",
      "Solving for tolerance 1e-16\n",
      "Solving for tolerance 1e-16\n",
      "Solving for tolerance 1e-16\n",
      "Solving for tolerance 1e-16\n",
      "Solving for tolerance 1e-16\n",
      "Solving for tolerance 1e-16\n",
      "Solving for tolerance 1e-16\n",
      "Solving for tolerance 1e-16\n",
      "Solving for tolerance 1e-16\n",
      "Solving for tolerance 1e-16\n",
      "Solving for tolerance 1e-16\n",
      "Solving for tolerance 1e-16\n",
      "Solving for tolerance 1e-16\n",
      "Solving for tolerance 1e-16\n",
      "Solving for tolerance 1e-16\n",
      "Solving for tolerance 1e-16\n",
      "Solving for tolerance 1e-16\n",
      "Solving for tolerance 1e-16\n",
      "Solving for tolerance 1e-16\n",
      "Solving for tolerance 1e-16\n",
      "Solving for tolerance 1e-16\n",
      "Solving for tolerance 1e-16\n",
      "Solving for tolerance 1e-16\n",
      "Solving for tolerance 1e-16\n",
      "Solving for tolerance 1e-16\n",
      "Solving for tolerance 1e-16\n",
      "Solving for tolerance 1e-16\n",
      "Solving for tolerance 1e-16\n",
      "Solving for tolerance 1e-16\n",
      "Solving for tolerance 1e-16\n",
      "Solving for tolerance 1e-16\n",
      "Solving for tolerance 1e-16\n",
      "Solving for tolerance 1e-16\n",
      "Solving for tolerance 1e-16\n",
      "Solving for tolerance 1e-16\n",
      "Solving for tolerance 1e-16\n",
      "Solving for tolerance 1e-16\n",
      "Solving for tolerance 1e-16\n",
      "Solving for tolerance 1e-16\n",
      "Solving for tolerance 1e-16\n",
      "Solving for tolerance 1e-16\n",
      "Solving for tolerance 1e-16\n",
      "Solving for tolerance 1e-16\n",
      "Solving for tolerance 1e-16\n",
      "Solving for tolerance 1e-16\n",
      "Solving for tolerance 1e-16\n",
      "Solving for tolerance 1e-16\n",
      "Solving for tolerance 1e-16\n",
      "Solving for tolerance 1e-16\n",
      "Solving for tolerance 1e-16\n",
      "Solving for tolerance 1e-16\n",
      "Solving for tolerance 1e-16\n",
      "Solving for tolerance 1e-16\n",
      "Solving for tolerance 1e-16\n",
      "Solving for tolerance 1e-16\n",
      "Solving for tolerance 1e-16\n",
      "Solving for tolerance 1e-16\n",
      "Solving for tolerance 1e-16\n",
      "Solving for tolerance 1e-16\n",
      "Solving for tolerance 1e-16\n",
      "Solving for tolerance 1e-16\n",
      "Solving for tolerance 1e-16\n",
      "Solving for tolerance 1e-16\n",
      "Solving for tolerance 1e-16\n",
      "Solving for tolerance 1e-16\n",
      "Solving for tolerance 1e-16\n",
      "Solving for tolerance 1e-16\n",
      "Solving for tolerance 1e-16\n",
      "Solving for tolerance 1e-16\n",
      "Solving for tolerance 1e-16\n",
      "Solving for tolerance 1e-16\n",
      "Solving for tolerance 1e-16\n",
      "Solving for tolerance 1e-16\n",
      "Solving for tolerance 1e-15\n",
      "Solving for tolerance 1e-16\n",
      "Solving for tolerance 1e-16\n",
      "Solving for tolerance 1e-16\n",
      "Solving for tolerance 1e-16\n",
      "Solving for tolerance 1e-16\n",
      "Solving for tolerance 1e-16\n",
      "Solving for tolerance 1e-16\n",
      "Solving for tolerance 1e-16\n",
      "Solving for tolerance 1e-16\n",
      "Solving for tolerance 1e-16\n",
      "Solving for tolerance 1e-16\n",
      "Solving for tolerance 1e-16\n",
      "Solving for tolerance 1e-16\n",
      "Solving for tolerance 1e-16\n",
      "Solving for tolerance 1e-16\n",
      "Solving for tolerance 1e-16\n",
      "Solving for tolerance 1e-16\n",
      "Solving for tolerance 1e-16\n",
      "Solving for tolerance 1e-16\n",
      "Solving for tolerance 1e-16\n",
      "Solving for tolerance 1e-16\n",
      "Solving for tolerance 1e-16\n",
      "Solving for tolerance 1e-16\n",
      "Solving for tolerance 1e-16\n",
      "Solving for tolerance 1e-16\n",
      "Solving for tolerance 1e-16\n",
      "Solving for tolerance 1e-16\n",
      "Solving for tolerance 1e-16\n",
      "Solving for tolerance 1e-16\n",
      "Solving for tolerance 1e-16\n",
      "Solving for tolerance 1e-16\n",
      "Solving for tolerance 1e-16\n",
      "Solving for tolerance 1e-16\n",
      "Solving for tolerance 1e-16\n",
      "Solving for tolerance 1e-16\n",
      "Solving for tolerance 1e-16\n",
      "Solving for tolerance 1e-16\n",
      "Solving for tolerance 1e-16\n",
      "Solving for tolerance 1e-16\n",
      "Solving for tolerance 1e-16\n",
      "Solving for tolerance 1e-16\n",
      "Solving for tolerance 1e-16\n",
      "Solving for tolerance 1e-16\n",
      "Solving for tolerance 1e-16\n",
      "Solving for tolerance 1e-16\n",
      "Solving for tolerance 1e-16\n",
      "Solving for tolerance 1e-16\n",
      "Solving for tolerance 1e-16\n",
      "Solving for tolerance 1e-16\n",
      "Solving for tolerance 1e-16\n"
     ]
    },
    {
     "name": "stdout",
     "output_type": "stream",
     "text": [
      "Solving for tolerance 1e-16\n",
      "Solving for tolerance 1e-16\n",
      "Solving for tolerance 1e-16\n",
      "Solving for tolerance 1e-16\n",
      "Solving for tolerance 1e-16\n",
      "Solving for tolerance 1e-16\n",
      "Solving for tolerance 1e-16\n",
      "Solving for tolerance 1e-16\n",
      "Solving for tolerance 1e-16\n",
      "Solving for tolerance 1e-16\n",
      "Solving for tolerance 1e-16\n",
      "Solving for tolerance 1e-16\n",
      "Solving for tolerance 1e-16\n",
      "Solving for tolerance 1e-16\n",
      "Solving for tolerance 1e-16\n",
      "Solving for tolerance 1e-16\n",
      "Solving for tolerance 1e-16\n",
      "Solving for tolerance 1e-16\n",
      "Solving for tolerance 1e-16\n",
      "Solving for tolerance 1e-16\n",
      "Solving for tolerance 1e-16\n",
      "Solving for tolerance 1e-16\n",
      "Solving for tolerance 1e-16\n",
      "Solving for tolerance 1e-16\n",
      "Solving for tolerance 1e-16\n",
      "Solving for tolerance 1e-16\n",
      "Solving for tolerance 1e-16\n",
      "Solving for tolerance 1e-16\n",
      "Solving for tolerance 1e-16\n",
      "Solving for tolerance 1e-16\n",
      "Solving for tolerance 1e-16\n",
      "Solving for tolerance 1e-16\n",
      "Solving for tolerance 1e-16\n",
      "Solving for tolerance 1e-16\n",
      "Solving for tolerance 1e-16\n",
      "Solving for tolerance 1e-16\n",
      "Solving for tolerance 1e-16\n",
      "Solving for tolerance 1e-16\n",
      "Solving for tolerance 1e-16\n",
      "Solving for tolerance 1e-16\n",
      "Solving for tolerance 1e-16\n",
      "Solving for tolerance 1e-16\n",
      "Solving for tolerance 1e-16\n",
      "Solving for tolerance 1e-16\n",
      "Solving for tolerance 1e-16\n",
      "Solving for tolerance 1e-16\n",
      "Solving for tolerance 1e-16\n",
      "Solving for tolerance 1e-16\n",
      "Solving for tolerance 1e-16\n",
      "Solving for tolerance 1e-16\n",
      "Solving for tolerance 1e-16\n",
      "Solving for tolerance 1e-16\n",
      "Solving for tolerance 1e-16\n",
      "Solving for tolerance 1e-16\n",
      "Solving for tolerance 1e-16\n",
      "Solving for tolerance 1e-16\n",
      "Solving for tolerance 1e-16\n",
      "Solving for tolerance 1e-16\n",
      "Solving for tolerance 1e-16\n",
      "Solving for tolerance 1e-16\n",
      "Solving for tolerance 1e-16\n",
      "Solving for tolerance 1e-16\n",
      "Solving for tolerance 1e-16\n",
      "Solving for tolerance 1e-16\n",
      "Solving for tolerance 1e-16\n",
      "Solving for tolerance 1e-16\n",
      "Solving for tolerance 1e-16\n",
      "Solving for tolerance 1e-16\n",
      "Solving for tolerance 1e-16\n",
      "Solving for tolerance 1e-14\n",
      "Solving for tolerance 1e-16\n",
      "Solving for tolerance 1e-13\n",
      "Solving for tolerance 1e-16\n",
      "Solving for tolerance 1e-16\n",
      "Solving for tolerance 1e-16\n",
      "Solving for tolerance 1e-16\n",
      "Solving for tolerance 1e-16\n",
      "Solving for tolerance 1e-16\n",
      "Solving for tolerance 1e-16\n",
      "Solving for tolerance 1e-16\n",
      "Solving for tolerance 1e-16\n",
      "Solving for tolerance 1e-16\n",
      "Solving for tolerance 1e-16\n",
      "Solving for tolerance 1e-16\n",
      "Solving for tolerance 1e-16\n",
      "\r"
     ]
    }
   ],
   "source": [
    "cv_result = mapk.cv(shuffled_counts, shuffled_dcounts_dt, l1_ratios=(1.,), alphas=np.logspace(2.5, 4, num=25), \n",
    "                    n_splits=15, njobs=6)"
   ]
  },
  {
   "cell_type": "code",
   "execution_count": 80,
   "metadata": {},
   "outputs": [],
   "source": [
    "alphas = []\n",
    "scores = []\n",
    "for res in cv_result['cv_result']:\n",
    "    alphas.append(res['alpha'])\n",
    "    scores.append(np.mean(res['score']))\n",
    "alphas = np.array(alphas)\n",
    "scores = np.array(scores)\n",
    "N = np.argsort(alphas)\n",
    "alphas = alphas[N]\n",
    "scores = scores[N]"
   ]
  },
  {
   "cell_type": "code",
   "execution_count": 81,
   "metadata": {},
   "outputs": [
    {
     "data": {
      "text/plain": [
       "[<matplotlib.lines.Line2D at 0x7f371a188ac8>]"
      ]
     },
     "execution_count": 81,
     "metadata": {},
     "output_type": "execute_result"
    }
   ],
   "source": [
    "%matplotlib qt\n",
    "plt.semilogx(alphas, -scores)\n",
    "#plt.ylim([4.447e8, 4.46e8])"
   ]
  },
  {
   "cell_type": "code",
   "execution_count": 84,
   "metadata": {},
   "outputs": [],
   "source": [
    "X = np.argmin(-scores)"
   ]
  },
  {
   "cell_type": "code",
   "execution_count": 85,
   "metadata": {},
   "outputs": [
    {
     "data": {
      "text/plain": [
       "421.6965034285823"
      ]
     },
     "execution_count": 85,
     "metadata": {},
     "output_type": "execute_result"
    }
   ],
   "source": [
    "alphas[X]"
   ]
  },
  {
   "cell_type": "code",
   "execution_count": 86,
   "metadata": {},
   "outputs": [
    {
     "data": {
      "text/plain": [
       "8"
      ]
     },
     "execution_count": 86,
     "metadata": {},
     "output_type": "execute_result"
    }
   ],
   "source": [
    "bfc =mapk.bfc()\n",
    "mapk.bogus_bfc(bfc)"
   ]
  },
  {
   "cell_type": "code",
   "execution_count": 87,
   "metadata": {},
   "outputs": [],
   "source": [
    "RATES = np.array([\n",
    "    1.,\n",
    "    1000.,\n",
    "    1.,\n",
    "    1000.,\n",
    "    1.,\n",
    "    1000.,\n",
    "    1.,\n",
    "    1000.,\n",
    "])\n",
    "mapk.RATES = np.concatenate((RATES, np.zeros((mapk.N_BOGUS,))))"
   ]
  },
  {
   "cell_type": "code",
   "execution_count": 88,
   "metadata": {},
   "outputs": [
    {
     "name": "stdout",
     "output_type": "stream",
     "text": [
      "Trying tolerance 1e-16\n",
      "optimization problem did exit successfully (alpha=421.6965034285823, lambda=1.0)!\n",
      "status 0: Optimization terminated successfully.\n",
      "22 / 30000 iterations\n"
     ]
    }
   ],
   "source": [
    "estimated_rates = mapk.solve(counts, dcounts_dt, alpha=alphas[X], l1_ratio=1.)"
   ]
  },
  {
   "cell_type": "code",
   "execution_count": 89,
   "metadata": {},
   "outputs": [
    {
     "data": {
      "text/plain": [
       "array([0.27721306, 0.01050332, 0.00862906, 0.00404381, 0.00292371,\n",
       "       0.00057347, 0.00054221, 0.0003029 ])"
      ]
     },
     "execution_count": 89,
     "metadata": {},
     "output_type": "execute_result"
    }
   ],
   "source": [
    "-np.sort(-np.abs(((estimated_rates[:8] - mapk.RATES[:8]) / mapk.RATES[:8])))"
   ]
  },
  {
   "cell_type": "code",
   "execution_count": 90,
   "metadata": {},
   "outputs": [
    {
     "name": "stdout",
     "output_type": "stream",
     "text": [
      "Trying tolerance 1e-16\n",
      "optimization problem did exit successfully (alpha=0, lambda=1.0)!\n",
      "status 0: Optimization terminated successfully.\n",
      "21 / 30000 iterations\n"
     ]
    }
   ],
   "source": [
    "estimated_rates = mapk.solve(counts, dcounts_dt, alpha=0, l1_ratio=1.)"
   ]
  },
  {
   "cell_type": "code",
   "execution_count": 91,
   "metadata": {},
   "outputs": [
    {
     "data": {
      "text/plain": [
       "array([2.49018679e-01, 1.05021623e-02, 8.62863328e-03, 5.54867604e-04,\n",
       "       5.29518123e-04, 1.11964732e-04, 7.39761643e-05, 1.30372199e-05])"
      ]
     },
     "execution_count": 91,
     "metadata": {},
     "output_type": "execute_result"
    }
   ],
   "source": [
    "-np.sort(-np.abs(((estimated_rates[:8] - mapk.RATES[:8]) / mapk.RATES[:8])))"
   ]
  },
  {
   "cell_type": "code",
   "execution_count": 16,
   "metadata": {},
   "outputs": [
    {
     "data": {
      "text/plain": [
       "array([ 9.91371044e-01,  9.89496972e+02,  9.99455822e-01,  9.99206189e+02,\n",
       "        7.67234265e-01,  9.75547750e+02,  7.56833775e-01,  5.78850166e+02,\n",
       "        2.37761448e-04,  2.37981604e-01,  2.01302884e-01,  2.37490330e-01,\n",
       "        2.04182798e-01, -2.37920287e-01,  2.03394233e-01,  1.69219547e-01,\n",
       "       -4.04724344e-01,  1.24116303e-03, -2.11668765e-02, -4.17673185e-02,\n",
       "        5.90881176e-02, -4.82711869e-01,  1.18363528e+00])"
      ]
     },
     "execution_count": 16,
     "metadata": {},
     "output_type": "execute_result"
    }
   ],
   "source": [
    "estimated_rates"
   ]
  },
  {
   "cell_type": "code",
   "execution_count": 53,
   "metadata": {},
   "outputs": [],
   "source": [
    "tuples = tuple((i, j) for i in range(1, 9) for j in range(9) if j > i)"
   ]
  },
  {
   "cell_type": "code",
   "execution_count": 54,
   "metadata": {},
   "outputs": [],
   "source": [
    "pairs = tuple((tuples[i], tuples[j]) for i in range(len(tuples)) for j in range(len(tuples)) if j != i\n",
    "             and tuples[i][0] == tuples[j][0] and tuples[i][1] - tuples[j][1] == -1 and tuples[i][1] % 2 == 1)"
   ]
  },
  {
   "cell_type": "code",
   "execution_count": 55,
   "metadata": {},
   "outputs": [],
   "source": [
    "pairs = [(pairs[i][0], pairs[i][1]) for i in range(len(pairs))] \n",
    "        + [(pairs[i][1], pairs[i][0]) for i in range(len(pairs))]"
   ]
  },
  {
   "cell_type": "code",
   "execution_count": 56,
   "metadata": {},
   "outputs": [
    {
     "data": {
      "text/plain": [
       "[((1, 3), (1, 4)),\n",
       " ((1, 5), (1, 6)),\n",
       " ((1, 7), (1, 8)),\n",
       " ((2, 3), (2, 4)),\n",
       " ((2, 5), (2, 6)),\n",
       " ((2, 7), (2, 8)),\n",
       " ((3, 5), (3, 6)),\n",
       " ((3, 7), (3, 8)),\n",
       " ((4, 5), (4, 6)),\n",
       " ((4, 7), (4, 8)),\n",
       " ((5, 7), (5, 8)),\n",
       " ((6, 7), (6, 8)),\n",
       " ((1, 4), (1, 3)),\n",
       " ((1, 6), (1, 5)),\n",
       " ((1, 8), (1, 7)),\n",
       " ((2, 4), (2, 3)),\n",
       " ((2, 6), (2, 5)),\n",
       " ((2, 8), (2, 7)),\n",
       " ((3, 6), (3, 5)),\n",
       " ((3, 8), (3, 7)),\n",
       " ((4, 6), (4, 5)),\n",
       " ((4, 8), (4, 7)),\n",
       " ((5, 8), (5, 7)),\n",
       " ((6, 8), (6, 7))]"
      ]
     },
     "execution_count": 56,
     "metadata": {},
     "output_type": "execute_result"
    }
   ],
   "source": [
    "pairs"
   ]
  }
 ],
 "metadata": {
  "kernelspec": {
   "display_name": "Python 3",
   "language": "python",
   "name": "python3"
  },
  "language_info": {
   "codemirror_mode": {
    "name": "ipython",
    "version": 3
   },
   "file_extension": ".py",
   "mimetype": "text/x-python",
   "name": "python",
   "nbconvert_exporter": "python",
   "pygments_lexer": "ipython3",
   "version": "3.6.7"
  }
 },
 "nbformat": 4,
 "nbformat_minor": 2
}
