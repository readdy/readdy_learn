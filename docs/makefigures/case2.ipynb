{
 "cells": [
  {
   "cell_type": "code",
   "execution_count": 1,
   "metadata": {},
   "outputs": [],
   "source": [
    "%matplotlib inline\n",
    "import matplotlib.pyplot as plt\n",
    "plt.style.use(\"rlearn.mplstyle\")\n",
    "\n",
    "import os\n",
    "import numpy as np\n",
    "import samplebase as sb\n",
    "import pandas as pd\n",
    "import case_config\n",
    "from copy import copy"
   ]
  },
  {
   "cell_type": "code",
   "execution_count": 2,
   "metadata": {},
   "outputs": [
    {
     "data": {
      "text/plain": [
       "10.0"
      ]
     },
     "execution_count": 2,
     "metadata": {},
     "output_type": "execute_result"
    }
   ],
   "source": [
    "plt.rcParams['font.size']"
   ]
  },
  {
   "cell_type": "markdown",
   "metadata": {},
   "source": [
    "- 47 rates\n",
    "- 14 different #realizations\n",
    "- 10 runs each"
   ]
  },
  {
   "cell_type": "code",
   "execution_count": 3,
   "metadata": {},
   "outputs": [
    {
     "name": "stdout",
     "output_type": "stream",
     "text": [
      "ReaDDy learn config\n",
      "*********************************************\n",
      "Target time: 2.0\n",
      "Gillespie intermediate rescaling factor: 500.0\n",
      "Discretization timestep: 0.003\n",
      "Reactions:\n",
      "Type        Involved species             Rate\n",
      "----------  -------------------------  ------\n",
      "Fission     DNA_A -> DNA_A + mRNA_A       1.8\n",
      "Fission     mRNA_A -> mRNA_A + A          2.1\n",
      "Decay       mRNA_A -> 0                   1.3\n",
      "Decay       A -> 0                        1.5\n",
      "Fission     DNA_B -> DNA_B + mRNA_B       2.2\n",
      "Fission     mRNA_B -> mRNA_B + B          2\n",
      "Decay       mRNA_B -> 0                   2\n",
      "Decay       B -> 0                        2.5\n",
      "Fission     DNA_C -> DNA_C + mRNA_C       3.2\n",
      "Fission     mRNA_C -> mRNA_C + C          3\n",
      "Decay       mRNA_C -> 0                   2.3\n",
      "Decay       C -> 0                        2.5\n",
      "Fission     mRNA_A + A -> A               0\n",
      "Fission     mRNA_B + B -> B               0\n",
      "Fission     mRNA_C + C -> C               0\n",
      "Fission     mRNA_B + A -> A               0\n",
      "Fission     mRNA_C + B -> B               0\n",
      "Fission     mRNA_A + C -> C               0\n",
      "Fission     mRNA_C + A -> A               6\n",
      "Fission     mRNA_B + C -> C               4\n",
      "Fission     mRNA_A + B -> B               3\n",
      "Fission     mRNA_A + A -> mRNA_A          0\n",
      "Fission     mRNA_B + B -> mRNA_B          0\n",
      "Fission     mRNA_C + C -> C               0\n",
      "Fission     mRNA_A + B -> mRNA_A          0\n",
      "Fission     mRNA_B + C -> mRNA_B          0\n",
      "Fission     mRNA_C + A -> mRNA_C          0\n",
      "Fission     mRNA_A + C -> mRNA_A          0\n",
      "Fission     mRNA_B + A -> mRNA_B          0\n",
      "Fission     mRNA_C + mRNA_B -> mRNA_C     0\n",
      "Fission     A + A -> A                    0\n",
      "Fission     B + B -> B                    0\n",
      "Fission     C + C -> C                    0\n",
      "Fission     B + A -> A                    0\n",
      "Fission     C + B -> B                    0\n",
      "Fission     A + C -> C                    0\n",
      "Fission     C + A -> A                    0\n",
      "Fission     B + C -> C                    0\n",
      "Fission     A + B -> B                    0\n",
      "Conversion  A -> B                        0\n",
      "Conversion  B -> C                        0\n",
      "Conversion  C -> A                        0\n",
      "Conversion  A -> C                        0\n",
      "Conversion  C -> B                        0\n",
      "Conversion  B -> A                        0\n",
      "Fission     mRNA_B + mRNA_C -> mRNA_A     0\n",
      "Fission     A + mRNA_C -> C               0\n"
     ]
    }
   ],
   "source": [
    "case_config.print_config(True)"
   ]
  },
  {
   "cell_type": "code",
   "execution_count": 11,
   "metadata": {},
   "outputs": [],
   "source": [
    "DATA_ROOT = \"/home/mho/Dropbox/phd/readdy_learn/reaction_learn_data\"\n",
    "crop_estimated_rates = True\n",
    "gillespie_realizations = [1, 2, 5, 10, 20, 50, 100, 200, 500, 1000, 2000, 5000, 10000, 20000]"
   ]
  },
  {
   "cell_type": "code",
   "execution_count": 12,
   "metadata": {},
   "outputs": [],
   "source": [
    "with open(os.path.join(DATA_ROOT, 'case2_validation_alphas_and_solutions_averagefolds.npz'), 'rb') as f:\n",
    "    X = np.load(f)\n",
    "    rates = X['rates']\n",
    "    l1_dev = X['l1_dev']\n",
    "    alpha_val = X['alpha_val']"
   ]
  },
  {
   "cell_type": "code",
   "execution_count": 13,
   "metadata": {},
   "outputs": [],
   "source": [
    "if crop_estimated_rates:\n",
    "    for gillespie_realization in range(len(gillespie_realizations)):\n",
    "        estimated_rates = rates[gillespie_realization]\n",
    "        cropped_rates = estimated_rates[:]\n",
    "        cropped_rates[cropped_rates < case_config.CASE1_CUTOFF] = 0.\n",
    "        for arr in np.bitwise_or(cropped_rates >= case_config.CASE1_CUTOFF, cropped_rates == 0):\n",
    "            assert all(arr)\n",
    "        for i in range(l1_dev.shape[1]):\n",
    "            l1_dev[gillespie_realization][i] = np.sum(np.abs(cropped_rates[i] - case_config.DESIRED_RATES))"
   ]
  },
  {
   "cell_type": "code",
   "execution_count": 14,
   "metadata": {},
   "outputs": [
    {
     "data": {
      "image/png": "[encoded data removed]",
      "text/plain": [
       "<Figure size 288x432 with 2 Axes>"
      ]
     },
     "metadata": {},
     "output_type": "display_data"
    }
   ],
   "source": [
    "fs = copy(plt.rcParams.get('figure.figsize'))\n",
    "fs[1] = 2*fs[1]\n",
    "f, (ax1, ax2) = plt.subplots(nrows=2, ncols=1, figsize=fs, sharex=True)\n",
    "\n",
    "failure_rates = []\n",
    "failure_rates_std = []\n",
    "for gillespie_realization in range(len(gillespie_realizations)):\n",
    "    estimated_rates = rates[gillespie_realization]\n",
    "    r = [case_config.failure_rate(x) for x in estimated_rates]\n",
    "    failure_rates.append(np.mean(r))\n",
    "    failure_rates_std.append(np.std(r))\n",
    "\n",
    "failure_rates = np.array(failure_rates)\n",
    "failure_rates_std = np.array(failure_rates_std)\n",
    "ax1.plot(gillespie_realizations, failure_rates, label='Failure rate')\n",
    "ax1.fill_between(gillespie_realizations, y1=failure_rates-failure_rates_std, y2=failure_rates+failure_rates_std, alpha=0.3)\n",
    "ax1.plot(gillespie_realizations, [0]*len(gillespie_realizations), '--', color='xkcd:eggplant', label='Optimal value')\n",
    "ax1.set_xscale('log')\n",
    "# ax1.set_xlabel('Number of measurements')\n",
    "ax1.set_ylabel('Failure rate')\n",
    "ax1.legend()\n",
    "\n",
    "mean = np.mean(l1_dev, axis=1)\n",
    "err = np.std(l1_dev, axis=1) #/ np.sqrt(10.) # 10 iids\n",
    "ax2.plot(gillespie_realizations, mean, label=r'Estimation error')\n",
    "ax2.fill_between(gillespie_realizations, y1=np.clip(mean-err, 0., 1e16), y2=mean+err, alpha=0.3)\n",
    "ax2.set_xscale(\"log\")\n",
    "ax2.set_xlabel(\"Number of measurements\")\n",
    "ax2.set_ylabel(r\"$|\\xi_\\mathrm{cv}-\\hat{\\xi}|_1$\")\n",
    "# plt.title(\"Deviation of estimated rates from desired rates\")\n",
    "ymin, ymax = plt.ylim()\n",
    "ax2.set_ylim(-1,ymax)\n",
    "ax2.plot(gillespie_realizations, [case_config.CASE1_MIN_L1_ERR]*len(gillespie_realizations), \n",
    "         '--', color='xkcd:eggplant', label='Noisefree estimation error')\n",
    "ax2.legend()\n",
    "\n",
    "f.subplots_adjust(hspace=0)\n",
    "plt.setp([a.get_xticklabels() for a in f.axes[:-1]], visible=False)\n",
    "\n",
    "f.savefig(\"case2.pdf\", bbox_inches=\"tight\", transparent=True)"
   ]
  },
  {
   "cell_type": "code",
   "execution_count": 11,
   "metadata": {},
   "outputs": [],
   "source": [
    "if False:\n",
    "    mean = np.mean(alpha_val, axis=1)\n",
    "    err = np.std(alpha_val, axis=1) #/ np.sqrt(10.) # 10 iids\n",
    "    plt.plot(gillespie_realizations, mean)\n",
    "    plt.fill_between(gillespie_realizations, y1=np.clip(mean-err, 1e-8, 1.), y2=mean+err, alpha=0.3)\n",
    "    plt.xscale(\"log\")\n",
    "    plt.yscale(\"log\")\n",
    "    plt.xlabel(\"Number of measurements\")\n",
    "    plt.ylabel(r\"Hyperparameter $\\alpha$\")\n",
    "    # plt.title(\"Optimal hyperparameter after validation\")\n",
    "    #ymin, ymax = plt.ylim()\n",
    "    #plt.ylim(-1,ymax)\n",
    "    plt.savefig(\"case2_best_hyperparameter_averagefolds.pdf\", bbox_inches=\"tight\", transparent=True)"
   ]
  },
  {
   "cell_type": "code",
   "execution_count": null,
   "metadata": {},
   "outputs": [],
   "source": []
  },
  {
   "cell_type": "code",
   "execution_count": null,
   "metadata": {},
   "outputs": [],
   "source": []
  }
 ],
 "metadata": {
  "kernelspec": {
   "display_name": "Python 3",
   "language": "python",
   "name": "python3"
  },
  "language_info": {
   "codemirror_mode": {
    "name": "ipython",
    "version": 3
   },
   "file_extension": ".py",
   "mimetype": "text/x-python",
   "name": "python",
   "nbconvert_exporter": "python",
   "pygments_lexer": "ipython3",
   "version": "3.6.6"
  }
 },
 "nbformat": 4,
 "nbformat_minor": 2
}
