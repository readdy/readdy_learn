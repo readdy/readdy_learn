{
 "cells": [
  {
   "cell_type": "code",
   "execution_count": 1,
   "metadata": {
    "collapsed": true
   },
   "outputs": [],
   "source": [
    "from __future__ import print_function\n",
    "%matplotlib inline\n",
    "import matplotlib.pyplot as plt\n",
    "import numpy as np\n",
    "import scipy.optimize as so\n",
    "\n",
    "# abbreviation for plotting functions in certain range\n",
    "def plot(f, xRange, *args, **kw):\n",
    "    yRange = np.fromiter(map(f,xRange), np.float)\n",
    "    plt.plot(xRange,yRange, *args, **kw)"
   ]
  },
  {
   "cell_type": "markdown",
   "metadata": {},
   "source": [
    "data was generated with reaction A + B -> C, with rate 0.05 and timestep 0.01 "
   ]
  },
  {
   "cell_type": "code",
   "execution_count": 2,
   "metadata": {
    "collapsed": true
   },
   "outputs": [],
   "source": [
    "data = np.load(\"generate/dtraj.npy\").T"
   ]
  },
  {
   "cell_type": "code",
   "execution_count": 3,
   "metadata": {},
   "outputs": [
    {
     "data": {
      "text/plain": [
       "(3, 50001)"
      ]
     },
     "execution_count": 3,
     "metadata": {},
     "output_type": "execute_result"
    }
   ],
   "source": [
    "data.shape"
   ]
  },
  {
   "cell_type": "code",
   "execution_count": 4,
   "metadata": {},
   "outputs": [
    {
     "data": {
      "text/plain": [
       "[<matplotlib.lines.Line2D at 0x7fa4e84fe828>]"
      ]
     },
     "execution_count": 4,
     "metadata": {},
     "output_type": "execute_result"
    },
    {
     "data": {
      "image/png": "[encoded data removed]",
      "text/plain": [
       "<matplotlib.figure.Figure at 0x7fa4e16d5828>"
      ]
     },
     "metadata": {},
     "output_type": "display_data"
    }
   ],
   "source": [
    "plt.plot(data[0], label=\"A\")\n",
    "plt.plot(data[1], label=\"B\")\n",
    "plt.plot(data[2], label=\"C\")"
   ]
  },
  {
   "cell_type": "markdown",
   "metadata": {},
   "source": [
    "Choose ansatz functions for A+B->C and C->A+B"
   ]
  },
  {
   "cell_type": "code",
   "execution_count": 5,
   "metadata": {
    "collapsed": true
   },
   "outputs": [],
   "source": [
    "def theta1(data):\n",
    "    result = np.zeros_like(data)\n",
    "    result[0] = -data[0]*data[1]\n",
    "    result[1] = -data[0]*data[1]\n",
    "    result[2] = data[0]*data[1]\n",
    "    return result\n",
    "\n",
    "def theta2(data):\n",
    "    return -1.*theta1(data)"
   ]
  },
  {
   "cell_type": "code",
   "execution_count": 6,
   "metadata": {},
   "outputs": [
    {
     "name": "stdout",
     "output_type": "stream",
     "text": [
      "(50000, 3)\n"
     ]
    }
   ],
   "source": [
    "def time_derivative(data):\n",
    "    #result = np.gradient(data, axis=1).T\n",
    "    result = np.diff(data).T\n",
    "    return result/0.01\n",
    "\n",
    "print(time_derivative(data).shape)"
   ]
  },
  {
   "cell_type": "code",
   "execution_count": 7,
   "metadata": {},
   "outputs": [
    {
     "name": "stdout",
     "output_type": "stream",
     "text": [
      "(50000, 3, 3)\n",
      "(50000, 3)\n"
     ]
    }
   ],
   "source": [
    "derivative = time_derivative(data)\n",
    "data = data[:,:-1]\n",
    "theta = np.array([theta1(data), theta2(data), np.zeros_like(data)])\n",
    "theta = np.transpose(theta, axes=(2, 1, 0))\n",
    "\n",
    "print(theta.shape)\n",
    "print(derivative.shape)"
   ]
  },
  {
   "cell_type": "code",
   "execution_count": 8,
   "metadata": {},
   "outputs": [
    {
     "name": "stdout",
     "output_type": "stream",
     "text": [
      "[[[-160000.  160000.       0.]\n",
      "  [-160000.  160000.       0.]\n",
      "  [ 160000. -160000.       0.]]\n",
      "\n",
      " [[-160000.  160000.       0.]\n",
      "  [-160000.  160000.       0.]\n",
      "  [ 160000. -160000.       0.]]\n",
      "\n",
      " [[-160000.  160000.       0.]\n",
      "  [-160000.  160000.       0.]\n",
      "  [ 160000. -160000.       0.]]\n",
      "\n",
      " ..., \n",
      " [[  -6889.    6889.       0.]\n",
      "  [  -6889.    6889.       0.]\n",
      "  [   6889.   -6889.       0.]]\n",
      "\n",
      " [[  -6889.    6889.       0.]\n",
      "  [  -6889.    6889.       0.]\n",
      "  [   6889.   -6889.       0.]]\n",
      "\n",
      " [[  -6889.    6889.       0.]\n",
      "  [  -6889.    6889.       0.]\n",
      "  [   6889.   -6889.       0.]]]\n"
     ]
    }
   ],
   "source": [
    "print(theta)"
   ]
  },
  {
   "cell_type": "code",
   "execution_count": 9,
   "metadata": {},
   "outputs": [
    {
     "data": {
      "text/plain": [
       "(array([-200., -100.,    0.]), array([    4,   309, 49687]))"
      ]
     },
     "execution_count": 9,
     "metadata": {},
     "output_type": "execute_result"
    }
   ],
   "source": [
    "def residual(xi, theta, derivative):\n",
    "    result = derivative - np.matmul(theta, xi)\n",
    "    #result = result*result\n",
    "    result = np.sum(result, axis=1)\n",
    "    #result = np.sqrt(result)\n",
    "    return result\n",
    "\n",
    "np.unique(residual(np.array([0.5,0.5,0.5]), theta, derivative), return_counts=True)"
   ]
  },
  {
   "cell_type": "code",
   "execution_count": 12,
   "metadata": {},
   "outputs": [
    {
     "data": {
      "text/plain": [
       " active_mask: array([ 0.,  0.,  0.])\n",
       "        cost: 1604401.6701612317\n",
       "         fun: array([ 3.10597333,  3.10597333,  3.10597333, ...,  0.13373156,\n",
       "        0.13373156,  0.13373156])\n",
       "        grad: array([ 0.14592603,  1.13317204,  0.        ])\n",
       "         jac: array([[ 159999.99979944, -160000.0006959 ,       0.        ],\n",
       "       [ 159999.99979944, -160000.0006959 ,       0.        ],\n",
       "       [ 159999.99979944, -160000.0006959 ,       0.        ],\n",
       "       ..., \n",
       "       [   6888.99998117,   -6888.99995666,       0.        ],\n",
       "       [   6888.99998117,   -6888.99995666,       0.        ],\n",
       "       [   6888.99998117,   -6888.99995666,       0.        ]])\n",
       "     message: '`xtol` termination condition is satisfied.'\n",
       "        nfev: 30\n",
       "        njev: 5\n",
       "  optimality: 1.1331720445305109\n",
       "      status: 3\n",
       "     success: True\n",
       "           x: array([ 1.25531533,  1.25529592,  0.01      ])"
      ]
     },
     "execution_count": 12,
     "metadata": {},
     "output_type": "execute_result"
    }
   ],
   "source": [
    "so.least_squares(lambda x: residual(x, theta, derivative), np.array([0.05,0.5,0.01]), xtol=1e-15, ftol=1e-15)"
   ]
  },
  {
   "cell_type": "code",
   "execution_count": null,
   "metadata": {
    "collapsed": true
   },
   "outputs": [],
   "source": []
  }
 ],
 "metadata": {
  "kernelspec": {
   "display_name": "Python 3",
   "language": "python",
   "name": "python3"
  },
  "language_info": {
   "codemirror_mode": {
    "name": "ipython",
    "version": 3
   },
   "file_extension": ".py",
   "mimetype": "text/x-python",
   "name": "python",
   "nbconvert_exporter": "python",
   "pygments_lexer": "ipython3",
   "version": "3.6.1"
  }
 },
 "nbformat": 4,
 "nbformat_minor": 2
}
