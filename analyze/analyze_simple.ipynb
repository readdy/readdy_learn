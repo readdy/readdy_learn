{
 "cells": [
  {
   "cell_type": "code",
   "execution_count": 1,
   "metadata": {
    "collapsed": true
   },
   "outputs": [],
   "source": [
    "import os\n",
    "import numpy as np\n",
    "import sklearn as sk\n",
    "import h5py\n",
    "import analyze_tools as at\n",
    "at.log.set_level(\"debug\")"
   ]
  },
  {
   "cell_type": "code",
   "execution_count": 2,
   "metadata": {
    "collapsed": true
   },
   "outputs": [],
   "source": [
    "def get_count_trajectory(fname, cache_fname=None):\n",
    "    if cache_fname and os.path.exists(cache_fname):\n",
    "        return np.load(cache_fname)\n",
    "    else:\n",
    "        dtraj = []\n",
    "        if os.path.exists(fname):\n",
    "            with h5py.File(fname) as f:\n",
    "                traj = f[\"readdy/trajectory\"]\n",
    "                traj_time = traj[\"time\"]\n",
    "                traj_time_records = traj[\"records\"]\n",
    "                for time, records in zip(traj_time, traj_time_records):\n",
    "                    current_counts = [0]*4\n",
    "                    for record in records:\n",
    "                        type_id = record[\"typeId\"]\n",
    "                        current_counts[type_id] += 1\n",
    "                    dtraj.append(current_counts)\n",
    "        else:\n",
    "            log.warn(\"file {} did not exist\".format(fname))\n",
    "        dtraj = np.array(dtraj)\n",
    "        if cache_fname:\n",
    "            np.save(cache_fname, dtraj)\n",
    "        return dtraj\n",
    "def get_count_trajectory_n_particles_obs(fname, cache_fname=None):\n",
    "    with h5py.File(fname) as f:\n",
    "        return f[\"readdy/observables/n_particles/data\"][:].astype(np.double)\n",
    "def rate_info(xi):\n",
    "    diffusion_coeff = 0.2 \n",
    "    micro_rate = 0.05\n",
    "    reaction_radius = 0.7\n",
    "    tmp = np.sqrt(micro_rate / diffusion_coeff) * reaction_radius\n",
    "    rate_chapman = 4. * np.pi * diffusion_coeff * reaction_radius * (1. - np.tanh(tmp) / tmp)\n",
    "    print(\"erban chapman rate (per volume): {}\".format(rate_chapman))\n",
    "    print(\"lasso fitted rate (per counts): {}\".format(xi[0]))\n",
    "    print(\"lasso fitted rate (per volume): {}\".format(xi[0] * 15 * 15 * 15))"
   ]
  },
  {
   "cell_type": "code",
   "execution_count": 3,
   "metadata": {
    "collapsed": true
   },
   "outputs": [],
   "source": [
    "counts = get_count_trajectory_n_particles_obs(\"../generate/simple_trajectory_.h5\", cache_fname='counts_traj_2.npy')\n",
    "counts = counts[:45*500]\n",
    "n_timesteps = counts.shape[0]\n",
    "n_species = counts.shape[1]"
   ]
  },
  {
   "cell_type": "code",
   "execution_count": 4,
   "metadata": {},
   "outputs": [
    {
     "name": "stdout",
     "output_type": "stream",
     "text": [
      "(22500, 4)\n",
      "max counts = 6000.0, min counts = 1.0\n"
     ]
    }
   ],
   "source": [
    "time_step = .01\n",
    "dcounts_dt = np.gradient(counts, axis=0) / time_step\n",
    "print(counts.shape)\n",
    "print(\"max counts = {}, min counts = {}\".format(np.max(counts), np.min(counts[np.nonzero(counts)])))"
   ]
  },
  {
   "cell_type": "markdown",
   "metadata": {},
   "source": [
    "# mean field model"
   ]
  },
  {
   "cell_type": "code",
   "execution_count": 5,
   "metadata": {
    "collapsed": true
   },
   "outputs": [],
   "source": [
    "theta1 = lambda x: x[:,0]\n",
    "theta2 = lambda x: x[:,1]\n",
    "theta3 = lambda x: x[:,2]\n",
    "theta4 = lambda x: x[:,0]*x[:,1]\n",
    "theta5 = lambda x: x[:,0]*x[:,2]\n",
    "theta6 = lambda x: x[:,1]*x[:,2]"
   ]
  },
  {
   "cell_type": "code",
   "execution_count": 6,
   "metadata": {
    "collapsed": true
   },
   "outputs": [],
   "source": [
    "theta = np.array([theta1(counts), theta2(counts), theta3(counts), theta4(counts), theta5(counts), theta6(counts)])"
   ]
  },
  {
   "cell_type": "code",
   "execution_count": 7,
   "metadata": {},
   "outputs": [
    {
     "name": "stdout",
     "output_type": "stream",
     "text": [
      "(6, 22500)\n"
     ]
    }
   ],
   "source": [
    "# theta in R^(species x ansatz functions * n_timesteps)\n",
    "print(theta.shape)"
   ]
  },
  {
   "cell_type": "code",
   "execution_count": 8,
   "metadata": {},
   "outputs": [
    {
     "name": "stderr",
     "output_type": "stream",
     "text": [
      "/home/mho/miniconda2/envs/readdy_dev/lib/python3.6/site-packages/sklearn/linear_model/coordinate_descent.py:484: ConvergenceWarning: Objective did not converge. You might want to increase the number of iterations. Fitting data with very small alpha may cause precision problems.\n",
      "  ConvergenceWarning)\n"
     ]
    },
    {
     "data": {
      "text/plain": [
       "Lasso(alpha=1, copy_X=True, fit_intercept=True, max_iter=1000,\n",
       "   normalize=False, positive=True, precompute=False, random_state=None,\n",
       "   selection='cyclic', tol=0.0001, warm_start=False)"
      ]
     },
     "execution_count": 8,
     "metadata": {},
     "output_type": "execute_result"
    }
   ],
   "source": [
    "from sklearn import linear_model\n",
    "clf = linear_model.Lasso(alpha=1, positive=True)\n",
    "clf.fit(theta.T, dcounts_dt)"
   ]
  },
  {
   "cell_type": "code",
   "execution_count": 9,
   "metadata": {},
   "outputs": [
    {
     "name": "stdout",
     "output_type": "stream",
     "text": [
      "(22500, 4)\n",
      "(6, 22500)\n"
     ]
    }
   ],
   "source": [
    "print(dcounts_dt.shape)\n",
    "print(theta.shape)"
   ]
  },
  {
   "cell_type": "code",
   "execution_count": 10,
   "metadata": {},
   "outputs": [
    {
     "name": "stdout",
     "output_type": "stream",
     "text": [
      "[[  0.00000000e+00   1.52710319e-03   4.17277367e-02   0.00000000e+00\n",
      "    0.00000000e+00   2.36129711e-06]\n",
      " [  0.00000000e+00   2.02706679e-03   1.87372129e-02   0.00000000e+00\n",
      "    0.00000000e+00   2.54752868e-06]\n",
      " [  0.00000000e+00   0.00000000e+00   9.97954521e-04   1.99521901e-06\n",
      "    2.33441241e-07   0.00000000e+00]\n",
      " [  6.92966038e-03   0.00000000e+00   4.06133077e-03   1.01537467e-06\n",
      "    1.38117609e-07   3.51125178e-07]]\n"
     ]
    }
   ],
   "source": [
    "print(clf.coef_)"
   ]
  },
  {
   "cell_type": "markdown",
   "metadata": {},
   "source": [
    "# Averaging: solve for all times indepdenently"
   ]
  },
  {
   "cell_type": "code",
   "execution_count": 11,
   "metadata": {
    "collapsed": true
   },
   "outputs": [],
   "source": [
    "from sklearn import linear_model\n",
    "clf = linear_model.Lasso(alpha=15, warm_start=False, max_iter=1000, tol=1e-6, positive=True)"
   ]
  },
  {
   "cell_type": "code",
   "execution_count": 12,
   "metadata": {},
   "outputs": [
    {
     "name": "stdout",
     "output_type": "stream",
     "text": [
      "xi = [  1.70342302e-06   0.00000000e+00   0.00000000e+00   1.03512901e-02]\n"
     ]
    }
   ],
   "source": [
    "theta1 = lambda x: np.array([-x[0]*x[1], -x[0]*x[1], x[0]*x[1], 0])\n",
    "theta2 = lambda x: np.array([x[2], x[2], -x[2], 0])\n",
    "theta3 = lambda x: np.array([-x[0], x[0], 0, 0])\n",
    "theta5 = lambda x: np.array([-x[0], 0, 0, x[0]])\n",
    "alphas = []\n",
    "for i in range(0, n_timesteps):\n",
    "    c = counts[i]\n",
    "    theta = np.array([theta1(c), theta2(c), theta3(c), theta5(c)])\n",
    "    dc = dcounts_dt[i]\n",
    "    clf.fit(theta.T, dc)\n",
    "    alphas.append(clf.coef_)\n",
    "xi = np.sum(alphas, axis=0) / len(alphas)\n",
    "print(\"xi = %s\" % xi)"
   ]
  },
  {
   "cell_type": "code",
   "execution_count": 13,
   "metadata": {},
   "outputs": [
    {
     "data": {
      "image/png": "[encoded data removed]",
      "text/plain": [
       "<matplotlib.figure.Figure at 0x7f0b6cffc630>"
      ]
     },
     "metadata": {},
     "output_type": "display_data"
    }
   ],
   "source": [
    "from scipy.integrate import odeint\n",
    "%matplotlib inline\n",
    "import matplotlib.pyplot as plt\n",
    "def fun(data, _):\n",
    "    theta = np.array([theta1(data), theta2(data), theta3(data), theta5(data)])\n",
    "    return np.matmul(xi, theta)\n",
    "num_solution = odeint(fun, counts[0], np.arange(0, n_timesteps*.01, .01))\n",
    "for i in range(4):\n",
    "    plt.plot(np.arange(0, n_timesteps*.01, .01), counts[:,i])\n",
    "    plt.plot(np.arange(0, n_timesteps*.01, .01), num_solution[:, i])"
   ]
  },
  {
   "cell_type": "markdown",
   "metadata": {
    "collapsed": true
   },
   "source": [
    "# Frobenius norm with L1 penalty regression"
   ]
  },
  {
   "cell_type": "code",
   "execution_count": 14,
   "metadata": {
    "collapsed": true
   },
   "outputs": [],
   "source": [
    "theta1 = lambda x: np.array([-x[:,0]*x[:,1], -x[:,0]*x[:,1], x[:,0]*x[:,1], np.zeros(n_timesteps)])\n",
    "theta2 = lambda x: np.array([x[:,2], x[:,2], -x[:,2], np.zeros(n_timesteps)])\n",
    "theta3 = lambda x: np.array([-x[:,0], x[:,0], np.zeros(n_timesteps), np.zeros(n_timesteps)])\n",
    "theta4 = lambda x: np.array([-x[:,0], np.zeros(n_timesteps), np.zeros(n_timesteps), x[:,0]])\n",
    "theta5 = lambda x: np.array([x[:,3], np.zeros(n_timesteps), np.zeros(n_timesteps), -x[:,3]])\n",
    "thetas = [theta1, theta2, theta3, theta4, theta5]\n",
    "n_basis_functions = len(thetas)\n",
    "theta1_ode = lambda x: np.array([-x[0]*x[1], -x[0]*x[1], x[0]*x[1], 0])\n",
    "theta2_ode = lambda x: np.array([x[2], x[2], -x[2], 0])\n",
    "theta3_ode = lambda x: np.array([-x[0], x[0], 0, 0])\n",
    "theta4_ode = lambda x: np.array([-x[0], 0, 0, x[0]])\n",
    "theta5_ode = lambda x: np.array([x[3], 0, 0, -x[3]])\n",
    "thetas_ode = [theta1_ode, theta2_ode, theta3_ode, theta4_ode, theta5_ode]"
   ]
  },
  {
   "cell_type": "code",
   "execution_count": 15,
   "metadata": {
    "collapsed": true
   },
   "outputs": [],
   "source": [
    "large_theta = np.array([f(counts) for f in thetas])\n",
    "large_theta = np.transpose(large_theta, axes=((2, 0, 1)))"
   ]
  },
  {
   "cell_type": "code",
   "execution_count": 16,
   "metadata": {},
   "outputs": [
    {
     "data": {
      "text/plain": [
       "(22500, 5, 4)"
      ]
     },
     "execution_count": 16,
     "metadata": {},
     "output_type": "execute_result"
    }
   ],
   "source": [
    "large_theta.shape"
   ]
  },
  {
   "cell_type": "code",
   "execution_count": 17,
   "metadata": {},
   "outputs": [
    {
     "name": "stdout",
     "output_type": "stream",
     "text": [
      "coefficients: [  1.92666097e-06   7.08840686e-05   0.00000000e+00   1.02177808e-02\n",
      "   7.66947207e-06]\n"
     ]
    }
   ],
   "source": [
    "def frob_l1_regression(theta, dcounts_dt, alpha):\n",
    "    import scipy.optimize as so\n",
    "\n",
    "    bounds = [(0., None)]*n_basis_functions\n",
    "    init_xi = np.array([5.] * n_basis_functions)\n",
    "    iterations = []\n",
    "    result = so.minimize(\n",
    "        lambda x: at.lasso_minimizer_objective_fun(x, alpha, theta/(4.*n_timesteps), dcounts_dt/(4.*n_timesteps)), \n",
    "        init_xi,\n",
    "        bounds=bounds, \n",
    "        callback=lambda x: iterations.append(x),\n",
    "        tol=1e-16,\n",
    "        method='L-BFGS-B')\n",
    "    return result.x\n",
    "xi = frob_l1_regression(large_theta, dcounts_dt, .001)\n",
    "print(\"coefficients: {}\".format(xi))"
   ]
  },
  {
   "cell_type": "code",
   "execution_count": 18,
   "metadata": {
    "collapsed": true
   },
   "outputs": [],
   "source": [
    "%matplotlib inline\n",
    "import matplotlib.pyplot as plt\n",
    "\n",
    "from scipy.integrate import odeint\n",
    "\n",
    "def fun(data, _):\n",
    "    theta = np.array([f(data) for f in thetas_ode])\n",
    "    return np.matmul(xi, theta)\n",
    "\n",
    "num_solution = odeint(fun, counts[0], np.arange(0, n_timesteps*.01, .01))"
   ]
  },
  {
   "cell_type": "code",
   "execution_count": 19,
   "metadata": {},
   "outputs": [
    {
     "data": {
      "image/png": "[encoded data removed]",
      "text/plain": [
       "<matplotlib.figure.Figure at 0x7f0b6f689e80>"
      ]
     },
     "metadata": {},
     "output_type": "display_data"
    }
   ],
   "source": [
    "for i in range(n_species):\n",
    "    plt.plot(np.arange(0, n_timesteps*.01, .01), counts[:,i])\n",
    "    plt.plot(np.arange(0, n_timesteps*.01, .01), num_solution[:, i])"
   ]
  },
  {
   "cell_type": "markdown",
   "metadata": {},
   "source": [
    "# cross validation"
   ]
  },
  {
   "cell_type": "code",
   "execution_count": 20,
   "metadata": {
    "collapsed": true
   },
   "outputs": [],
   "source": [
    "theta1 = lambda x: np.array([-x[:,0]*x[:,1], -x[:,0]*x[:,1], x[:,0]*x[:,1], np.zeros(x.shape[0])])\n",
    "theta2 = lambda x: np.array([x[:,2], x[:,2], -x[:,2], np.zeros(x.shape[0])])\n",
    "theta3 = lambda x: np.array([-x[:,0], x[:,0], np.zeros(x.shape[0]), np.zeros(x.shape[0])])\n",
    "theta4 = lambda x: np.array([-x[:,0], np.zeros(x.shape[0]), np.zeros(x.shape[0]), x[:,0]])\n",
    "theta5 = lambda x: np.array([x[:,3], np.zeros(x.shape[0]), np.zeros(x.shape[0]), -x[:,3]])\n",
    "thetas = [theta1, theta2, theta3, theta4, theta5]\n",
    "n_basis_functions = len(thetas)"
   ]
  },
  {
   "cell_type": "code",
   "execution_count": 21,
   "metadata": {
    "collapsed": true
   },
   "outputs": [],
   "source": [
    "training_data, test_data = counts[:6000][:], counts[6000:][:]\n",
    "dtraining_data_dt = np.gradient(training_data, axis=0) / time_step\n",
    "dtest_data_dt = np.gradient(test_data, axis=0) / time_step"
   ]
  },
  {
   "cell_type": "code",
   "execution_count": 24,
   "metadata": {
    "scrolled": true
   },
   "outputs": [
    {
     "name": "stderr",
     "output_type": "stream",
     "text": [
      "Widget Javascript not detected.  It may not be installed or enabled properly.\n"
     ]
    },
    {
     "data": {
      "application/vnd.jupyter.widget-view+json": {
       "model_id": "9b749bf58ae54224bd031299b881307f"
      }
     },
     "metadata": {},
     "output_type": "display_data"
    },
    {
     "ename": "KeyboardInterrupt",
     "evalue": "",
     "output_type": "error",
     "traceback": [
      "\u001b[0;31m---------------------------------------------------------------------------\u001b[0m",
      "\u001b[0;31mKeyboardInterrupt\u001b[0m                         Traceback (most recent call last)",
      "\u001b[0;32m<ipython-input-24-1bf58e3e349b>\u001b[0m in \u001b[0;36m<module>\u001b[0;34m()\u001b[0m\n\u001b[1;32m      8\u001b[0m \u001b[0mdisplay\u001b[0m\u001b[0;34m(\u001b[0m\u001b[0mf\u001b[0m\u001b[0;34m)\u001b[0m\u001b[0;34m\u001b[0m\u001b[0m\n\u001b[1;32m      9\u001b[0m \u001b[0;32mfor\u001b[0m \u001b[0malpha\u001b[0m \u001b[0;32min\u001b[0m \u001b[0malphas\u001b[0m\u001b[0;34m:\u001b[0m\u001b[0;34m\u001b[0m\u001b[0m\n\u001b[0;32m---> 10\u001b[0;31m     \u001b[0mxi\u001b[0m \u001b[0;34m=\u001b[0m \u001b[0mfrob_l1_regression\u001b[0m\u001b[0;34m(\u001b[0m\u001b[0mlarge_theta_train\u001b[0m\u001b[0;34m,\u001b[0m \u001b[0mdtraining_data_dt\u001b[0m\u001b[0;34m,\u001b[0m \u001b[0malpha\u001b[0m\u001b[0;34m)\u001b[0m\u001b[0;34m\u001b[0m\u001b[0m\n\u001b[0m\u001b[1;32m     11\u001b[0m     \u001b[0mf\u001b[0m\u001b[0;34m.\u001b[0m\u001b[0mvalue\u001b[0m \u001b[0;34m=\u001b[0m \u001b[0malpha\u001b[0m\u001b[0;34m\u001b[0m\u001b[0m\n\u001b[1;32m     12\u001b[0m     \u001b[0mcoefficients\u001b[0m\u001b[0;34m.\u001b[0m\u001b[0mappend\u001b[0m\u001b[0;34m(\u001b[0m\u001b[0mxi\u001b[0m\u001b[0;34m)\u001b[0m\u001b[0;34m\u001b[0m\u001b[0m\n",
      "\u001b[0;32m<ipython-input-17-99db901a85ea>\u001b[0m in \u001b[0;36mfrob_l1_regression\u001b[0;34m(theta, dcounts_dt, alpha)\u001b[0m\n\u001b[1;32m     11\u001b[0m         \u001b[0mcallback\u001b[0m\u001b[0;34m=\u001b[0m\u001b[0;32mlambda\u001b[0m \u001b[0mx\u001b[0m\u001b[0;34m:\u001b[0m \u001b[0miterations\u001b[0m\u001b[0;34m.\u001b[0m\u001b[0mappend\u001b[0m\u001b[0;34m(\u001b[0m\u001b[0mx\u001b[0m\u001b[0;34m)\u001b[0m\u001b[0;34m,\u001b[0m\u001b[0;34m\u001b[0m\u001b[0m\n\u001b[1;32m     12\u001b[0m         \u001b[0mtol\u001b[0m\u001b[0;34m=\u001b[0m\u001b[0;36m1e-16\u001b[0m\u001b[0;34m,\u001b[0m\u001b[0;34m\u001b[0m\u001b[0m\n\u001b[0;32m---> 13\u001b[0;31m         method='L-BFGS-B')\n\u001b[0m\u001b[1;32m     14\u001b[0m     \u001b[0;32mreturn\u001b[0m \u001b[0mresult\u001b[0m\u001b[0;34m.\u001b[0m\u001b[0mx\u001b[0m\u001b[0;34m\u001b[0m\u001b[0m\n\u001b[1;32m     15\u001b[0m \u001b[0mxi\u001b[0m \u001b[0;34m=\u001b[0m \u001b[0mfrob_l1_regression\u001b[0m\u001b[0;34m(\u001b[0m\u001b[0mlarge_theta\u001b[0m\u001b[0;34m,\u001b[0m \u001b[0mdcounts_dt\u001b[0m\u001b[0;34m,\u001b[0m \u001b[0;36m.001\u001b[0m\u001b[0;34m)\u001b[0m\u001b[0;34m\u001b[0m\u001b[0m\n",
      "\u001b[0;32m/home/mho/miniconda2/envs/readdy_dev/lib/python3.6/site-packages/scipy/optimize/_minimize.py\u001b[0m in \u001b[0;36mminimize\u001b[0;34m(fun, x0, args, method, jac, hess, hessp, bounds, constraints, tol, callback, options)\u001b[0m\n\u001b[1;32m    448\u001b[0m     \u001b[0;32melif\u001b[0m \u001b[0mmeth\u001b[0m \u001b[0;34m==\u001b[0m \u001b[0;34m'l-bfgs-b'\u001b[0m\u001b[0;34m:\u001b[0m\u001b[0;34m\u001b[0m\u001b[0m\n\u001b[1;32m    449\u001b[0m         return _minimize_lbfgsb(fun, x0, args, jac, bounds,\n\u001b[0;32m--> 450\u001b[0;31m                                 callback=callback, **options)\n\u001b[0m\u001b[1;32m    451\u001b[0m     \u001b[0;32melif\u001b[0m \u001b[0mmeth\u001b[0m \u001b[0;34m==\u001b[0m \u001b[0;34m'tnc'\u001b[0m\u001b[0;34m:\u001b[0m\u001b[0;34m\u001b[0m\u001b[0m\n\u001b[1;32m    452\u001b[0m         return _minimize_tnc(fun, x0, args, jac, bounds, callback=callback,\n",
      "\u001b[0;32m/home/mho/miniconda2/envs/readdy_dev/lib/python3.6/site-packages/scipy/optimize/lbfgsb.py\u001b[0m in \u001b[0;36m_minimize_lbfgsb\u001b[0;34m(fun, x0, args, jac, bounds, disp, maxcor, ftol, gtol, eps, maxfun, maxiter, iprint, callback, maxls, **unknown_options)\u001b[0m\n\u001b[1;32m    326\u001b[0m             \u001b[0;31m# until the completion of the current minimization iteration.\u001b[0m\u001b[0;34m\u001b[0m\u001b[0;34m\u001b[0m\u001b[0m\n\u001b[1;32m    327\u001b[0m             \u001b[0;31m# Overwrite f and g:\u001b[0m\u001b[0;34m\u001b[0m\u001b[0;34m\u001b[0m\u001b[0m\n\u001b[0;32m--> 328\u001b[0;31m             \u001b[0mf\u001b[0m\u001b[0;34m,\u001b[0m \u001b[0mg\u001b[0m \u001b[0;34m=\u001b[0m \u001b[0mfunc_and_grad\u001b[0m\u001b[0;34m(\u001b[0m\u001b[0mx\u001b[0m\u001b[0;34m)\u001b[0m\u001b[0;34m\u001b[0m\u001b[0m\n\u001b[0m\u001b[1;32m    329\u001b[0m         \u001b[0;32melif\u001b[0m \u001b[0mtask_str\u001b[0m\u001b[0;34m.\u001b[0m\u001b[0mstartswith\u001b[0m\u001b[0;34m(\u001b[0m\u001b[0;34mb'NEW_X'\u001b[0m\u001b[0;34m)\u001b[0m\u001b[0;34m:\u001b[0m\u001b[0;34m\u001b[0m\u001b[0m\n\u001b[1;32m    330\u001b[0m             \u001b[0;31m# new iteration\u001b[0m\u001b[0;34m\u001b[0m\u001b[0;34m\u001b[0m\u001b[0m\n",
      "\u001b[0;32m/home/mho/miniconda2/envs/readdy_dev/lib/python3.6/site-packages/scipy/optimize/lbfgsb.py\u001b[0m in \u001b[0;36mfunc_and_grad\u001b[0;34m(x)\u001b[0m\n\u001b[1;32m    272\u001b[0m         \u001b[0;32mdef\u001b[0m \u001b[0mfunc_and_grad\u001b[0m\u001b[0;34m(\u001b[0m\u001b[0mx\u001b[0m\u001b[0;34m)\u001b[0m\u001b[0;34m:\u001b[0m\u001b[0;34m\u001b[0m\u001b[0m\n\u001b[1;32m    273\u001b[0m             \u001b[0mf\u001b[0m \u001b[0;34m=\u001b[0m \u001b[0mfun\u001b[0m\u001b[0;34m(\u001b[0m\u001b[0mx\u001b[0m\u001b[0;34m,\u001b[0m \u001b[0;34m*\u001b[0m\u001b[0margs\u001b[0m\u001b[0;34m)\u001b[0m\u001b[0;34m\u001b[0m\u001b[0m\n\u001b[0;32m--> 274\u001b[0;31m             \u001b[0mg\u001b[0m \u001b[0;34m=\u001b[0m \u001b[0m_approx_fprime_helper\u001b[0m\u001b[0;34m(\u001b[0m\u001b[0mx\u001b[0m\u001b[0;34m,\u001b[0m \u001b[0mfun\u001b[0m\u001b[0;34m,\u001b[0m \u001b[0mepsilon\u001b[0m\u001b[0;34m,\u001b[0m \u001b[0margs\u001b[0m\u001b[0;34m=\u001b[0m\u001b[0margs\u001b[0m\u001b[0;34m,\u001b[0m \u001b[0mf0\u001b[0m\u001b[0;34m=\u001b[0m\u001b[0mf\u001b[0m\u001b[0;34m)\u001b[0m\u001b[0;34m\u001b[0m\u001b[0m\n\u001b[0m\u001b[1;32m    275\u001b[0m             \u001b[0;32mreturn\u001b[0m \u001b[0mf\u001b[0m\u001b[0;34m,\u001b[0m \u001b[0mg\u001b[0m\u001b[0;34m\u001b[0m\u001b[0m\n\u001b[1;32m    276\u001b[0m     \u001b[0;32melse\u001b[0m\u001b[0;34m:\u001b[0m\u001b[0;34m\u001b[0m\u001b[0m\n",
      "\u001b[0;32m/home/mho/miniconda2/envs/readdy_dev/lib/python3.6/site-packages/scipy/optimize/optimize.py\u001b[0m in \u001b[0;36m_approx_fprime_helper\u001b[0;34m(xk, f, epsilon, args, f0)\u001b[0m\n\u001b[1;32m    626\u001b[0m         \u001b[0mei\u001b[0m\u001b[0;34m[\u001b[0m\u001b[0mk\u001b[0m\u001b[0;34m]\u001b[0m \u001b[0;34m=\u001b[0m \u001b[0;36m1.0\u001b[0m\u001b[0;34m\u001b[0m\u001b[0m\n\u001b[1;32m    627\u001b[0m         \u001b[0md\u001b[0m \u001b[0;34m=\u001b[0m \u001b[0mepsilon\u001b[0m \u001b[0;34m*\u001b[0m \u001b[0mei\u001b[0m\u001b[0;34m\u001b[0m\u001b[0m\n\u001b[0;32m--> 628\u001b[0;31m         \u001b[0mgrad\u001b[0m\u001b[0;34m[\u001b[0m\u001b[0mk\u001b[0m\u001b[0;34m]\u001b[0m \u001b[0;34m=\u001b[0m \u001b[0;34m(\u001b[0m\u001b[0mf\u001b[0m\u001b[0;34m(\u001b[0m\u001b[0;34m*\u001b[0m\u001b[0;34m(\u001b[0m\u001b[0;34m(\u001b[0m\u001b[0mxk\u001b[0m \u001b[0;34m+\u001b[0m \u001b[0md\u001b[0m\u001b[0;34m,\u001b[0m\u001b[0;34m)\u001b[0m \u001b[0;34m+\u001b[0m \u001b[0margs\u001b[0m\u001b[0;34m)\u001b[0m\u001b[0;34m)\u001b[0m \u001b[0;34m-\u001b[0m \u001b[0mf0\u001b[0m\u001b[0;34m)\u001b[0m \u001b[0;34m/\u001b[0m \u001b[0md\u001b[0m\u001b[0;34m[\u001b[0m\u001b[0mk\u001b[0m\u001b[0;34m]\u001b[0m\u001b[0;34m\u001b[0m\u001b[0m\n\u001b[0m\u001b[1;32m    629\u001b[0m         \u001b[0mei\u001b[0m\u001b[0;34m[\u001b[0m\u001b[0mk\u001b[0m\u001b[0;34m]\u001b[0m \u001b[0;34m=\u001b[0m \u001b[0;36m0.0\u001b[0m\u001b[0;34m\u001b[0m\u001b[0m\n\u001b[1;32m    630\u001b[0m     \u001b[0;32mreturn\u001b[0m \u001b[0mgrad\u001b[0m\u001b[0;34m\u001b[0m\u001b[0m\n",
      "\u001b[0;32m/home/mho/miniconda2/envs/readdy_dev/lib/python3.6/site-packages/scipy/optimize/optimize.py\u001b[0m in \u001b[0;36mfunction_wrapper\u001b[0;34m(*wrapper_args)\u001b[0m\n\u001b[1;32m    290\u001b[0m     \u001b[0;32mdef\u001b[0m \u001b[0mfunction_wrapper\u001b[0m\u001b[0;34m(\u001b[0m\u001b[0;34m*\u001b[0m\u001b[0mwrapper_args\u001b[0m\u001b[0;34m)\u001b[0m\u001b[0;34m:\u001b[0m\u001b[0;34m\u001b[0m\u001b[0m\n\u001b[1;32m    291\u001b[0m         \u001b[0mncalls\u001b[0m\u001b[0;34m[\u001b[0m\u001b[0;36m0\u001b[0m\u001b[0;34m]\u001b[0m \u001b[0;34m+=\u001b[0m \u001b[0;36m1\u001b[0m\u001b[0;34m\u001b[0m\u001b[0m\n\u001b[0;32m--> 292\u001b[0;31m         \u001b[0;32mreturn\u001b[0m \u001b[0mfunction\u001b[0m\u001b[0;34m(\u001b[0m\u001b[0;34m*\u001b[0m\u001b[0;34m(\u001b[0m\u001b[0mwrapper_args\u001b[0m \u001b[0;34m+\u001b[0m \u001b[0margs\u001b[0m\u001b[0;34m)\u001b[0m\u001b[0;34m)\u001b[0m\u001b[0;34m\u001b[0m\u001b[0m\n\u001b[0m\u001b[1;32m    293\u001b[0m \u001b[0;34m\u001b[0m\u001b[0m\n\u001b[1;32m    294\u001b[0m     \u001b[0;32mreturn\u001b[0m \u001b[0mncalls\u001b[0m\u001b[0;34m,\u001b[0m \u001b[0mfunction_wrapper\u001b[0m\u001b[0;34m\u001b[0m\u001b[0m\n",
      "\u001b[0;32m<ipython-input-17-99db901a85ea>\u001b[0m in \u001b[0;36m<lambda>\u001b[0;34m(x)\u001b[0m\n\u001b[1;32m      6\u001b[0m     \u001b[0miterations\u001b[0m \u001b[0;34m=\u001b[0m \u001b[0;34m[\u001b[0m\u001b[0;34m]\u001b[0m\u001b[0;34m\u001b[0m\u001b[0m\n\u001b[1;32m      7\u001b[0m     result = so.minimize(\n\u001b[0;32m----> 8\u001b[0;31m         \u001b[0;32mlambda\u001b[0m \u001b[0mx\u001b[0m\u001b[0;34m:\u001b[0m \u001b[0mat\u001b[0m\u001b[0;34m.\u001b[0m\u001b[0mlasso_minimizer_objective_fun\u001b[0m\u001b[0;34m(\u001b[0m\u001b[0mx\u001b[0m\u001b[0;34m,\u001b[0m \u001b[0malpha\u001b[0m\u001b[0;34m,\u001b[0m \u001b[0mtheta\u001b[0m\u001b[0;34m/\u001b[0m\u001b[0;34m(\u001b[0m\u001b[0;36m4.\u001b[0m\u001b[0;34m*\u001b[0m\u001b[0mn_timesteps\u001b[0m\u001b[0;34m)\u001b[0m\u001b[0;34m,\u001b[0m \u001b[0mdcounts_dt\u001b[0m\u001b[0;34m/\u001b[0m\u001b[0;34m(\u001b[0m\u001b[0;36m4.\u001b[0m\u001b[0;34m*\u001b[0m\u001b[0mn_timesteps\u001b[0m\u001b[0;34m)\u001b[0m\u001b[0;34m)\u001b[0m\u001b[0;34m,\u001b[0m\u001b[0;34m\u001b[0m\u001b[0m\n\u001b[0m\u001b[1;32m      9\u001b[0m         \u001b[0minit_xi\u001b[0m\u001b[0;34m,\u001b[0m\u001b[0;34m\u001b[0m\u001b[0m\n\u001b[1;32m     10\u001b[0m         \u001b[0mbounds\u001b[0m\u001b[0;34m=\u001b[0m\u001b[0mbounds\u001b[0m\u001b[0;34m,\u001b[0m\u001b[0;34m\u001b[0m\u001b[0m\n",
      "\u001b[0;31mKeyboardInterrupt\u001b[0m: "
     ]
    }
   ],
   "source": [
    "from ipywidgets import FloatProgress\n",
    "from IPython.display import display\n",
    "coefficients = []\n",
    "alphas = np.arange(0, .4, .0005)\n",
    "large_theta_train = np.array([f(training_data) for f in thetas])\n",
    "large_theta_train = np.transpose(large_theta_train, axes=((2, 0, 1)))\n",
    "f = FloatProgress(min=np.min(alphas), max=np.max(alphas))\n",
    "display(f)\n",
    "for alpha in alphas:\n",
    "    xi = frob_l1_regression(large_theta_train, dtraining_data_dt, alpha)\n",
    "    f.value = alpha\n",
    "    coefficients.append(xi)"
   ]
  },
  {
   "cell_type": "code",
   "execution_count": 25,
   "metadata": {},
   "outputs": [
    {
     "ename": "IndexError",
     "evalue": "index 6000 is out of bounds for axis 0 with size 6000",
     "output_type": "error",
     "traceback": [
      "\u001b[0;31m---------------------------------------------------------------------------\u001b[0m",
      "\u001b[0;31mIndexError\u001b[0m                                Traceback (most recent call last)",
      "\u001b[0;32m<ipython-input-25-e47f6d2c9e61>\u001b[0m in \u001b[0;36m<module>\u001b[0;34m()\u001b[0m\n\u001b[1;32m      4\u001b[0m \u001b[0mcost_test\u001b[0m \u001b[0;34m=\u001b[0m \u001b[0;34m[\u001b[0m\u001b[0;34m]\u001b[0m\u001b[0;34m\u001b[0m\u001b[0m\n\u001b[1;32m      5\u001b[0m \u001b[0;32mfor\u001b[0m \u001b[0mcoeff\u001b[0m \u001b[0;32min\u001b[0m \u001b[0mcoefficients\u001b[0m\u001b[0;34m:\u001b[0m\u001b[0;34m\u001b[0m\u001b[0m\n\u001b[0;32m----> 6\u001b[0;31m     \u001b[0mcost_learn\u001b[0m\u001b[0;34m.\u001b[0m\u001b[0mappend\u001b[0m\u001b[0;34m(\u001b[0m\u001b[0mat\u001b[0m\u001b[0;34m.\u001b[0m\u001b[0mlasso_minimizer_objective_fun\u001b[0m\u001b[0;34m(\u001b[0m\u001b[0mcoeff\u001b[0m\u001b[0;34m,\u001b[0m \u001b[0;36m0.0\u001b[0m\u001b[0;34m,\u001b[0m \u001b[0mlarge_theta\u001b[0m\u001b[0;34m/\u001b[0m\u001b[0;34m(\u001b[0m\u001b[0;36m4.\u001b[0m\u001b[0;34m*\u001b[0m\u001b[0mn_timesteps\u001b[0m\u001b[0;34m)\u001b[0m\u001b[0;34m,\u001b[0m \u001b[0mdtraining_data_dt\u001b[0m\u001b[0;34m/\u001b[0m\u001b[0;34m(\u001b[0m\u001b[0;36m4.\u001b[0m\u001b[0;34m*\u001b[0m\u001b[0mn_timesteps\u001b[0m\u001b[0;34m)\u001b[0m\u001b[0;34m)\u001b[0m\u001b[0;34m)\u001b[0m\u001b[0;34m\u001b[0m\u001b[0m\n\u001b[0m\u001b[1;32m      7\u001b[0m     \u001b[0mcost_test\u001b[0m\u001b[0;34m.\u001b[0m\u001b[0mappend\u001b[0m\u001b[0;34m(\u001b[0m\u001b[0mat\u001b[0m\u001b[0;34m.\u001b[0m\u001b[0mlasso_minimizer_objective_fun\u001b[0m\u001b[0;34m(\u001b[0m\u001b[0mcoeff\u001b[0m\u001b[0;34m,\u001b[0m \u001b[0;36m0.0\u001b[0m\u001b[0;34m,\u001b[0m \u001b[0mlarge_theta_test\u001b[0m\u001b[0;34m/\u001b[0m\u001b[0;34m(\u001b[0m\u001b[0;36m4.\u001b[0m\u001b[0;34m*\u001b[0m\u001b[0mn_timesteps\u001b[0m\u001b[0;34m)\u001b[0m\u001b[0;34m,\u001b[0m \u001b[0mdtest_data_dt\u001b[0m\u001b[0;34m/\u001b[0m\u001b[0;34m(\u001b[0m\u001b[0;36m4.\u001b[0m\u001b[0;34m*\u001b[0m\u001b[0mn_timesteps\u001b[0m\u001b[0;34m)\u001b[0m\u001b[0;34m)\u001b[0m\u001b[0;34m)\u001b[0m\u001b[0;34m\u001b[0m\u001b[0m\n",
      "\u001b[0;31mIndexError\u001b[0m: index 6000 is out of bounds for axis 0 with size 6000"
     ]
    }
   ],
   "source": [
    "large_theta_test = np.array([f(test_data) for f in thetas])\n",
    "large_theta_test = np.transpose(large_theta_test, axes=((2, 0, 1)))\n",
    "cost_learn = []\n",
    "cost_test = []\n",
    "for coeff in coefficients:\n",
    "    cost_learn.append(at.lasso_minimizer_objective_fun(coeff, 0.0, large_theta/(4.*n_timesteps), dtraining_data_dt/(4.*n_timesteps)))\n",
    "    cost_test.append(at.lasso_minimizer_objective_fun(coeff, 0.0, large_theta_test/(4.*n_timesteps), dtest_data_dt/(4.*n_timesteps)))"
   ]
  },
  {
   "cell_type": "code",
   "execution_count": null,
   "metadata": {},
   "outputs": [],
   "source": [
    "plt.plot(alphas, np.array(cost_learn), label=\"train\")\n",
    "ymin, ymax = plt.ylim()\n",
    "# plt.ylim((ymin, 0.0079209))\n",
    "plt.show()\n",
    "plt.plot(alphas, np.array(cost_test), label=\"test\")\n",
    "np.argmin(np.array(cost_test))\n",
    "# plt.ylim((0.00474, 0.0048))"
   ]
  },
  {
   "cell_type": "code",
   "execution_count": null,
   "metadata": {},
   "outputs": [],
   "source": [
    "plt.plot(alphas, np.array(cost_test))\n",
    "plt.xlim(0, 0.0115)"
   ]
  },
  {
   "cell_type": "code",
   "execution_count": null,
   "metadata": {},
   "outputs": [],
   "source": [
    "cost_test[23]"
   ]
  },
  {
   "cell_type": "code",
   "execution_count": null,
   "metadata": {},
   "outputs": [],
   "source": [
    "cost_test[0] - cost_test[23]"
   ]
  },
  {
   "cell_type": "code",
   "execution_count": null,
   "metadata": {},
   "outputs": [
    {
     "name": "stdout",
     "output_type": "stream",
     "text": [
      "0.0026736387399623504\n",
      "0.002673638739130982\n",
      "0.0026734079728757847\n",
      "0.0026737299896285533\n",
      "0.002673638746922914\n",
      "0.0026736387413020873\n",
      "0.0026739940686003054\n",
      "0.0026736715887388848\n",
      "0.002673735242892024\n",
      "0.0026735590113253008\n",
      "0.002673697361253569\n",
      "0.0026736482971917905\n",
      "0.0026737264674585085\n",
      "0.0026737279068918354\n",
      "0.0026734079728757847\n",
      "0.0026737299896285533\n",
      "0.002673638746922914\n",
      "0.0026736387413020873\n",
      "0.002673652116932859\n",
      "0.0026736826858275685\n",
      "0.0026738549986085104\n",
      "0.002673657651729172\n",
      "0.0026734621065770286\n",
      "0.0026737236109660428\n",
      "0.002673728772212082\n",
      "0.0026737297141196615\n",
      "0.002673704170746263\n",
      "0.0026737042088181826\n",
      "0.0026737043647109206\n",
      "0.002673704368966651\n",
      "0.00267370441017936\n",
      "0.002673704418007902\n"
     ]
    }
   ],
   "source": [
    "import scipy.optimize as so\n",
    "\n",
    "large_theta_train = np.array([f(training_data) for f in thetas])\n",
    "large_theta_train = np.transpose(large_theta_train, axes=((2, 0, 1)))\n",
    "large_theta_test = np.array([f(test_data) for f in thetas])\n",
    "large_theta_test = np.transpose(large_theta_test, axes=((2, 0, 1)))\n",
    "\n",
    "def minimizer(current_alpha):\n",
    "    xi = frob_l1_regression(large_theta_train, dtraining_data_dt, current_alpha)\n",
    "    x = at.lasso_minimizer_objective_fun(\n",
    "            xi,\n",
    "            0, \n",
    "            large_theta_test/(4.*n_timesteps), \n",
    "            dtest_data_dt/(4.*n_timesteps))\n",
    "    print(x)\n",
    "    return x\n",
    "    \n",
    "result = so.minimize(\n",
    "        minimizer,\n",
    "        .2,\n",
    "        bounds=[(0, None)])\n",
    "print(result.x)"
   ]
  },
  {
   "cell_type": "code",
   "execution_count": null,
   "metadata": {
    "collapsed": true
   },
   "outputs": [],
   "source": []
  },
  {
   "cell_type": "code",
   "execution_count": null,
   "metadata": {
    "collapsed": true
   },
   "outputs": [],
   "source": []
  }
 ],
 "metadata": {
  "kernelspec": {
   "display_name": "Python 3",
   "language": "python",
   "name": "python3"
  },
  "language_info": {
   "codemirror_mode": {
    "name": "ipython",
    "version": 3
   },
   "file_extension": ".py",
   "mimetype": "text/x-python",
   "name": "python",
   "nbconvert_exporter": "python",
   "pygments_lexer": "ipython3",
   "version": "3.6.1"
  }
 },
 "nbformat": 4,
 "nbformat_minor": 2
}
