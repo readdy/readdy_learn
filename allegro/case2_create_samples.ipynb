{
 "cells": [
  {
   "cell_type": "code",
   "execution_count": 1,
   "metadata": {},
   "outputs": [],
   "source": [
    "import numpy as np\n",
    "import samplebase as sb\n",
    "import path_utils as putils"
   ]
  },
  {
   "cell_type": "code",
   "execution_count": 11,
   "metadata": {},
   "outputs": [
    {
     "data": {
      "text/plain": [
       "'/srv/public/workspace/data/rlearn-13'"
      ]
     },
     "execution_count": 11,
     "metadata": {},
     "output_type": "execute_result"
    }
   ],
   "source": [
    "data_dir = putils.data_dir(13)\n",
    "data_dir"
   ]
  },
  {
   "cell_type": "code",
   "execution_count": 12,
   "metadata": {},
   "outputs": [
    {
     "name": "stdout",
     "output_type": "stream",
     "text": [
      "[1.00000000e-08 1.36887451e-08 1.87381742e-08 2.56502091e-08\n",
      " 3.51119173e-08 4.80638086e-08 6.57933225e-08 9.00628020e-08\n",
      " 1.23284674e-07 1.68761248e-07 2.31012970e-07 3.16227766e-07\n",
      " 4.32876128e-07 5.92553098e-07 8.11130831e-07 1.11033632e-06\n",
      " 1.51991108e-06 2.08056754e-06 2.84803587e-06 3.89860370e-06\n",
      " 5.33669923e-06 7.30527154e-06 1.00000000e-05 1.36887451e-05\n",
      " 1.87381742e-05 2.56502091e-05 3.51119173e-05 4.80638086e-05\n",
      " 6.57933225e-05 9.00628020e-05 1.23284674e-04 1.68761248e-04\n",
      " 2.31012970e-04 3.16227766e-04 4.32876128e-04 5.92553098e-04\n",
      " 8.11130831e-04 1.11033632e-03 1.51991108e-03 2.08056754e-03\n",
      " 2.84803587e-03 3.89860370e-03 5.33669923e-03 7.30527154e-03\n",
      " 1.00000000e-02]\n",
      "[0.0]\n",
      "[0.0045]\n",
      "[5, 10, 15]\n",
      "[1, 2, 5, 10, 20, 50, 100]\n",
      "number of samples = 945\n"
     ]
    }
   ],
   "source": [
    "alphas = np.logspace(-8, -2, num=45) # np.logspace(-9, -3, num=64)\n",
    "#noises = np.logspace(-9, -7, num=3) # [1e-8]\n",
    "noises = [0.]\n",
    "gillespie_realisations = [1, 2, 5, 10, 20, 50, 100] #[1, 2, 5, 10, 20, 50, 100, 200, 500]\n",
    "dts = [4.5e-3] # 4.5e-3 for t=3, 3e-3 for t=2\n",
    "n_splitses = [5, 10, 15]#[4, 7, 15, 20, 30]\n",
    "print(alphas)\n",
    "print(noises)\n",
    "print(dts)\n",
    "print(n_splitses)\n",
    "print(gillespie_realisations)\n",
    "print(\"number of samples = {}\".format(len(alphas) * len(noises) * len(dts) * len(n_splitses) * len(gillespie_realisations)))"
   ]
  },
  {
   "cell_type": "code",
   "execution_count": 13,
   "metadata": {},
   "outputs": [],
   "source": [
    "for noise in noises:\n",
    "    for a in alphas:\n",
    "        for dt in dts:\n",
    "            for n_splits in n_splitses:\n",
    "                for gr in gillespie_realisations:\n",
    "                    args = {\n",
    "                        \"alpha\": a,\n",
    "                        \"noise\": noise,\n",
    "                        \"dt\": dt,\n",
    "                        \"n_splits\": n_splits,\n",
    "                        \"target_time\": 3, # 3. has much of the equilibration, 1. has no equilibration\n",
    "                        \"gillespie_realisations\": gr\n",
    "                    }\n",
    "                    sb.create_sample(data_dir, args=args)"
   ]
  },
  {
   "cell_type": "code",
   "execution_count": null,
   "metadata": {},
   "outputs": [],
   "source": []
  }
 ],
 "metadata": {
  "kernelspec": {
   "display_name": "Python 3",
   "language": "python",
   "name": "python3"
  },
  "language_info": {
   "codemirror_mode": {
    "name": "ipython",
    "version": 3
   },
   "file_extension": ".py",
   "mimetype": "text/x-python",
   "name": "python",
   "nbconvert_exporter": "python",
   "pygments_lexer": "ipython3",
   "version": "3.6.3"
  }
 },
 "nbformat": 4,
 "nbformat_minor": 2
}
