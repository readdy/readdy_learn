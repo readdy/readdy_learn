{
 "cells": [
  {
   "cell_type": "code",
   "execution_count": 1,
   "metadata": {},
   "outputs": [],
   "source": [
    "%matplotlib inline\n",
    "import matplotlib.pyplot as plt\n",
    "import numpy as np\n",
    "\n",
    "# abbreviation for plotting functions in certain range\n",
    "def plot(f, xRange, *args, **kw):\n",
    "    yRange = np.fromiter(map(f,xRange), np.float)\n",
    "    plt.plot(xRange,yRange, *args, **kw)"
   ]
  },
  {
   "cell_type": "markdown",
   "metadata": {},
   "source": [
    "## Generate data - bimolecular reaction\n",
    "System is $A+B\\rightarrow C$ with CME rate $\\kappa$. \n",
    "Defining a volume $V$, the corresponding LMA rate is $\\xi = V\\kappa$"
   ]
  },
  {
   "cell_type": "code",
   "execution_count": 2,
   "metadata": {
    "collapsed": true
   },
   "outputs": [],
   "source": [
    "import generate_tools.kinetic_monte_carlo as kmc"
   ]
  },
  {
   "cell_type": "code",
   "execution_count": 3,
   "metadata": {},
   "outputs": [
    {
     "name": "stderr",
     "output_type": "stream",
     "text": [
      "[KMC] [2017-06-29 18:39:48] [INFO] Simulate for 1000 steps\n",
      "[KMC] [2017-06-29 18:39:48] [INFO] No events possible / system is frustrated, at step 50\n"
     ]
    }
   ],
   "source": [
    "n_species = 3\n",
    "n_boxes = 1\n",
    "rate = 2.\n",
    "diffusivity_a = np.array([[0.]])\n",
    "diffusivity_b = np.array([[0.]])\n",
    "diffusivity_c = np.array([[0.]])\n",
    "diffusivity = np.array([diffusivity_a, diffusivity_b, diffusivity_c])\n",
    "init_state = np.array([[50, 50, 0]])\n",
    "species_names = [\"A\", \"B\", \"C\"]\n",
    "system = kmc.ReactionDiffusionSystem(diffusivity, 3, 1, init_state, species_names=species_names)\n",
    "system.add_fusion(\"A\", \"B\", \"C\", np.array([rate]))\n",
    "system.simulate(1000)\n",
    "counts, times = system.convert_events_to_time_series(n_frames=10000)\n",
    "# flatten out spatial dimension and convert to float\n",
    "counts = np.sum(counts, axis=1, dtype=np.float64)\n",
    "config = system.get_trajectory_config()"
   ]
  },
  {
   "cell_type": "code",
   "execution_count": 4,
   "metadata": {},
   "outputs": [
    {
     "data": {
      "text/plain": [
       "<matplotlib.text.Text at 0x7fe354d302b0>"
      ]
     },
     "execution_count": 4,
     "metadata": {},
     "output_type": "execute_result"
    },
    {
     "data": {
      "image/png": "[encoded data removed]",
      "text/plain": [
       "<matplotlib.figure.Figure at 0x7fe3558c4dd8>"
      ]
     },
     "metadata": {},
     "output_type": "display_data"
    }
   ],
   "source": [
    "plt.plot(times, counts[:, config.types[\"A\"]], label=\"A\")\n",
    "#plt.plot(times, counts[:, config.types[\"B\"]], label=\"B\")\n",
    "plt.plot(times, counts[:, config.types[\"C\"]], label=\"C\")\n",
    "plot(lambda x: init_state[0,0] / (1. + (init_state[0,0] * rate * x)), \n",
    "     times, label=r\"$f(t) = \\frac{a(0)}{1 + a(0)\\, \\kappa\\, t}$\")\n",
    "plt.legend(loc=\"best\")\n",
    "plt.xlabel(\"Time\")\n",
    "plt.ylabel(\"Number of particles\")"
   ]
  },
  {
   "cell_type": "markdown",
   "metadata": {},
   "source": [
    "## Reverse-engineer"
   ]
  },
  {
   "cell_type": "markdown",
   "metadata": {},
   "source": [
    "### Load data into Trajectory object"
   ]
  },
  {
   "cell_type": "code",
   "execution_count": 5,
   "metadata": {
    "collapsed": true
   },
   "outputs": [],
   "source": [
    "import py_analyze_tools.tools as pat"
   ]
  },
  {
   "cell_type": "code",
   "execution_count": 6,
   "metadata": {},
   "outputs": [
    {
     "name": "stdout",
     "output_type": "stream",
     "text": [
      "max counts = 50.0, min nonzero counts = 1.0\n"
     ]
    }
   ],
   "source": [
    "traj = pat.Trajectory.from_counts(config, counts, times[1]-times[0])\n",
    "traj.update()"
   ]
  },
  {
   "cell_type": "code",
   "execution_count": 7,
   "metadata": {},
   "outputs": [
    {
     "data": {
      "text/plain": [
       "array([[ 50.,  50.,   0.],\n",
       "       [ 49.,  49.,   1.],\n",
       "       [ 48.,  48.,   2.],\n",
       "       ..., \n",
       "       [  1.,   1.,  49.],\n",
       "       [  1.,   1.,  49.],\n",
       "       [  1.,   1.,  49.]])"
      ]
     },
     "execution_count": 7,
     "metadata": {},
     "output_type": "execute_result"
    }
   ],
   "source": [
    "traj.counts"
   ]
  },
  {
   "cell_type": "markdown",
   "metadata": {},
   "source": [
    "### Define ansatz reactions via the BasisFunctionConfiguration object"
   ]
  },
  {
   "cell_type": "code",
   "execution_count": 8,
   "metadata": {
    "collapsed": true
   },
   "outputs": [],
   "source": [
    "from py_analyze_tools.sklearn import BasisFunctionConfiguration"
   ]
  },
  {
   "cell_type": "code",
   "execution_count": 9,
   "metadata": {},
   "outputs": [],
   "source": [
    "bfc = BasisFunctionConfiguration(n_species=traj.n_species)\n",
    "bfc.add_fusion(0, 1, 2) # A + B -> C\n",
    "#bfc.add_fission(2, 0, 1) # C -> A + B\n",
    "#bfc.add_conversion(0, 2) # A -> C\n",
    "#bfc.add_conversion(2, 0) # C -> A\n",
    "right_rates = np.array([rate, 0., 0., 0.])"
   ]
  },
  {
   "cell_type": "code",
   "execution_count": 10,
   "metadata": {},
   "outputs": [
    {
     "data": {
      "text/plain": [
       "1"
      ]
     },
     "execution_count": 10,
     "metadata": {},
     "output_type": "execute_result"
    }
   ],
   "source": [
    "bfc.n_basis_functions"
   ]
  },
  {
   "cell_type": "markdown",
   "metadata": {},
   "source": [
    "### Estimate model parameters using least-squares"
   ]
  },
  {
   "cell_type": "code",
   "execution_count": 11,
   "metadata": {
    "collapsed": true
   },
   "outputs": [],
   "source": [
    "from py_analyze_tools.sklearn import ReaDDyElasticNetEstimator"
   ]
  },
  {
   "cell_type": "code",
   "execution_count": 15,
   "metadata": {},
   "outputs": [
    {
     "name": "stdout",
     "output_type": "stream",
     "text": [
      "optimization problem did exit successfully (alpha=0.0, lambda=0.0)!\n",
      "status 0: Optimization terminated successfully.\n",
      "2 / 15000 iterations\n",
      "coefficients=[ 2.57104795]\n",
      "right rates =[ 2.  0.  0.  0.]\n"
     ]
    }
   ],
   "source": [
    "scale = 1.\n",
    "est = ReaDDyElasticNetEstimator(traj, bfc, scale, \n",
    "                                alpha=0., l1_ratio=0.,\n",
    "                                verbose=True, approx_jac=False, options={'ftol': 1e-12})\n",
    "est.fit(None)\n",
    "coefficients = est.coefficients_\n",
    "print(\"coefficients=%s\" % coefficients)\n",
    "print(\"right rates =%s\" % right_rates)"
   ]
  },
  {
   "cell_type": "markdown",
   "metadata": {},
   "source": [
    "### Results"
   ]
  },
  {
   "cell_type": "code",
   "execution_count": 16,
   "metadata": {
    "collapsed": true
   },
   "outputs": [],
   "source": [
    "from scipy.integrate import odeint"
   ]
  },
  {
   "cell_type": "code",
   "execution_count": 17,
   "metadata": {},
   "outputs": [
    {
     "data": {
      "image/png": "[encoded data removed]",
      "text/plain": [
       "<matplotlib.figure.Figure at 0x7fe343b33240>"
      ]
     },
     "metadata": {},
     "output_type": "display_data"
    },
    {
     "data": {
      "image/png": "[encoded data removed]",
      "text/plain": [
       "<matplotlib.figure.Figure at 0x7fe343e22828>"
      ]
     },
     "metadata": {},
     "output_type": "display_data"
    },
    {
     "data": {
      "image/png": "[encoded data removed]",
      "text/plain": [
       "<matplotlib.figure.Figure at 0x7fe343dfe978>"
      ]
     },
     "metadata": {},
     "output_type": "display_data"
    }
   ],
   "source": [
    "def fun(data, _):\n",
    "    theta = np.array([f(data) for f in bfc.functions])\n",
    "    return np.matmul(coefficients, theta)\n",
    "\n",
    "estimated_realisation = odeint(fun, traj.counts[0], np.arange(0, traj.n_time_steps*traj.time_step, traj.time_step))\n",
    "for t in [\"A\", \"B\", \"C\"]:\n",
    "    type_id = config.types[t]\n",
    "    plt.plot(times, estimated_realisation[:, type_id], label=\"estimated \"+t)\n",
    "    plt.plot(times, traj.counts[:, type_id], label=\"data \"+t)\n",
    "    actual_model = lambda x: traj.counts[0,0] / (1. + (traj.counts[0,0] * rate * x))\n",
    "    if t==\"A\" or t==\"B\":\n",
    "        plot(actual_model, times, label=r\"$f(t) = \\frac{a(0)}{1 + a(0)\\, \\kappa\\, t}$\")\n",
    "    else:\n",
    "        plot(lambda x: traj.counts[0,0] - actual_model(x),\n",
    "             times, label=r\"$f(t) =a(0) - \\frac{a(0)}{1 + a(0)\\, \\kappa\\, t}$\")\n",
    "    plt.legend(loc=\"best\")\n",
    "    plt.show()"
   ]
  },
  {
   "cell_type": "code",
   "execution_count": null,
   "metadata": {
    "collapsed": true
   },
   "outputs": [],
   "source": []
  }
 ],
 "metadata": {
  "kernelspec": {
   "display_name": "Python 3",
   "language": "python",
   "name": "python3"
  },
  "language_info": {
   "codemirror_mode": {
    "name": "ipython",
    "version": 3
   },
   "file_extension": ".py",
   "mimetype": "text/x-python",
   "name": "python",
   "nbconvert_exporter": "python",
   "pygments_lexer": "ipython3",
   "version": "3.6.1"
  }
 },
 "nbformat": 4,
 "nbformat_minor": 2
}
