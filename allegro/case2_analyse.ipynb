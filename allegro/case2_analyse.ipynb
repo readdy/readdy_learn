{
 "cells": [
  {
   "cell_type": "code",
   "execution_count": null,
   "metadata": {},
   "outputs": [],
   "source": [
    "%matplotlib inline\n",
    "from typing import Dict, Tuple, List, Union, Iterable\n",
    "\n",
    "import matplotlib.pyplot as plt\n",
    "#import matplotlib.patches as mpatches\n",
    "#from matplotlib.ticker import AutoMinorLocator\n",
    "plt.style.use(\"lm\")\n",
    "import numpy as np\n",
    "#import scipy.linalg as sl #expm\n",
    "#import os\n",
    "#import time\n",
    "#import random\n",
    "#import string\n",
    "#import copy\n",
    "#from tabulate import tabulate\n",
    "import samplebase as sb\n",
    "\n",
    "import path_utils as putils\n",
    "\n",
    "def plot(f, xRange, *args, **kw):\n",
    "    yRange = np.fromiter(map(f, xRange), np.float)\n",
    "    plt.plot(xRange, yRange, *args, **kw)"
   ]
  },
  {
   "cell_type": "code",
   "execution_count": null,
   "metadata": {},
   "outputs": [],
   "source": [
    "data_dir = putils.data_dir(1)\n",
    "data_dir"
   ]
  }
 ],
 "metadata": {
  "kernelspec": {
   "display_name": "Python 3",
   "language": "python",
   "name": "python3"
  },
  "language_info": {
   "codemirror_mode": {
    "name": "ipython",
    "version": 3
   },
   "file_extension": ".py",
   "mimetype": "text/x-python",
   "name": "python",
   "nbconvert_exporter": "python",
   "pygments_lexer": "ipython3",
   "version": "3.6.4"
  }
 },
 "nbformat": 4,
 "nbformat_minor": 2
}
