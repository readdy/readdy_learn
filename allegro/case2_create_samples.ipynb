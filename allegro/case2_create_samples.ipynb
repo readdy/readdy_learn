{
 "cells": [
  {
   "cell_type": "code",
   "execution_count": 9,
   "metadata": {},
   "outputs": [],
   "source": [
    "import numpy as np\n",
    "import samplebase as sb\n",
    "import path_utils as putils"
   ]
  },
  {
   "cell_type": "code",
   "execution_count": 13,
   "metadata": {},
   "outputs": [
    {
     "data": {
      "text/plain": [
       "'/srv/public/workspace/data/rlearn-8'"
      ]
     },
     "execution_count": 13,
     "metadata": {},
     "output_type": "execute_result"
    }
   ],
   "source": [
    "data_dir = putils.data_dir(8)\n",
    "data_dir"
   ]
  },
  {
   "cell_type": "code",
   "execution_count": 15,
   "metadata": {},
   "outputs": [
    {
     "name": "stdout",
     "output_type": "stream",
     "text": [
      "[1.00000000e-10 1.45634848e-10 2.12095089e-10 3.08884360e-10\n",
      " 4.49843267e-10 6.55128557e-10 9.54095476e-10 1.38949549e-09\n",
      " 2.02358965e-09 2.94705170e-09 4.29193426e-09 6.25055193e-09\n",
      " 9.10298178e-09 1.32571137e-08 1.93069773e-08 2.81176870e-08\n",
      " 4.09491506e-08 5.96362332e-08 8.68511374e-08 1.26485522e-07\n",
      " 1.84206997e-07 2.68269580e-07 3.90693994e-07 5.68986603e-07\n",
      " 8.28642773e-07 1.20679264e-06 1.75751062e-06 2.55954792e-06\n",
      " 3.72759372e-06 5.42867544e-06 7.90604321e-06 1.15139540e-05\n",
      " 1.67683294e-05 2.44205309e-05 3.55648031e-05 5.17947468e-05\n",
      " 7.54312006e-05 1.09854114e-04 1.59985872e-04 2.32995181e-04\n",
      " 3.39322177e-04 4.94171336e-04 7.19685673e-04 1.04811313e-03\n",
      " 1.52641797e-03 2.22299648e-03 3.23745754e-03 4.71486636e-03\n",
      " 6.86648845e-03 1.00000000e-02]\n",
      "[1.e-09 1.e-08 1.e-07]\n",
      "[0.00225, 0.0045]\n",
      "[2, 4, 7, 15, 20]\n",
      "number of samples = 1500\n"
     ]
    }
   ],
   "source": [
    "alphas = np.logspace(-10, -2, num=50) # np.logspace(-9, -3, num=64)\n",
    "noises = np.logspace(-9, -7, num=3) # [1e-8]\n",
    "dts = [2.25e-3, 4.5e-3] #[2e-3, 4.5e-3, 1e-2]\n",
    "n_splitses = [2, 4, 7, 15, 20]\n",
    "print(alphas)\n",
    "print(noises)\n",
    "print(dts)\n",
    "print(n_splitses)\n",
    "print(\"number of samples = {}\".format(len(alphas) * len(noises) * len(dts) * len(n_splitses)))"
   ]
  },
  {
   "cell_type": "code",
   "execution_count": 16,
   "metadata": {},
   "outputs": [],
   "source": [
    "for noise in noises:\n",
    "    for a in alphas:\n",
    "        for dt in dts:\n",
    "            for n_splits in n_splitses:\n",
    "                args = {\n",
    "                    \"alpha\": a,\n",
    "                    \"noise\": noise,\n",
    "                    \"dt\": dt,\n",
    "                    \"n_splits\": n_splits,\n",
    "                    \"target_time\": 1.5 # 3. has much of the equilibration, 1. has no equilibration\n",
    "                }\n",
    "                sb.create_sample(data_dir, args=args)"
   ]
  },
  {
   "cell_type": "code",
   "execution_count": null,
   "metadata": {},
   "outputs": [],
   "source": []
  }
 ],
 "metadata": {
  "kernelspec": {
   "display_name": "Python 3",
   "language": "python",
   "name": "python3"
  },
  "language_info": {
   "codemirror_mode": {
    "name": "ipython",
    "version": 3
   },
   "file_extension": ".py",
   "mimetype": "text/x-python",
   "name": "python",
   "nbconvert_exporter": "python",
   "pygments_lexer": "ipython3",
   "version": "3.6.4"
  }
 },
 "nbformat": 4,
 "nbformat_minor": 2
}
