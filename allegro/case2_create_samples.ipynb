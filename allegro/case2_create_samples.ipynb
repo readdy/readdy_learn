{
 "cells": [
  {
   "cell_type": "code",
   "execution_count": 15,
   "metadata": {},
   "outputs": [],
   "source": [
    "import numpy as np\n",
    "import samplebase as sb\n",
    "import path_utils as putils"
   ]
  },
  {
   "cell_type": "code",
   "execution_count": 16,
   "metadata": {},
   "outputs": [
    {
     "data": {
      "text/plain": [
       "'/srv/public/workspace/data/rlearn-6'"
      ]
     },
     "execution_count": 16,
     "metadata": {},
     "output_type": "execute_result"
    }
   ],
   "source": [
    "data_dir = putils.data_dir(6)\n",
    "data_dir"
   ]
  },
  {
   "cell_type": "code",
   "execution_count": 17,
   "metadata": {},
   "outputs": [
    {
     "name": "stdout",
     "output_type": "stream",
     "text": [
      "[1.00000000e-12 1.59985872e-12 2.55954792e-12 4.09491506e-12\n",
      " 6.55128557e-12 1.04811313e-11 1.67683294e-11 2.68269580e-11\n",
      " 4.29193426e-11 6.86648845e-11 1.09854114e-10 1.75751062e-10\n",
      " 2.81176870e-10 4.49843267e-10 7.19685673e-10 1.15139540e-09\n",
      " 1.84206997e-09 2.94705170e-09 4.71486636e-09 7.54312006e-09\n",
      " 1.20679264e-08 1.93069773e-08 3.08884360e-08 4.94171336e-08\n",
      " 7.90604321e-08 1.26485522e-07 2.02358965e-07 3.23745754e-07\n",
      " 5.17947468e-07 8.28642773e-07 1.32571137e-06 2.12095089e-06\n",
      " 3.39322177e-06 5.42867544e-06 8.68511374e-06 1.38949549e-05\n",
      " 2.22299648e-05 3.55648031e-05 5.68986603e-05 9.10298178e-05\n",
      " 1.45634848e-04 2.32995181e-04 3.72759372e-04 5.96362332e-04\n",
      " 9.54095476e-04 1.52641797e-03 2.44205309e-03 3.90693994e-03\n",
      " 6.25055193e-03 1.00000000e-02]\n",
      "[1.e-12 1.e-10 1.e-08 1.e-06 1.e-04 1.e-02]\n",
      "[0.0002  0.00216 0.00412 0.00608 0.00804 0.01   ]\n",
      "number of samples = 1800\n"
     ]
    }
   ],
   "source": [
    "alphas = np.logspace(-12, -2, num=50) # np.logspace(-9, -3, num=64)\n",
    "noises = np.logspace(-12, -2, num=6) # [1e-8]\n",
    "dts = np.linspace(2e-4, 1e-2, num=6) # [1e-3, 2e-3, 4.5e-3, 1e-2, 5e-2]\n",
    "n_splits = 30\n",
    "print(alphas)\n",
    "print(noises)\n",
    "print(dts)\n",
    "print(\"number of samples = {}\".format(len(alphas) * len(noises) * len(dts)))"
   ]
  },
  {
   "cell_type": "code",
   "execution_count": 18,
   "metadata": {},
   "outputs": [],
   "source": [
    "for noise in noises:\n",
    "    for a in alphas:\n",
    "        for dt in dts:\n",
    "            args = {\n",
    "                \"alpha\": a,\n",
    "                \"noise\": noise,\n",
    "                \"dt\": dt,\n",
    "                \"n_splits\": n_splits,\n",
    "            }\n",
    "            sb.create_sample(data_dir, args=args)"
   ]
  },
  {
   "cell_type": "code",
   "execution_count": null,
   "metadata": {},
   "outputs": [],
   "source": []
  }
 ],
 "metadata": {
  "kernelspec": {
   "display_name": "Python 3",
   "language": "python",
   "name": "python3"
  },
  "language_info": {
   "codemirror_mode": {
    "name": "ipython",
    "version": 3
   },
   "file_extension": ".py",
   "mimetype": "text/x-python",
   "name": "python",
   "nbconvert_exporter": "python",
   "pygments_lexer": "ipython3",
   "version": "3.6.4"
  }
 },
 "nbformat": 4,
 "nbformat_minor": 2
}
