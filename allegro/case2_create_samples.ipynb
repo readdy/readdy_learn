{
 "cells": [
  {
   "cell_type": "code",
   "execution_count": 1,
   "metadata": {},
   "outputs": [],
   "source": [
    "import numpy as np\n",
    "import samplebase as sb\n",
    "import path_utils as putils"
   ]
  },
  {
   "cell_type": "code",
   "execution_count": 2,
   "metadata": {},
   "outputs": [
    {
     "data": {
      "text/plain": [
       "'/srv/public/workspace/data/rlearn-12'"
      ]
     },
     "execution_count": 2,
     "metadata": {},
     "output_type": "execute_result"
    }
   ],
   "source": [
    "data_dir = putils.data_dir(12)\n",
    "data_dir"
   ]
  },
  {
   "cell_type": "code",
   "execution_count": 3,
   "metadata": {},
   "outputs": [
    {
     "name": "stdout",
     "output_type": "stream",
     "text": [
      "[1.00000000e-09 1.38949549e-09 1.93069773e-09 2.68269580e-09\n",
      " 3.72759372e-09 5.17947468e-09 7.19685673e-09 1.00000000e-08\n",
      " 1.38949549e-08 1.93069773e-08 2.68269580e-08 3.72759372e-08\n",
      " 5.17947468e-08 7.19685673e-08 1.00000000e-07 1.38949549e-07\n",
      " 1.93069773e-07 2.68269580e-07 3.72759372e-07 5.17947468e-07\n",
      " 7.19685673e-07 1.00000000e-06 1.38949549e-06 1.93069773e-06\n",
      " 2.68269580e-06 3.72759372e-06 5.17947468e-06 7.19685673e-06\n",
      " 1.00000000e-05 1.38949549e-05 1.93069773e-05 2.68269580e-05\n",
      " 3.72759372e-05 5.17947468e-05 7.19685673e-05 1.00000000e-04\n",
      " 1.38949549e-04 1.93069773e-04 2.68269580e-04 3.72759372e-04\n",
      " 5.17947468e-04 7.19685673e-04 1.00000000e-03 1.38949549e-03\n",
      " 1.93069773e-03 2.68269580e-03 3.72759372e-03 5.17947468e-03\n",
      " 7.19685673e-03 1.00000000e-02]\n",
      "[0.0]\n",
      "[0.00225]\n",
      "[15]\n",
      "[1, 10, 100, 500]\n",
      "number of samples = 200\n"
     ]
    }
   ],
   "source": [
    "alphas = np.logspace(-9, -2, num=50) # np.logspace(-9, -3, num=64)\n",
    "#noises = np.logspace(-9, -7, num=3) # [1e-8]\n",
    "noises = [0.]\n",
    "gillespie_realisations = [1,10,100,500] #[1, 2, 5, 10, 20, 50, 100, 200, 500]\n",
    "dts = [2.25e-3] #[2e-3, 4.5e-3, 1e-2]\n",
    "n_splitses = [15]#[4, 7, 15, 20, 30]\n",
    "print(alphas)\n",
    "print(noises)\n",
    "print(dts)\n",
    "print(n_splitses)\n",
    "print(gillespie_realisations)\n",
    "print(\"number of samples = {}\".format(len(alphas) * len(noises) * len(dts) * len(n_splitses) * len(gillespie_realisations)))"
   ]
  },
  {
   "cell_type": "code",
   "execution_count": 4,
   "metadata": {},
   "outputs": [],
   "source": [
    "for noise in noises:\n",
    "    for a in alphas:\n",
    "        for dt in dts:\n",
    "            for n_splits in n_splitses:\n",
    "                for gr in gillespie_realisations:\n",
    "                    args = {\n",
    "                        \"alpha\": a,\n",
    "                        \"noise\": noise,\n",
    "                        \"dt\": dt,\n",
    "                        \"n_splits\": n_splits,\n",
    "                        \"target_time\": 1.5, # 3. has much of the equilibration, 1. has no equilibration\n",
    "                        \"gillespie_realisations\": gr\n",
    "                    }\n",
    "                    sb.create_sample(data_dir, args=args)"
   ]
  },
  {
   "cell_type": "code",
   "execution_count": null,
   "metadata": {},
   "outputs": [],
   "source": []
  }
 ],
 "metadata": {
  "kernelspec": {
   "display_name": "Python 3",
   "language": "python",
   "name": "python3"
  },
  "language_info": {
   "codemirror_mode": {
    "name": "ipython",
    "version": 3
   },
   "file_extension": ".py",
   "mimetype": "text/x-python",
   "name": "python",
   "nbconvert_exporter": "python",
   "pygments_lexer": "ipython3",
   "version": "3.6.3"
  }
 },
 "nbformat": 4,
 "nbformat_minor": 2
}
