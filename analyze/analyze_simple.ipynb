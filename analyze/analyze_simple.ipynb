{
 "cells": [
  {
   "cell_type": "code",
   "execution_count": 202,
   "metadata": {
    "collapsed": true
   },
   "outputs": [],
   "source": [
    "import os\n",
    "import numpy as np\n",
    "import sklearn as sk"
   ]
  },
  {
   "cell_type": "code",
   "execution_count": 203,
   "metadata": {
    "collapsed": true
   },
   "outputs": [],
   "source": [
    "def get_count_trajectory(fname, cache_fname=None):\n",
    "    if cache_fname and os.path.exists(cache_fname):\n",
    "        return np.load(cache_fname)\n",
    "    else:\n",
    "        dtraj = []\n",
    "        if os.path.exists(fname):\n",
    "            with h5py.File(fname) as f:\n",
    "                traj = f[\"readdy/trajectory\"]\n",
    "                traj_time = traj[\"time\"]\n",
    "                traj_time_records = traj[\"records\"]\n",
    "                for time, records in zip(traj_time, traj_time_records):\n",
    "                    current_counts = [0]*3\n",
    "                    for record in records:\n",
    "                        type_id = record[\"typeId\"]\n",
    "                        current_counts[type_id] += 1\n",
    "                    dtraj.append(current_counts)\n",
    "        else:\n",
    "            log.warn(\"file {} did not exist\".format(fname))\n",
    "        dtraj = np.array(dtraj)\n",
    "        if cache_fname:\n",
    "            np.save(cache_fname, dtraj)\n",
    "        return dtraj"
   ]
  },
  {
   "cell_type": "code",
   "execution_count": 288,
   "metadata": {
    "collapsed": true
   },
   "outputs": [],
   "source": [
    "counts = get_count_trajectory(\"../generate/simple_trajectory.h5\", cache_fname='counts_traj.npy')"
   ]
  },
  {
   "cell_type": "code",
   "execution_count": 291,
   "metadata": {},
   "outputs": [
    {
     "name": "stdout",
     "output_type": "stream",
     "text": [
      "(50001, 3)\n",
      "max counts = 400, min counts = 1\n"
     ]
    }
   ],
   "source": [
    "time_step = .01\n",
    "dcounts_dt = np.gradient(counts, axis=0)\n",
    "print(counts.shape)\n",
    "print(\"max counts = {}, min counts = {}\".format(np.max(counts), np.min(counts[np.nonzero(counts)])))"
   ]
  },
  {
   "cell_type": "markdown",
   "metadata": {},
   "source": [
    "# mean field model"
   ]
  },
  {
   "cell_type": "code",
   "execution_count": 292,
   "metadata": {
    "collapsed": true
   },
   "outputs": [],
   "source": [
    "theta1 = lambda x: x[:,0]\n",
    "theta2 = lambda x: x[:,1]\n",
    "theta3 = lambda x: x[:,2]\n",
    "theta4 = lambda x: x[:,0]*x[:,1]\n",
    "theta5 = lambda x: x[:,0]*x[:,2]\n",
    "theta6 = lambda x: x[:,1]*x[:,2]"
   ]
  },
  {
   "cell_type": "code",
   "execution_count": 293,
   "metadata": {
    "collapsed": true
   },
   "outputs": [],
   "source": [
    "theta = np.array([theta1(counts), theta2(counts), theta3(counts), theta4(counts), theta5(counts), theta6(counts)])"
   ]
  },
  {
   "cell_type": "code",
   "execution_count": 294,
   "metadata": {},
   "outputs": [
    {
     "name": "stdout",
     "output_type": "stream",
     "text": [
      "(6, 50001)\n"
     ]
    }
   ],
   "source": [
    "# theta in R^(species x ansatz functions * n_timesteps)\n",
    "print(theta.shape)"
   ]
  },
  {
   "cell_type": "code",
   "execution_count": 297,
   "metadata": {
    "collapsed": true
   },
   "outputs": [],
   "source": [
    "from sklearn import linear_model\n",
    "clf = linear_model.Lasso(alpha=15)"
   ]
  },
  {
   "cell_type": "code",
   "execution_count": 298,
   "metadata": {},
   "outputs": [
    {
     "data": {
      "text/plain": [
       "Lasso(alpha=15, copy_X=True, fit_intercept=True, max_iter=1000,\n",
       "   normalize=False, positive=False, precompute=False, random_state=None,\n",
       "   selection='cyclic', tol=0.0001, warm_start=False)"
      ]
     },
     "execution_count": 298,
     "metadata": {},
     "output_type": "execute_result"
    }
   ],
   "source": [
    "clf.fit(theta.T, dcounts_dt)"
   ]
  },
  {
   "cell_type": "code",
   "execution_count": 299,
   "metadata": {},
   "outputs": [
    {
     "name": "stdout",
     "output_type": "stream",
     "text": [
      "(50001, 3)\n",
      "(6, 50001)\n"
     ]
    }
   ],
   "source": [
    "print(dcounts_dt.shape)\n",
    "print(theta.shape)"
   ]
  },
  {
   "cell_type": "code",
   "execution_count": 300,
   "metadata": {},
   "outputs": [
    {
     "name": "stdout",
     "output_type": "stream",
     "text": [
      "[[ -0.00000000e+00  -0.00000000e+00   0.00000000e+00  -1.76121056e-07\n",
      "   -0.00000000e+00  -0.00000000e+00]\n",
      " [ -0.00000000e+00  -0.00000000e+00   0.00000000e+00  -1.76121056e-07\n",
      "   -0.00000000e+00  -0.00000000e+00]\n",
      " [  0.00000000e+00   0.00000000e+00  -0.00000000e+00   1.76121056e-07\n",
      "    0.00000000e+00   0.00000000e+00]]\n"
     ]
    }
   ],
   "source": [
    "print(clf.coef_)"
   ]
  },
  {
   "cell_type": "markdown",
   "metadata": {},
   "source": [
    "# Simon way (solve for all times indepdenently, use markov property)"
   ]
  },
  {
   "cell_type": "code",
   "execution_count": 301,
   "metadata": {
    "collapsed": true
   },
   "outputs": [],
   "source": [
    "from sklearn import linear_model\n",
    "clf = linear_model.Lasso(alpha=15, warm_start=False, max_iter=10000, tol=1e-6)"
   ]
  },
  {
   "cell_type": "code",
   "execution_count": 302,
   "metadata": {
    "collapsed": true
   },
   "outputs": [],
   "source": [
    "theta1 = lambda x: np.array([-x[0]*x[1], -x[0]*x[1], x[0]*x[1]])\n",
    "theta2 = lambda x: np.array([x[2], x[2], -x[2]])\n",
    "theta3 = lambda x: np.array([-x[0], x[1], 0])"
   ]
  },
  {
   "cell_type": "code",
   "execution_count": 303,
   "metadata": {
    "collapsed": true
   },
   "outputs": [],
   "source": [
    "n_timesteps = counts.shape[0]"
   ]
  },
  {
   "cell_type": "code",
   "execution_count": 304,
   "metadata": {},
   "outputs": [],
   "source": [
    "alphas = []\n",
    "for i in range(0, n_timesteps):\n",
    "    c = counts[i]\n",
    "    theta = np.array([theta1(c), theta2(c), theta3(c)])\n",
    "    dc = dcounts_dt[i] / time_step\n",
    "    clf.fit(theta.T, dc)\n",
    "    alphas.append(clf.coef_)"
   ]
  },
  {
   "cell_type": "code",
   "execution_count": 305,
   "metadata": {},
   "outputs": [
    {
     "name": "stdout",
     "output_type": "stream",
     "text": [
      "xi = [  1.90961972e-05   0.00000000e+00   0.00000000e+00]\n"
     ]
    }
   ],
   "source": [
    "xi = np.sum(alphas, axis=0) / len(alphas)\n",
    "print(\"xi = %s\" % xi)"
   ]
  },
  {
   "cell_type": "code",
   "execution_count": 306,
   "metadata": {
    "collapsed": true
   },
   "outputs": [],
   "source": [
    "from scipy.integrate import odeint"
   ]
  },
  {
   "cell_type": "code",
   "execution_count": 307,
   "metadata": {
    "collapsed": true
   },
   "outputs": [],
   "source": [
    "def fun(data, _):\n",
    "    theta = np.array([theta1(data), theta2(data), theta3(data)])\n",
    "    return np.matmul(xi, theta)"
   ]
  },
  {
   "cell_type": "code",
   "execution_count": 308,
   "metadata": {},
   "outputs": [],
   "source": [
    "num_solution = odeint(fun, counts[0], np.arange(0, n_timesteps*.01, .01))"
   ]
  },
  {
   "cell_type": "code",
   "execution_count": 309,
   "metadata": {},
   "outputs": [],
   "source": [
    "%matplotlib inline\n",
    "import matplotlib.pyplot as plt"
   ]
  },
  {
   "cell_type": "code",
   "execution_count": 310,
   "metadata": {},
   "outputs": [
    {
     "data": {
      "text/plain": [
       "[<matplotlib.lines.Line2D at 0x7fc3dcd5b438>]"
      ]
     },
     "execution_count": 310,
     "metadata": {},
     "output_type": "execute_result"
    },
    {
     "data": {
      "image/png": "[encoded data removed]",
      "text/plain": [
       "<matplotlib.figure.Figure at 0x7fc3dcd5b208>"
      ]
     },
     "metadata": {},
     "output_type": "display_data"
    }
   ],
   "source": [
    "plt.plot(np.arange(0, n_timesteps*.01, .01), counts[:,0])\n",
    "plt.plot(np.arange(0, n_timesteps*.01, .01), num_solution[:, 0])"
   ]
  },
  {
   "cell_type": "code",
   "execution_count": 311,
   "metadata": {},
   "outputs": [
    {
     "data": {
      "text/plain": [
       "[<matplotlib.lines.Line2D at 0x7fc3dcc980b8>]"
      ]
     },
     "execution_count": 311,
     "metadata": {},
     "output_type": "execute_result"
    },
    {
     "data": {
      "image/png": "[encoded data removed]",
      "text/plain": [
       "<matplotlib.figure.Figure at 0x7fc3dd459da0>"
      ]
     },
     "metadata": {},
     "output_type": "display_data"
    }
   ],
   "source": [
    "plt.plot(np.arange(0, n_timesteps * .01, .01), counts[:,1])\n",
    "plt.plot(np.arange(0, n_timesteps * .01, .01), num_solution[:, 1])"
   ]
  },
  {
   "cell_type": "code",
   "execution_count": 312,
   "metadata": {},
   "outputs": [
    {
     "data": {
      "text/plain": [
       "[<matplotlib.lines.Line2D at 0x7fc3dcb4ef28>]"
      ]
     },
     "execution_count": 312,
     "metadata": {},
     "output_type": "execute_result"
    },
    {
     "data": {
      "image/png": "[encoded data removed]",
      "text/plain": [
       "<matplotlib.figure.Figure at 0x7fc3dcdbe550>"
      ]
     },
     "metadata": {},
     "output_type": "display_data"
    }
   ],
   "source": [
    "plt.plot(np.arange(0, n_timesteps * .01, .01), counts[:,2])\n",
    "plt.plot(np.arange(0, n_timesteps * .01, .01), num_solution[:, 2])"
   ]
  },
  {
   "cell_type": "code",
   "execution_count": 313,
   "metadata": {},
   "outputs": [
    {
     "data": {
      "text/plain": [
       "0.068483983715421526"
      ]
     },
     "execution_count": 313,
     "metadata": {},
     "output_type": "execute_result"
    }
   ],
   "source": [
    "diffusion_coeff = 0.2 \n",
    "micro_rate = 0.05\n",
    "reaction_radius = 0.7\n",
    "tmp = np.sqrt(micro_rate / diffusion_coeff) * reaction_radius\n",
    "rate_chapman = 4. * np.pi * diffusion_coeff * reaction_radius * (1. - np.tanh(tmp) / tmp)"
   ]
  },
  {
   "cell_type": "code",
   "execution_count": 315,
   "metadata": {},
   "outputs": [
    {
     "name": "stdout",
     "output_type": "stream",
     "text": [
      "erban chapman rate (per volume): 0.06848398371542153\n",
      "lasso fitted rate (per counts): 1.9096197204770378e-05\n",
      "lasso fitted rate (per volume): 0.06444966556610002\n"
     ]
    }
   ],
   "source": [
    "print(\"erban chapman rate (per volume): {}\".format(rate_chapman))\n",
    "print(\"lasso fitted rate (per counts): {}\".format(xi[0]))\n",
    "print(\"lasso fitted rate (per volume): {}\".format(xi[0] * 15 * 15 * 15))"
   ]
  },
  {
   "cell_type": "code",
   "execution_count": null,
   "metadata": {
    "collapsed": true
   },
   "outputs": [],
   "source": []
  }
 ],
 "metadata": {
  "kernelspec": {
   "display_name": "Python 3",
   "language": "python",
   "name": "python3"
  },
  "language_info": {
   "codemirror_mode": {
    "name": "ipython",
    "version": 3
   },
   "file_extension": ".py",
   "mimetype": "text/x-python",
   "name": "python",
   "nbconvert_exporter": "python",
   "pygments_lexer": "ipython3",
   "version": "3.6.1"
  }
 },
 "nbformat": 4,
 "nbformat_minor": 2
}
