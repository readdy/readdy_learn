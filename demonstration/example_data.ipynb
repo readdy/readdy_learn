{
 "cells": [
  {
   "cell_type": "code",
   "execution_count": 4,
   "metadata": {
    "collapsed": true
   },
   "outputs": [],
   "source": [
    "%matplotlib inline\n",
    "import matplotlib.pyplot as plt\n",
    "import numpy as np"
   ]
  },
  {
   "cell_type": "code",
   "execution_count": 14,
   "metadata": {},
   "outputs": [
    {
     "name": "stderr",
     "output_type": "stream",
     "text": [
      "[KMC] [2017-07-02 16:00:18] [INFO] Simulate for 1000 steps\n"
     ]
    }
   ],
   "source": [
    "import generate_tools.kinetic_monte_carlo as kmc\n",
    "\n",
    "n_species = 3\n",
    "n_boxes = 1\n",
    "rate_1 = 1.\n",
    "rate_2 = 12.\n",
    "diffusivity_a = np.array([[0.]])\n",
    "diffusivity_b = np.array([[0.]])\n",
    "diffusivity_c = np.array([[0.]])\n",
    "diffusivity = np.array([diffusivity_a, diffusivity_b, diffusivity_c])\n",
    "init_state = np.array([[50, 50, 0]])\n",
    "species_names = [\"A\", \"B\", \"C\"]\n",
    "system = kmc.ReactionDiffusionSystem(diffusivity, 3, 1, init_state, species_names=species_names)\n",
    "system.add_fusion(\"A\", \"B\", \"C\", np.array([rate_1]))\n",
    "system.add_fission(\"C\", \"A\", \"B\", np.array([rate_2]))\n",
    "system.simulate(1000)"
   ]
  },
  {
   "cell_type": "code",
   "execution_count": 21,
   "metadata": {
    "collapsed": true
   },
   "outputs": [],
   "source": [
    "def get_counts_config(n_frames, single_box=True, convert_to_float=True):\n",
    "    counts, times = system.convert_events_to_time_series(n_frames=n_frames)\n",
    "    if single_box:\n",
    "        counts = np.sum(counts, axis=1)\n",
    "\n",
    "    if convert_to_float:\n",
    "        counts = np.array(counts, dtype=np.float64)\n",
    "    \n",
    "    config = system.get_trajectory_config()\n",
    "    return counts, times, config\n",
    "\n",
    "counts_full, times_full, config = get_counts_config(20000)\n",
    "\n",
    "# cut initial state\n",
    "counts_equ = np.split(counts_full, 40)[-1]\n",
    "times_equ = np.split(times_full, 40)[-1]\n",
    "counts_init = np.split(counts_full, 2)[0]\n",
    "times_init = np.split(times_full, 2)[0]"
   ]
  },
  {
   "cell_type": "code",
   "execution_count": 23,
   "metadata": {},
   "outputs": [
    {
     "data": {
      "image/png": "[encoded data removed]",
      "text/plain": [
       "<matplotlib.figure.Figure at 0x7fac2d01b1d0>"
      ]
     },
     "metadata": {},
     "output_type": "display_data"
    }
   ],
   "source": [
    "def plot_counts(counts, times, config):\n",
    "    plt.plot(times, counts[:, config.types[\"C\"]], label=\"C\")\n",
    "    plt.plot(times, counts[:, config.types[\"A\"]], label=r\"A or B\")\n",
    "    plt.legend(loc=\"best\")\n",
    "    plt.xlabel(\"Time\")\n",
    "    plt.ylabel(\"Number of particles\")\n",
    "\n",
    "plot_counts(counts_equ, times_equ-times_equ[0], config)\n",
    "plt.savefig(\"example_data_few_equ.pdf\")"
   ]
  },
  {
   "cell_type": "code",
   "execution_count": null,
   "metadata": {
    "collapsed": true
   },
   "outputs": [],
   "source": []
  }
 ],
 "metadata": {
  "kernelspec": {
   "display_name": "Python 3",
   "language": "python",
   "name": "python3"
  },
  "language_info": {
   "codemirror_mode": {
    "name": "ipython",
    "version": 3
   },
   "file_extension": ".py",
   "mimetype": "text/x-python",
   "name": "python",
   "nbconvert_exporter": "python",
   "pygments_lexer": "ipython3",
   "version": "3.6.1"
  }
 },
 "nbformat": 4,
 "nbformat_minor": 2
}
