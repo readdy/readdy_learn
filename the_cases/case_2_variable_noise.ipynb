{
 "cells": [
  {
   "cell_type": "code",
   "execution_count": 1,
   "metadata": {},
   "outputs": [
    {
     "name": "stderr",
     "output_type": "stream",
     "text": [
      "/srv/public/clonker/miniconda3/envs/readdy_learn/lib/python3.6/site-packages/h5py/__init__.py:36: FutureWarning: Conversion of the second argument of issubdtype from `float` to `np.floating` is deprecated. In future, it will be treated as `np.float64 == np.dtype(float).type`.\n",
      "  from ._conv import register_converters as _register_converters\n"
     ]
    }
   ],
   "source": [
    "%matplotlib inline\n",
    "import os\n",
    "import numpy as np\n",
    "import matplotlib as mpl\n",
    "import pickle\n",
    "\n",
    "import readdy_learn.analyze.analyze as ana\n",
    "import readdy_learn.analyze.basis as basis\n",
    "import readdy_learn.analyze.validation as validation\n",
    "from pathos.multiprocessing import Pool\n",
    "\n",
    "import pynumtools.kmc as kmc\n",
    "\n",
    "mpl.rcParams['figure.figsize'] = (16, 13)\n",
    "import matplotlib.pyplot as plt\n",
    "import scipy.signal as ss\n",
    "from readdy_learn.example.regulation_network import RegulationNetwork\n",
    "from readdy_learn.example.regulation_network import sample_lsq_rates\n",
    "from readdy_learn.example.regulation_network import sample_along_alpha\n",
    "from readdy_learn.example.regulation_network import DEFAULT_DESIRED_RATES"
   ]
  },
  {
   "cell_type": "code",
   "execution_count": 2,
   "metadata": {},
   "outputs": [],
   "source": [
    "def get_bfc_custom():\n",
    "    # species DA  MA  A  DB  MB  B  DC  MC  C\n",
    "    # ids     0   1   2  3   4   5  6   7   8\n",
    "    bfc = basis.BasisFunctionConfiguration(9)\n",
    "    # usual stuff A\n",
    "    bfc.add_fission(0, 0, 1)  # 0   DA -> DA + MA, transcription A\n",
    "    bfc.add_fission(1, 1, 2)  # 1   MA -> MA + A, translation A\n",
    "    bfc.add_decay(1)  # 2   MA -> 0, decay\n",
    "    bfc.add_decay(2)  # 3   A -> 0, decay\n",
    "    # usual stuff B\n",
    "    bfc.add_fission(3, 3, 4)  # 4   DB -> DB + MB, transcription B\n",
    "    bfc.add_fission(4, 4, 5)  # 5   MB -> MB + B, translation B\n",
    "    bfc.add_decay(4)  # 6   MB -> 0, decay\n",
    "    bfc.add_decay(5)  # 7   B -> 0, decay\n",
    "    # usual stuff C\n",
    "    bfc.add_fission(6, 6, 7)  # 8   DC -> DC + MC, transcription C\n",
    "    bfc.add_fission(7, 7, 8)  # 9   MC -> MC + C, translation C\n",
    "    bfc.add_decay(7)  # 10  MC -> 0, decay\n",
    "    bfc.add_decay(8)  # 11  C -> 0, decay\n",
    "\n",
    "    # all possible regulations\n",
    "    # self regulation\n",
    "    bfc.add_fusion(1, 2, 2)  # 12  MA + A -> A, A regulates A\n",
    "    bfc.add_fusion(4, 5, 5)  # 13  MB + B -> B, B regulates B\n",
    "    bfc.add_fusion(7, 8, 8)  # 14  MC + C -> C, C regulates C\n",
    "    # cyclic forward\n",
    "    bfc.add_fusion(4, 2, 2)  # 15  MB + A -> A, A regulates B\n",
    "    bfc.add_fusion(7, 5, 5)  # 16  MC + B -> B, B regulates C\n",
    "    bfc.add_fusion(1, 8, 8)  # 17  MA + C -> C, C regulates A\n",
    "    # cyclic backward\n",
    "    bfc.add_fusion(7, 2, 2)  # 18  MC + A -> A, A regulates C\n",
    "    bfc.add_fusion(4, 8, 8)  # 19  MB + C -> C, C regulates B\n",
    "    bfc.add_fusion(1, 5, 5)  # 20  MA + B -> B, B regulates A\n",
    "\n",
    "    # thrown these out due to being identical to decay\n",
    "    # nonsense reactions, DNA eats mRNA self\n",
    "    # bfc.add_fusion(1, 0, 0) # 21 MA + DA -> DA\n",
    "    # bfc.add_fusion(4, 3, 3) # 22 MB + DB -> DB\n",
    "    # bfc.add_fusion(7, 6, 6) # 23 MC + DC -> DC\n",
    "\n",
    "    # nonsense reactions, DNA eats mRNA cyclic forward\n",
    "    # bfc.add_fusion(4, 0, 0) # 24 MB + DA -> DA\n",
    "    # bfc.add_fusion(7, 3, 3) # 25 MC + DB -> DB\n",
    "    # bfc.add_fusion(1, 6, 6) # 26 MA + DC -> DC\n",
    "\n",
    "    # nonsense reactions, DNA eats mRNA cyclic backward\n",
    "    # bfc.add_fusion(7, 0, 0) # 27 MC + DA -> DA\n",
    "    # bfc.add_fusion(4, 6, 6) # 28 MB + DC -> DC\n",
    "    # bfc.add_fusion(1, 3, 3) # 29 MA + DB -> DB\n",
    "\n",
    "    # nonsense reactions, mRNA eats protein self\n",
    "    bfc.add_fusion(1, 2, 1)  # 21 MA + A -> MA\n",
    "    bfc.add_fusion(4, 5, 4)  # 22 MB + B -> MB\n",
    "    bfc.add_fusion(7, 8, 8)  # 23 MC + C -> MC\n",
    "\n",
    "    # nonsense reactions, mRNA eats protein cyclic forward\n",
    "    bfc.add_fusion(1, 5, 1)  # 24 MA + B -> MA\n",
    "    bfc.add_fusion(4, 8, 4)  # 25 MB + C -> MB\n",
    "    bfc.add_fusion(7, 2, 7)  # 26 MC + A -> MC\n",
    "\n",
    "    # nonsense reactions, mRNA eats protein  cyclic backward\n",
    "    bfc.add_fusion(1, 8, 1)  # 27 MA + C -> MA\n",
    "    bfc.add_fusion(4, 2, 4)  # 28 MB + A -> MB\n",
    "    bfc.add_fusion(7, 4, 7)  # 29 MC + B -> MC\n",
    "\n",
    "    # nonsense reactions, protein eats protein self\n",
    "    bfc.add_fusion(2, 2, 2)  # 30 A + A -> A\n",
    "    bfc.add_fusion(5, 5, 5)  # 31 B + B -> B\n",
    "    bfc.add_fusion(8, 8, 8)  # 32 C + C -> C\n",
    "\n",
    "    # nonsense reactions, protein eats protein cyclic forward\n",
    "    bfc.add_fusion(5, 2, 2)  # 30 B + A -> A\n",
    "    bfc.add_fusion(8, 5, 5)  # 31 C + B -> B\n",
    "    bfc.add_fusion(2, 8, 8)  # 32 A + C -> C\n",
    "\n",
    "    # nonsense reactions, protein eats protein cyclic backward\n",
    "    bfc.add_fusion(8, 2, 2)  # 33 C + A -> A\n",
    "    bfc.add_fusion(5, 8, 8)  # 34 B + C -> C\n",
    "    bfc.add_fusion(2, 5, 5)  # 35 A + B -> B\n",
    "\n",
    "    # nonsense reactions, protein becomes protein cyclic forward\n",
    "    bfc.add_conversion(2, 5)  # 36 A -> B\n",
    "    bfc.add_conversion(5, 8)  # 37 B -> C\n",
    "    bfc.add_conversion(8, 2)  # 38 C -> A\n",
    "\n",
    "    # nonsense reactions, protein becomes protein cyclic backward\n",
    "    bfc.add_conversion(2, 8)  # 39 A -> C\n",
    "    bfc.add_conversion(8, 5)  # 40 C -> B\n",
    "    bfc.add_conversion(5, 2)  # 41 B -> A\n",
    "    \n",
    "    # random reactions\n",
    "    get_additional_funs(bfc)\n",
    "    return bfc\n",
    "\n",
    "def get_additional_funs(bfc):\n",
    "    # species DA  MA  A  DB  MB  B  DC  MC  C\n",
    "    # ids     0   1   2  3   4   5  6   7   8\n",
    "    bfc.add_fusion(4, 7, 1) # MB + MC -> MA, ok (causes lsq trouble)\n",
    "    bfc.add_fusion(2, 7, 8) # A + MC -> C, ok (causes lsq trouble)\n",
    "    \n",
    "def get_n_additional_funs():\n",
    "    return 2\n",
    "desired_rates = np.append(DEFAULT_DESIRED_RATES, np.zeros((get_n_additional_funs(),)))\n",
    "def plot_l1_errors(regulation_network, results, cutoff=0.):\n",
    "    l1_errors = []\n",
    "    l1_std = []\n",
    "    keys_sorted = np.array([k for k in sorted(results.keys())])\n",
    "    for key in keys_sorted:\n",
    "        # shape: (n_realizations, basis funs)\n",
    "        rates = np.array(results[key])\n",
    "        # build difference w correct rates\n",
    "        ratesdiff = np.abs(np.array([r - regulation_network.desired_rates for r in rates]))\n",
    "        l1norms = np.array([np.sum(x) for x in ratesdiff])\n",
    "        l1_errors.append(np.mean(l1norms))\n",
    "        l1_std.append(np.std(l1norms))\n",
    "    l1_errors = np.array(l1_errors)\n",
    "    l1_std = np.array(l1_std)\n",
    "    plt.fill_between(keys_sorted, l1_errors-l1_std, l1_errors+l1_std,\n",
    "                     color='b', alpha=.5)\n",
    "    #plt.errorbar(keys, l2_mean, yerr=l2_std)\n",
    "    plt.plot(keys_sorted, l1_errors)\n",
    "    plt.xscale('log')\n",
    "    #plt.yscale('log')\n",
    "    plt.xlabel(r'$\\alpha$')\n",
    "    plt.ylabel('L1 error')\n",
    "    ix = np.argmin(l1_errors)\n",
    "    return l1_errors[ix], ix\n",
    "def get_regulation_network(timestep, noise=0.):\n",
    "    print(\"obtaining regulation network with dt = {} and noise variance {}\".format(timestep, noise))\n",
    "    regulation_network = RegulationNetwork()\n",
    "    regulation_network.timestep = timestep\n",
    "    regulation_network.realisations = 1.\n",
    "    regulation_network.noise_variance = noise\n",
    "    regulation_network.get_bfc = get_bfc_custom\n",
    "    regulation_network.desired_rates = desired_rates\n",
    "    regulation_network.initial_states = [regulation_network.initial_states[1]]\n",
    "    analysis = regulation_network.generate_analysis_object(fname_prefix='case_1', fname_postfix='0')\n",
    "    for i in range(len(regulation_network.initial_states)):\n",
    "        analysis.generate_or_load_traj_lma(i, regulation_network.target_time,\n",
    "                                           noise_variance=regulation_network.noise_variance,\n",
    "                                           realizations=regulation_network.realisations)\n",
    "        shape = analysis.trajs[i].counts.shape\n",
    "    regulation_network.compute_gradient_derivatives(analysis, persist=False)\n",
    "    return regulation_network, analysis"
   ]
  },
  {
   "cell_type": "code",
   "execution_count": 5,
   "metadata": {},
   "outputs": [],
   "source": [
    "noises = np.logspace(-5, 0, 20)"
   ]
  },
  {
   "cell_type": "code",
   "execution_count": null,
   "metadata": {},
   "outputs": [
    {
     "name": "stdout",
     "output_type": "stream",
     "text": [
      "obtaining regulation network with dt = 0.0045 and noise variance 1e-05\n",
      "validating across grid with 30 alphas, 5 lambdas, 1 cutoffs with 5 realizations\n"
     ]
    },
    {
     "data": {
      "application/vnd.jupyter.widget-view+json": {
       "model_id": "351ee4096ef54791993bd647b566ab04",
       "version_major": 2,
       "version_minor": 0
      },
      "text/html": [
       "<p>Failed to display Jupyter Widget of type <code>HBox</code>.</p>\n",
       "<p>\n",
       "  If you're reading this message in the Jupyter Notebook or JupyterLab Notebook, it may mean\n",
       "  that the widgets JavaScript is still loading. If this message persists, it\n",
       "  likely means that the widgets JavaScript library is either not installed or\n",
       "  not enabled. See the <a href=\"https://ipywidgets.readthedocs.io/en/stable/user_install.html\">Jupyter\n",
       "  Widgets Documentation</a> for setup instructions.\n",
       "</p>\n",
       "<p>\n",
       "  If you're reading this message in another frontend (for example, a static\n",
       "  rendering on GitHub or <a href=\"https://nbviewer.jupyter.org/\">NBViewer</a>),\n",
       "  it may mean that your frontend doesn't currently support widgets.\n",
       "</p>\n"
      ],
      "text/plain": [
       "HBox(children=(HBox(children=(Label(value='validation 0'),), layout=Layout(max_width='35%', min_width='35%')), HBox(children=(IntProgress(value=0, max=750), HTML(value='')), layout=Layout(padding='0 0 0 20px'))), layout=Layout(display='flex', width='100%'))"
      ]
     },
     "metadata": {},
     "output_type": "display_data"
    },
    {
     "name": "stdout",
     "output_type": "stream",
     "text": [
      "obtaining regulation network with dt = 0.0045 and noise variance 1.8329807108324375e-05\n",
      "validating across grid with 30 alphas, 5 lambdas, 1 cutoffs with 5 realizations\n"
     ]
    },
    {
     "data": {
      "application/vnd.jupyter.widget-view+json": {
       "model_id": "05d4ec0a1b694aec98507766ea05e2f7",
       "version_major": 2,
       "version_minor": 0
      },
      "text/html": [
       "<p>Failed to display Jupyter Widget of type <code>HBox</code>.</p>\n",
       "<p>\n",
       "  If you're reading this message in the Jupyter Notebook or JupyterLab Notebook, it may mean\n",
       "  that the widgets JavaScript is still loading. If this message persists, it\n",
       "  likely means that the widgets JavaScript library is either not installed or\n",
       "  not enabled. See the <a href=\"https://ipywidgets.readthedocs.io/en/stable/user_install.html\">Jupyter\n",
       "  Widgets Documentation</a> for setup instructions.\n",
       "</p>\n",
       "<p>\n",
       "  If you're reading this message in another frontend (for example, a static\n",
       "  rendering on GitHub or <a href=\"https://nbviewer.jupyter.org/\">NBViewer</a>),\n",
       "  it may mean that your frontend doesn't currently support widgets.\n",
       "</p>\n"
      ],
      "text/plain": [
       "HBox(children=(HBox(children=(Label(value='validation 0'),), layout=Layout(max_width='35%', min_width='35%')), HBox(children=(IntProgress(value=0, max=750), HTML(value='')), layout=Layout(padding='0 0 0 20px'))), layout=Layout(display='flex', width='100%'))"
      ]
     },
     "metadata": {},
     "output_type": "display_data"
    },
    {
     "name": "stdout",
     "output_type": "stream",
     "text": [
      "obtaining regulation network with dt = 0.0045 and noise variance 3.359818286283781e-05\n",
      "validating across grid with 30 alphas, 5 lambdas, 1 cutoffs with 5 realizations\n"
     ]
    },
    {
     "data": {
      "application/vnd.jupyter.widget-view+json": {
       "model_id": "7bc92d668bca42c7a51567f9815a0d40",
       "version_major": 2,
       "version_minor": 0
      },
      "text/html": [
       "<p>Failed to display Jupyter Widget of type <code>HBox</code>.</p>\n",
       "<p>\n",
       "  If you're reading this message in the Jupyter Notebook or JupyterLab Notebook, it may mean\n",
       "  that the widgets JavaScript is still loading. If this message persists, it\n",
       "  likely means that the widgets JavaScript library is either not installed or\n",
       "  not enabled. See the <a href=\"https://ipywidgets.readthedocs.io/en/stable/user_install.html\">Jupyter\n",
       "  Widgets Documentation</a> for setup instructions.\n",
       "</p>\n",
       "<p>\n",
       "  If you're reading this message in another frontend (for example, a static\n",
       "  rendering on GitHub or <a href=\"https://nbviewer.jupyter.org/\">NBViewer</a>),\n",
       "  it may mean that your frontend doesn't currently support widgets.\n",
       "</p>\n"
      ],
      "text/plain": [
       "HBox(children=(HBox(children=(Label(value='validation 0'),), layout=Layout(max_width='35%', min_width='35%')), HBox(children=(IntProgress(value=0, max=750), HTML(value='')), layout=Layout(padding='0 0 0 20px'))), layout=Layout(display='flex', width='100%'))"
      ]
     },
     "metadata": {},
     "output_type": "display_data"
    }
   ],
   "source": [
    "for noise in noises:\n",
    "    dt = 4.5e-3\n",
    "    regulation_network = get_regulation_network(dt, noise)[0]\n",
    "    val = validation.Validation(regulation_network)\n",
    "    fname = 'case_2_noise_{}.pickle'.format(noise)\n",
    "    if os.path.exists(fname) and os.path.isfile(fname):\n",
    "        print(\"skipping noise {}\".format(noise))\n",
    "        continue\n",
    "    alphas = np.logspace(-6, -2, num=30)\n",
    "    l1_ratios = np.linspace(0, 1, num=5)\n",
    "    result = val.validate(alphas, l1_ratios, realizations=5)\n",
    "    with open(fname, 'wb') as f:\n",
    "        pickle.dump(result, f)"
   ]
  },
  {
   "cell_type": "code",
   "execution_count": null,
   "metadata": {},
   "outputs": [],
   "source": [
    "noises = np.logspace(-10, -5, 20)"
   ]
  },
  {
   "cell_type": "code",
   "execution_count": null,
   "metadata": {},
   "outputs": [],
   "source": [
    "for noise in noises:\n",
    "    dt = 4.5e-3\n",
    "    regulation_network = get_regulation_network(dt, noise)[0]\n",
    "    val = validation.Validation(regulation_network)\n",
    "    fname = 'case_2_noise_{}.pickle'.format(noise)\n",
    "    if os.path.exists(fname) and os.path.isfile(fname):\n",
    "        print(\"skipping noise {}\".format(noise))\n",
    "        continue\n",
    "    alphas = np.logspace(-6, -2, num=30)\n",
    "    l1_ratios = np.linspace(0, 1, num=5)\n",
    "    result = val.validate(alphas, l1_ratios, realizations=5)\n",
    "    with open(fname, 'wb') as f:\n",
    "        pickle.dump(result, f)"
   ]
  },
  {
   "cell_type": "code",
   "execution_count": null,
   "metadata": {},
   "outputs": [],
   "source": []
  }
 ],
 "metadata": {
  "kernelspec": {
   "display_name": "Python 3 (ipykernel)",
   "language": "python",
   "name": "python3"
  },
  "language_info": {
   "codemirror_mode": {
    "name": "ipython",
    "version": 3
   },
   "file_extension": ".py",
   "mimetype": "text/x-python",
   "name": "python",
   "nbconvert_exporter": "python",
   "pygments_lexer": "ipython3",
   "version": "3.10.15"
  }
 },
 "nbformat": 4,
 "nbformat_minor": 4
}
