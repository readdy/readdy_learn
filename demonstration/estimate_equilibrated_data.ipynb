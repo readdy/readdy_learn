{
 "cells": [
  {
   "cell_type": "code",
   "execution_count": 1,
   "metadata": {
    "collapsed": true
   },
   "outputs": [],
   "source": [
    "%matplotlib inline\n",
    "import matplotlib.pyplot as plt\n",
    "import numpy as np\n",
    "\n",
    "# abbreviation for plotting functions in certain range\n",
    "def plot(f, xRange, *args, **kw):\n",
    "    yRange = np.fromiter(map(f,xRange), np.float)\n",
    "    plt.plot(xRange,yRange, *args, **kw)"
   ]
  },
  {
   "cell_type": "markdown",
   "metadata": {},
   "source": [
    "## Generate data - reversible bimolecular reaction\n",
    "System is $A+B\\leftrightarrow C$ with rates $\\kappa_1$ and $\\kappa_2$. \n",
    "The analytic solution to this is of the form\n",
    "$$a(t) = a_\\mathrm{eq} + z \\,t^{-3/2}$$ ????"
   ]
  },
  {
   "cell_type": "code",
   "execution_count": 40,
   "metadata": {},
   "outputs": [
    {
     "name": "stderr",
     "output_type": "stream",
     "text": [
      "[KMC] [2017-06-30 19:06:47] [INFO] Simulate for 200 steps\n"
     ]
    }
   ],
   "source": [
    "import generate_tools.kinetic_monte_carlo as kmc\n",
    "\n",
    "n_species = 3\n",
    "n_boxes = 1\n",
    "rate_1 = 2.\n",
    "rate_2 = 4.\n",
    "diffusivity_a = np.array([[0.]])\n",
    "diffusivity_b = np.array([[0.]])\n",
    "diffusivity_c = np.array([[0.]])\n",
    "diffusivity = np.array([diffusivity_a, diffusivity_b, diffusivity_c])\n",
    "init_state = np.array([[50, 50, 0]])\n",
    "species_names = [\"A\", \"B\", \"C\"]\n",
    "system = kmc.ReactionDiffusionSystem(diffusivity, 3, 1, init_state, species_names=species_names)\n",
    "system.add_fusion(\"A\", \"B\", \"C\", np.array([rate_1]))\n",
    "system.add_fission(\"C\", \"A\", \"B\", np.array([rate_2]))\n",
    "system.simulate(200)"
   ]
  },
  {
   "cell_type": "code",
   "execution_count": 41,
   "metadata": {
    "collapsed": true
   },
   "outputs": [],
   "source": [
    "def get_counts_config(n_frames):\n",
    "    counts, times = system.convert_events_to_time_series(n_frames=n_frames)\n",
    "    # flatten out spatial dimension and convert to float\n",
    "    counts = np.sum(counts, axis=1, dtype=np.float64)\n",
    "    config = system.get_trajectory_config()\n",
    "    return counts, times, config\n",
    "\n",
    "#cnts_30, times_30, cfg_30 = get_counts_config(30)\n",
    "#cnts_50, times_50, cfg_50 = get_counts_config(50)\n",
    "#cnts_100, times_100, cfg_100 = get_counts_config(100)\n",
    "#cnts_500, times_500, cfg_500 = get_counts_config(500)\n",
    "cnts_5000, times_5000, cfg_5000 = get_counts_config(5000)"
   ]
  },
  {
   "cell_type": "code",
   "execution_count": 42,
   "metadata": {},
   "outputs": [
    {
     "data": {
      "text/plain": [
       "(0, 0.1)"
      ]
     },
     "execution_count": 42,
     "metadata": {},
     "output_type": "execute_result"
    },
    {
     "data": {
      "image/png": "[encoded data removed]",
      "text/plain": [
       "<matplotlib.figure.Figure at 0x7fa912c88048>"
      ]
     },
     "metadata": {},
     "output_type": "display_data"
    }
   ],
   "source": [
    "def plot_counts(counts, times, config):\n",
    "    plt.plot(times, counts[:, config.types[\"A\"]], label=\"A\")\n",
    "    #plt.plot(times, counts[:, config.types[\"B\"]], label=\"B\")\n",
    "    plt.plot(times, counts[:, config.types[\"C\"]], label=\"C\")\n",
    "    #plot(lambda x: analytic_model_a(x, 2.), \n",
    "    #     times, label=r\"true model $a(t) = \\frac{a(0)}{1 + a(0)\\, \\kappa\\, t}$\")\n",
    "    plt.legend(loc=\"best\")\n",
    "    plt.xlabel(\"Time\")\n",
    "    plt.ylabel(\"Number of particles\")\n",
    "    plt.title(\"Number of frames \" + str(len(counts)))\n",
    "\n",
    "#plot_counts(cnts_30, times_30, cfg_30); plt.show();\n",
    "#plot_counts(cnts_50, times_50, cfg_50); plt.show();\n",
    "#plot_counts(cnts_100, times_100, cfg_100); plt.show();\n",
    "plot_counts(cnts_5000, times_5000, cfg_5000)#; plt.show();\n",
    "plot(lambda x: 10.+40.*np.power((120.*x+1.), -3./2.), times_5000, label=r\"blub\")\n",
    "plt.xlim(0,0.1)"
   ]
  },
  {
   "cell_type": "code",
   "execution_count": null,
   "metadata": {
    "collapsed": true
   },
   "outputs": [],
   "source": []
  }
 ],
 "metadata": {
  "kernelspec": {
   "display_name": "Python 3",
   "language": "python",
   "name": "python3"
  },
  "language_info": {
   "codemirror_mode": {
    "name": "ipython",
    "version": 3
   },
   "file_extension": ".py",
   "mimetype": "text/x-python",
   "name": "python",
   "nbconvert_exporter": "python",
   "pygments_lexer": "ipython3",
   "version": "3.6.1"
  }
 },
 "nbformat": 4,
 "nbformat_minor": 2
}
