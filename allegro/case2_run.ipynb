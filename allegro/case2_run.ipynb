{
 "cells": [
  {
   "cell_type": "code",
   "execution_count": 1,
   "metadata": {},
   "outputs": [],
   "source": [
    "import samplebase as sb\n",
    "\n",
    "import time\n",
    "import subprocess\n",
    "\n",
    "import path_utils as putils"
   ]
  },
  {
   "cell_type": "code",
   "execution_count": 2,
   "metadata": {},
   "outputs": [
    {
     "data": {
      "text/plain": [
       "'/data/scratch/chrisfr/workspace/data/rlearn-14'"
      ]
     },
     "execution_count": 2,
     "metadata": {},
     "output_type": "execute_result"
    }
   ],
   "source": [
    "data_dir = putils.data_dir(14)\n",
    "data_dir"
   ]
  },
  {
   "cell_type": "code",
   "execution_count": 3,
   "metadata": {},
   "outputs": [],
   "source": [
    "def run_allegro(script_name, data_dir, only_if_not_done=True):\n",
    "    # gather list of tuples: (sampleprefix, samplename)\n",
    "    samples = sb.list_of_samples(data_dir)\n",
    "    sample_paths = []\n",
    "    for s in samples:\n",
    "        if only_if_not_done:\n",
    "            if ( len(s.result)==0 ) and (not s.being_processed):\n",
    "                sample_paths.append((data_dir, s.name))\n",
    "        else:\n",
    "            if not s.being_processed:\n",
    "                sample_paths.append((data_dir, s.name))\n",
    "\n",
    "    # transform to list of \"python run_sample.py prefix name\"\n",
    "    commands = []\n",
    "    for s in sample_paths:\n",
    "        commands.append(\"python \"+script_name+\".py \" + s[0] + \" \" + s[1])\n",
    "\n",
    "    # for each in list do an sbatch enqueue_command.sh\n",
    "    for c in commands:\n",
    "        subprocess.call([\"sbatch\", \"enqueue_command.sh\", \"%s\" % c])\n",
    "        # print([\"sbatch\", \"enqueue_command.sh\", \"%s\" % c])\n",
    "        time.sleep(0.2)"
   ]
  },
  {
   "cell_type": "code",
   "execution_count": 4,
   "metadata": {},
   "outputs": [],
   "source": [
    "run_allegro(\"run_sample\", data_dir)"
   ]
  },
  {
   "cell_type": "code",
   "execution_count": null,
   "metadata": {},
   "outputs": [],
   "source": []
  }
 ],
 "metadata": {
  "kernelspec": {
   "display_name": "Python 3",
   "language": "python",
   "name": "python3"
  },
  "language_info": {
   "codemirror_mode": {
    "name": "ipython",
    "version": 3
   },
   "file_extension": ".py",
   "mimetype": "text/x-python",
   "name": "python",
   "nbconvert_exporter": "python",
   "pygments_lexer": "ipython3",
   "version": "3.6.4"
  }
 },
 "nbformat": 4,
 "nbformat_minor": 2
}
